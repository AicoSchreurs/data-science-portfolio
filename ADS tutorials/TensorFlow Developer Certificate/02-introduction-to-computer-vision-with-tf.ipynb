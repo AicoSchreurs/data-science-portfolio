{
 "cells": [
  {
   "cell_type": "markdown",
   "id": "6948eb87",
   "metadata": {},
   "source": [
    "### Introduction to neural network classification with TensorFlow\n",
    "In this notebook we're going to learn how to write neural networks for classification problems.\n",
    "\n",
    "A classification is where you try to classify something as one thing or another.\n",
    "\n",
    "A few types of classification problems:\n",
    "\n",
    "* Binary classification\n",
    "* Mutliclass classification\n",
    "* Multilabel classification\n"
   ]
  },
  {
   "cell_type": "markdown",
   "id": "ada8375b",
   "metadata": {},
   "source": [
    "### Creating data to view and fit"
   ]
  },
  {
   "cell_type": "code",
   "execution_count": 16,
   "id": "e733ed3b",
   "metadata": {},
   "outputs": [],
   "source": [
    "from sklearn.datasets import make_circles\n",
    "\n",
    "# Make 2000 examples\n",
    "n_samples = 2000\n",
    "\n",
    "# Create circles\n",
    "X, y = make_circles(n_samples,\n",
    "                    noise=0.03,\n",
    "                    random_state=42)"
   ]
  },
  {
   "cell_type": "code",
   "execution_count": 17,
   "id": "fea94724",
   "metadata": {},
   "outputs": [
    {
     "data": {
      "text/plain": [
       "array([[ 0.47109875, -0.58158579],\n",
       "       [-0.61696058,  0.80818956],\n",
       "       [-0.3999557 ,  0.70796779],\n",
       "       ...,\n",
       "       [ 0.62826832, -0.73910589],\n",
       "       [-0.78365851,  0.16358464],\n",
       "       [ 0.58442953,  0.56308224]])"
      ]
     },
     "execution_count": 17,
     "metadata": {},
     "output_type": "execute_result"
    }
   ],
   "source": [
    "# Check out features\n",
    "X"
   ]
  },
  {
   "cell_type": "code",
   "execution_count": 18,
   "id": "c132bd41",
   "metadata": {},
   "outputs": [
    {
     "data": {
      "text/plain": [
       "array([1, 0, 1, 0, 1, 1, 0, 1, 0, 1], dtype=int64)"
      ]
     },
     "execution_count": 18,
     "metadata": {},
     "output_type": "execute_result"
    }
   ],
   "source": [
    "# Check the labels\n",
    "y[:10]"
   ]
  },
  {
   "cell_type": "code",
   "execution_count": 19,
   "id": "92116a0a",
   "metadata": {},
   "outputs": [
    {
     "data": {
      "text/plain": [
       "(array([ 0.47109875, -0.61696058, -0.3999557 , ...,  0.62826832,\n",
       "        -0.78365851,  0.58442953]),\n",
       " array([-0.58158579,  0.80818956,  0.70796779, ..., -0.73910589,\n",
       "         0.16358464,  0.56308224]))"
      ]
     },
     "execution_count": 19,
     "metadata": {},
     "output_type": "execute_result"
    }
   ],
   "source": [
    "X[:,0], X[:, 1]"
   ]
  },
  {
   "cell_type": "code",
   "execution_count": 20,
   "id": "716ca2e6",
   "metadata": {},
   "outputs": [
    {
     "data": {
      "text/html": [
       "<div>\n",
       "<style scoped>\n",
       "    .dataframe tbody tr th:only-of-type {\n",
       "        vertical-align: middle;\n",
       "    }\n",
       "\n",
       "    .dataframe tbody tr th {\n",
       "        vertical-align: top;\n",
       "    }\n",
       "\n",
       "    .dataframe thead th {\n",
       "        text-align: right;\n",
       "    }\n",
       "</style>\n",
       "<table border=\"1\" class=\"dataframe\">\n",
       "  <thead>\n",
       "    <tr style=\"text-align: right;\">\n",
       "      <th></th>\n",
       "      <th>X0</th>\n",
       "      <th>X1</th>\n",
       "      <th>label</th>\n",
       "    </tr>\n",
       "  </thead>\n",
       "  <tbody>\n",
       "    <tr>\n",
       "      <th>0</th>\n",
       "      <td>0.471099</td>\n",
       "      <td>-0.581586</td>\n",
       "      <td>1</td>\n",
       "    </tr>\n",
       "    <tr>\n",
       "      <th>1</th>\n",
       "      <td>-0.616961</td>\n",
       "      <td>0.808190</td>\n",
       "      <td>0</td>\n",
       "    </tr>\n",
       "    <tr>\n",
       "      <th>2</th>\n",
       "      <td>-0.399956</td>\n",
       "      <td>0.707968</td>\n",
       "      <td>1</td>\n",
       "    </tr>\n",
       "    <tr>\n",
       "      <th>3</th>\n",
       "      <td>0.829385</td>\n",
       "      <td>-0.600573</td>\n",
       "      <td>0</td>\n",
       "    </tr>\n",
       "    <tr>\n",
       "      <th>4</th>\n",
       "      <td>-0.164191</td>\n",
       "      <td>0.761289</td>\n",
       "      <td>1</td>\n",
       "    </tr>\n",
       "    <tr>\n",
       "      <th>...</th>\n",
       "      <td>...</td>\n",
       "      <td>...</td>\n",
       "      <td>...</td>\n",
       "    </tr>\n",
       "    <tr>\n",
       "      <th>1995</th>\n",
       "      <td>0.568918</td>\n",
       "      <td>0.583759</td>\n",
       "      <td>1</td>\n",
       "    </tr>\n",
       "    <tr>\n",
       "      <th>1996</th>\n",
       "      <td>-0.222517</td>\n",
       "      <td>0.756905</td>\n",
       "      <td>1</td>\n",
       "    </tr>\n",
       "    <tr>\n",
       "      <th>1997</th>\n",
       "      <td>0.628268</td>\n",
       "      <td>-0.739106</td>\n",
       "      <td>0</td>\n",
       "    </tr>\n",
       "    <tr>\n",
       "      <th>1998</th>\n",
       "      <td>-0.783659</td>\n",
       "      <td>0.163585</td>\n",
       "      <td>1</td>\n",
       "    </tr>\n",
       "    <tr>\n",
       "      <th>1999</th>\n",
       "      <td>0.584430</td>\n",
       "      <td>0.563082</td>\n",
       "      <td>1</td>\n",
       "    </tr>\n",
       "  </tbody>\n",
       "</table>\n",
       "<p>2000 rows × 3 columns</p>\n",
       "</div>"
      ],
      "text/plain": [
       "            X0        X1  label\n",
       "0     0.471099 -0.581586      1\n",
       "1    -0.616961  0.808190      0\n",
       "2    -0.399956  0.707968      1\n",
       "3     0.829385 -0.600573      0\n",
       "4    -0.164191  0.761289      1\n",
       "...        ...       ...    ...\n",
       "1995  0.568918  0.583759      1\n",
       "1996 -0.222517  0.756905      1\n",
       "1997  0.628268 -0.739106      0\n",
       "1998 -0.783659  0.163585      1\n",
       "1999  0.584430  0.563082      1\n",
       "\n",
       "[2000 rows x 3 columns]"
      ]
     },
     "execution_count": 20,
     "metadata": {},
     "output_type": "execute_result"
    }
   ],
   "source": [
    "import pandas as pd\n",
    "circles = pd.DataFrame({\"X0\":X[:, 0], \"X1\":X[:, 1], \"label\":y})\n",
    "circles"
   ]
  },
  {
   "cell_type": "code",
   "execution_count": 21,
   "id": "820a163f",
   "metadata": {},
   "outputs": [
    {
     "data": {
      "text/plain": [
       "1    1000\n",
       "0    1000\n",
       "Name: label, dtype: int64"
      ]
     },
     "execution_count": 21,
     "metadata": {},
     "output_type": "execute_result"
    }
   ],
   "source": [
    "circles[\"label\"].value_counts()"
   ]
  },
  {
   "cell_type": "code",
   "execution_count": 22,
   "id": "ddc7490b",
   "metadata": {},
   "outputs": [
    {
     "data": {
      "image/png": "[encoded data removed]",
      "text/plain": [
       "<Figure size 432x288 with 1 Axes>"
      ]
     },
     "metadata": {
      "needs_background": "light"
     },
     "output_type": "display_data"
    }
   ],
   "source": [
    "# Visualize with a plot\n",
    "import matplotlib.pyplot as plt\n",
    "plt.scatter(X[:, 0], X[:, 1], c=y, cmap=plt.cm.RdYlBu);\n",
    "     "
   ]
  },
  {
   "cell_type": "code",
   "execution_count": 23,
   "id": "0b2f6e13",
   "metadata": {},
   "outputs": [
    {
     "data": {
      "text/plain": [
       "((2000, 2), (2000,))"
      ]
     },
     "execution_count": 23,
     "metadata": {},
     "output_type": "execute_result"
    }
   ],
   "source": [
    "\n",
    "# Check the shapes of our features and labels\n",
    "X.shape, y.shape\n",
    "     "
   ]
  },
  {
   "cell_type": "code",
   "execution_count": 24,
   "id": "9e56cdb6",
   "metadata": {},
   "outputs": [
    {
     "data": {
      "text/plain": [
       "(2000, 2000)"
      ]
     },
     "execution_count": 24,
     "metadata": {},
     "output_type": "execute_result"
    }
   ],
   "source": [
    "# How many samples we're working\n",
    "len(X), len(y)\n",
    "     "
   ]
  },
  {
   "cell_type": "code",
   "execution_count": 25,
   "id": "e87b9a81",
   "metadata": {},
   "outputs": [
    {
     "data": {
      "text/plain": [
       "(array([ 0.47109875, -0.58158579]), 1)"
      ]
     },
     "execution_count": 25,
     "metadata": {},
     "output_type": "execute_result"
    }
   ],
   "source": [
    "# View the first example of features and labels\n",
    "X[0], y[0]"
   ]
  },
  {
   "cell_type": "markdown",
   "id": "176e1e60",
   "metadata": {},
   "source": [
    "### Steps in modelling\n",
    "The steps in modelling with TensorFlow are typically:\n",
    "\n",
    "1. Create or import a model\n",
    "2. Compile the model\n",
    "3. Fit the model\n",
    "4. Evaluate the model\n",
    "5. Tweak\n",
    "6. Evaluate"
   ]
  },
  {
   "cell_type": "code",
   "execution_count": 26,
   "id": "5874cbcd",
   "metadata": {},
   "outputs": [
    {
     "data": {
      "text/plain": [
       "'2.6.0'"
      ]
     },
     "execution_count": 26,
     "metadata": {},
     "output_type": "execute_result"
    }
   ],
   "source": [
    "# Import TensorFlow\n",
    "import tensorflow as tf\n",
    "tf.__version__\n",
    "     "
   ]
  },
  {
   "cell_type": "code",
   "execution_count": 27,
   "id": "9ccd5e2a",
   "metadata": {},
   "outputs": [
    {
     "name": "stdout",
     "output_type": "stream",
     "text": [
      "Epoch 1/5\n",
      "63/63 [==============================] - 1s 2ms/step - loss: 1.5871 - accuracy: 0.4770\n",
      "Epoch 2/5\n",
      "63/63 [==============================] - 0s 2ms/step - loss: 0.7041 - accuracy: 0.4970\n",
      "Epoch 3/5\n",
      "63/63 [==============================] - 0s 2ms/step - loss: 0.6953 - accuracy: 0.4950\n",
      "Epoch 4/5\n",
      "63/63 [==============================] - 0s 2ms/step - loss: 0.6943 - accuracy: 0.4845\n",
      "Epoch 5/5\n",
      "63/63 [==============================] - 0s 2ms/step - loss: 0.6940 - accuracy: 0.4930\n"
     ]
    },
    {
     "data": {
      "text/plain": [
       "<keras.callbacks.History at 0x2203f3d4d60>"
      ]
     },
     "execution_count": 27,
     "metadata": {},
     "output_type": "execute_result"
    }
   ],
   "source": [
    "# Set the random seed\n",
    "tf.random.set_seed(42)\n",
    "\n",
    "# 1. Create the model using the Sequential API\n",
    "model_1 = tf.keras.Sequential([\n",
    "  tf.keras.layers.Dense(1)                              \n",
    "])\n",
    "\n",
    "# 2. Compile the model\n",
    "model_1.compile(loss=tf.keras.losses.BinaryCrossentropy(),\n",
    "                optimizer=tf.keras.optimizers.SGD(),\n",
    "                metrics=[\"accuracy\"])\n",
    "\n",
    "# 3. Fit the model\n",
    "model_1.fit(X, y, epochs=5)"
   ]
  },
  {
   "cell_type": "code",
   "execution_count": 28,
   "id": "c5747d2a",
   "metadata": {},
   "outputs": [
    {
     "name": "stdout",
     "output_type": "stream",
     "text": [
      "63/63 [==============================] - 0s 1ms/step - loss: 0.6932 - accuracy: 0.4300\n"
     ]
    },
    {
     "data": {
      "text/plain": [
       "[0.6931992173194885, 0.4300000071525574]"
      ]
     },
     "execution_count": 28,
     "metadata": {},
     "output_type": "execute_result"
    }
   ],
   "source": [
    "# Let's try and improve our model by training for longer...\n",
    "model_1.fit(X, y, epochs=200, verbose=0)\n",
    "model_1.evaluate(X, y)"
   ]
  },
  {
   "cell_type": "markdown",
   "id": "afc38861",
   "metadata": {},
   "source": [
    "Since we're working on a binary classification problem and our model is getting around ~50% accuracy... it's performing as if it's guessing.\n",
    "\n",
    "So let's step things up a notch and add an extra layer."
   ]
  },
  {
   "cell_type": "code",
   "execution_count": 29,
   "id": "bdfb12a9",
   "metadata": {},
   "outputs": [
    {
     "data": {
      "text/plain": [
       "<keras.callbacks.History at 0x222bb9b7100>"
      ]
     },
     "execution_count": 29,
     "metadata": {},
     "output_type": "execute_result"
    }
   ],
   "source": [
    "# Set the random seed\n",
    "tf.random.set_seed(42)\n",
    "\n",
    "# 1. Create a model, this time with 2 layers\n",
    "model_2 = tf.keras.Sequential([\n",
    "  tf.keras.layers.Dense(1),\n",
    "    # add an extra Dense layer to see what happens\n",
    "  tf.keras.layers.Dense(1)                                                             \n",
    "])\n",
    "\n",
    "# 2. Compile the model\n",
    "model_2.compile(loss=tf.keras.losses.BinaryCrossentropy(),\n",
    "                optimizer=tf.keras.optimizers.SGD(),\n",
    "                metrics=[\"accuracy\"])\n",
    "\n",
    "# 3. Fit the model\n",
    "model_2.fit(X, y, epochs=100, verbose=0)"
   ]
  },
  {
   "cell_type": "code",
   "execution_count": 30,
   "id": "5dfa84c4",
   "metadata": {},
   "outputs": [
    {
     "name": "stdout",
     "output_type": "stream",
     "text": [
      "63/63 [==============================] - 0s 1ms/step - loss: 0.6937 - accuracy: 0.5000\n"
     ]
    },
    {
     "data": {
      "text/plain": [
       "[0.6936753392219543, 0.5]"
      ]
     },
     "execution_count": 30,
     "metadata": {},
     "output_type": "execute_result"
    }
   ],
   "source": [
    "# 4. Evaluate the model\n",
    "model_2.evaluate(X, y)"
   ]
  },
  {
   "cell_type": "markdown",
   "id": "1de175c9",
   "metadata": {},
   "source": [
    "We now have a slighly better accuracy but still performing as if it's guessing tail/head 50/50\n",
    "\n",
    "So how can we improve our model?"
   ]
  },
  {
   "cell_type": "markdown",
   "id": "1f9b8556",
   "metadata": {},
   "source": [
    "### Improving our model\n",
    "Let's look into our bag of tricks to see how we can improve our model.\n",
    "\n",
    "- Create a model - we might to add more layers or increase the number of hidden units within a layer.\n",
    "- Compiling a model - here we might to choose a different optimization function such as Adam instead of SGD.\n",
    "- Fitting a model - perhaps we might fit our model for more epochs (leave it training for longer)."
   ]
  },
  {
   "cell_type": "code",
   "execution_count": 31,
   "id": "799cb3c3",
   "metadata": {},
   "outputs": [
    {
     "data": {
      "text/plain": [
       "<keras.callbacks.History at 0x222c533a880>"
      ]
     },
     "execution_count": 31,
     "metadata": {},
     "output_type": "execute_result"
    }
   ],
   "source": [
    "# Set the random seed\n",
    "tf.random.set_seed(42)\n",
    "\n",
    "# 1. Create the model (this time 3 layers)\n",
    "model_3 = tf.keras.Sequential([\n",
    "  tf.keras.layers.Dense(100), # add 100 dense neurons\n",
    "  tf.keras.layers.Dense(10), # add another layer with 10 neurons\n",
    "  tf.keras.layers.Dense(1)                             \n",
    "])\n",
    "\n",
    "# 2. Compile the model\n",
    "model_3.compile(loss=tf.keras.losses.BinaryCrossentropy(), #BinaryCrossentropy because we have binary classification\n",
    "                optimizer=tf.keras.optimizers.Adam(),\n",
    "                metrics=[\"accuracy\"])\n",
    "\n",
    "# 3. Fit the model\n",
    "model_3.fit(X, y, epochs=100, verbose=0)"
   ]
  },
  {
   "cell_type": "code",
   "execution_count": 32,
   "id": "ea531248",
   "metadata": {},
   "outputs": [
    {
     "name": "stdout",
     "output_type": "stream",
     "text": [
      "63/63 [==============================] - 0s 2ms/step - loss: 0.6963 - accuracy: 0.5730\n"
     ]
    },
    {
     "data": {
      "text/plain": [
       "[0.696308434009552, 0.5730000138282776]"
      ]
     },
     "execution_count": 32,
     "metadata": {},
     "output_type": "execute_result"
    }
   ],
   "source": [
    "# 4. Evaluate the model\n",
    "model_3.evaluate(X, y)\n",
    "     "
   ]
  },
  {
   "cell_type": "markdown",
   "id": "554882e7",
   "metadata": {},
   "source": [
    "A slighty improved again, but still not good enough. If we don't know why the model is performing badly or there is something going on the data you need to remember: `visualize, visualize and visualize`"
   ]
  },
  {
   "cell_type": "markdown",
   "id": "f786fe4f",
   "metadata": {},
   "source": [
    "To visulize our model's predictions, let's create a function plot_decision_boundary(), this function will:\n",
    "\n",
    "1. Take in a trained model, features (X) and labels (y)\n",
    "2. Create a meshgrid of the different X values\n",
    "3. Make predictions across the meshgrid\n",
    "4. Plot the predictions as well as a line between zones (where each unique class falls)"
   ]
  },
  {
   "cell_type": "code",
   "execution_count": 33,
   "id": "68410277",
   "metadata": {},
   "outputs": [],
   "source": [
    "import numpy as np"
   ]
  },
  {
   "cell_type": "code",
   "execution_count": 34,
   "id": "fe9064d5",
   "metadata": {},
   "outputs": [],
   "source": [
    "def plot_decision_boundary(model, X, y):\n",
    "  \"\"\"\n",
    "  Plots the decision boundary created by a model predicting on X.\n",
    "  This function was inspired by two resources:\n",
    "   1. https://cs231n.github.io/neural-networks-case-study/\n",
    "   2. https://github.com/madewithml/basics/blob/master/notebooks/09_Multilayer_Perceptrons/09_TF_Multilayer_Perceptrons.ipynb \n",
    "  \"\"\"\n",
    "  # Define the axis boundaries of the plot and create a meshgrid\n",
    "  x_min, x_max = X[:, 0].min() - 0.1, X[:, 0].max() + 0.1\n",
    "  y_min, y_max = X[:, 1].min() - 0.1, X[:, 1].max() + 0.1\n",
    "  xx, yy = np.meshgrid(np.linspace(x_min, x_max, 100),\n",
    "                       np.linspace(y_min, y_max, 100))\n",
    "  \n",
    "  # Create X value (we're going to make predictions on these)\n",
    "  x_in = np.c_[xx.ravel(), yy.ravel()] # stack 2D arrays together\n",
    "\n",
    "  # Make predictions\n",
    "  y_pred = model.predict(x_in)\n",
    "\n",
    "  # Check for multi-class\n",
    "  if len(y_pred[0]) > 1:\n",
    "    print(\"doing multiclass classification\")\n",
    "    # We have to reshape our prediction to get them ready for plotting\n",
    "    y_pred = np.argmax(y_pred, axis=1).reshape(xx.shape)\n",
    "  else:\n",
    "    print(\"doing binary classification\")\n",
    "    y_pred = np.round(y_pred).reshape(xx.shape)\n",
    "  \n",
    "  # Plot the decision boundary\n",
    "  plt.contourf(xx, yy, y_pred, cmap=plt.cm.RdYlBu, alpha=0.7)\n",
    "  plt.scatter(X[:, 0], X[:, 1], c=y, s=40, cmap=plt.cm.RdYlBu)\n",
    "  plt.xlim(xx.min(), xx.max())\n",
    "  plt.ylim(yy.min(), yy.max())"
   ]
  },
  {
   "cell_type": "code",
   "execution_count": 35,
   "id": "0a43b2de",
   "metadata": {},
   "outputs": [
    {
     "name": "stdout",
     "output_type": "stream",
     "text": [
      "doing binary classification\n"
     ]
    },
    {
     "data": {
      "image/png": "[encoded data removed]",
      "text/plain": [
       "<Figure size 432x288 with 1 Axes>"
      ]
     },
     "metadata": {
      "needs_background": "light"
     },
     "output_type": "display_data"
    }
   ],
   "source": [
    "# Check out the predictions our model is making\n",
    "plot_decision_boundary(model=model_3,\n",
    "                       X=X,\n",
    "                       y=y)"
   ]
  },
  {
   "cell_type": "code",
   "execution_count": 36,
   "id": "35367f20",
   "metadata": {},
   "outputs": [
    {
     "name": "stdout",
     "output_type": "stream",
     "text": [
      "Epoch 1/100\n"
     ]
    },
    {
     "ename": "ValueError",
     "evalue": "in user code:\n\n    C:\\Users\\A\\anaconda3\\envs\\tf-gpu\\lib\\site-packages\\keras\\engine\\training.py:853 train_function  *\n        return step_function(self, iterator)\n    C:\\Users\\A\\anaconda3\\envs\\tf-gpu\\lib\\site-packages\\keras\\engine\\training.py:842 step_function  **\n        outputs = model.distribute_strategy.run(run_step, args=(data,))\n    C:\\Users\\A\\anaconda3\\envs\\tf-gpu\\lib\\site-packages\\tensorflow\\python\\distribute\\distribute_lib.py:1286 run\n        return self._extended.call_for_each_replica(fn, args=args, kwargs=kwargs)\n    C:\\Users\\A\\anaconda3\\envs\\tf-gpu\\lib\\site-packages\\tensorflow\\python\\distribute\\distribute_lib.py:2849 call_for_each_replica\n        return self._call_for_each_replica(fn, args, kwargs)\n    C:\\Users\\A\\anaconda3\\envs\\tf-gpu\\lib\\site-packages\\tensorflow\\python\\distribute\\distribute_lib.py:3632 _call_for_each_replica\n        return fn(*args, **kwargs)\n    C:\\Users\\A\\anaconda3\\envs\\tf-gpu\\lib\\site-packages\\keras\\engine\\training.py:835 run_step  **\n        outputs = model.train_step(data)\n    C:\\Users\\A\\anaconda3\\envs\\tf-gpu\\lib\\site-packages\\keras\\engine\\training.py:787 train_step\n        y_pred = self(x, training=True)\n    C:\\Users\\A\\anaconda3\\envs\\tf-gpu\\lib\\site-packages\\keras\\engine\\base_layer.py:1020 __call__\n        input_spec.assert_input_compatibility(self.input_spec, inputs, self.name)\n    C:\\Users\\A\\anaconda3\\envs\\tf-gpu\\lib\\site-packages\\keras\\engine\\input_spec.py:250 assert_input_compatibility\n        raise ValueError(\n\n    ValueError: Input 0 of layer sequential_2 is incompatible with the layer: expected axis -1 of input shape to have value 2 but received input with shape (None, 1)\n",
     "output_type": "error",
     "traceback": [
      "\u001b[1;31m---------------------------------------------------------------------------\u001b[0m",
      "\u001b[1;31mValueError\u001b[0m                                Traceback (most recent call last)",
      "Input \u001b[1;32mIn [36]\u001b[0m, in \u001b[0;36m<cell line: 16>\u001b[1;34m()\u001b[0m\n\u001b[0;32m     13\u001b[0m y_reg_test \u001b[38;5;241m=\u001b[39m y_regression[\u001b[38;5;241m150\u001b[39m:]\n\u001b[0;32m     15\u001b[0m \u001b[38;5;66;03m# Fit our model to the regression data\u001b[39;00m\n\u001b[1;32m---> 16\u001b[0m \u001b[43mmodel_3\u001b[49m\u001b[38;5;241;43m.\u001b[39;49m\u001b[43mfit\u001b[49m\u001b[43m(\u001b[49m\u001b[43mX_reg_train\u001b[49m\u001b[43m,\u001b[49m\u001b[43m \u001b[49m\u001b[43my_reg_train\u001b[49m\u001b[43m,\u001b[49m\u001b[43m \u001b[49m\u001b[43mepochs\u001b[49m\u001b[38;5;241;43m=\u001b[39;49m\u001b[38;5;241;43m100\u001b[39;49m\u001b[43m)\u001b[49m\n",
      "File \u001b[1;32m~\\anaconda3\\envs\\tf-gpu\\lib\\site-packages\\keras\\engine\\training.py:1184\u001b[0m, in \u001b[0;36mModel.fit\u001b[1;34m(self, x, y, batch_size, epochs, verbose, callbacks, validation_split, validation_data, shuffle, class_weight, sample_weight, initial_epoch, steps_per_epoch, validation_steps, validation_batch_size, validation_freq, max_queue_size, workers, use_multiprocessing)\u001b[0m\n\u001b[0;32m   1177\u001b[0m \u001b[38;5;28;01mwith\u001b[39;00m tf\u001b[38;5;241m.\u001b[39mprofiler\u001b[38;5;241m.\u001b[39mexperimental\u001b[38;5;241m.\u001b[39mTrace(\n\u001b[0;32m   1178\u001b[0m     \u001b[38;5;124m'\u001b[39m\u001b[38;5;124mtrain\u001b[39m\u001b[38;5;124m'\u001b[39m,\n\u001b[0;32m   1179\u001b[0m     epoch_num\u001b[38;5;241m=\u001b[39mepoch,\n\u001b[0;32m   1180\u001b[0m     step_num\u001b[38;5;241m=\u001b[39mstep,\n\u001b[0;32m   1181\u001b[0m     batch_size\u001b[38;5;241m=\u001b[39mbatch_size,\n\u001b[0;32m   1182\u001b[0m     _r\u001b[38;5;241m=\u001b[39m\u001b[38;5;241m1\u001b[39m):\n\u001b[0;32m   1183\u001b[0m   callbacks\u001b[38;5;241m.\u001b[39mon_train_batch_begin(step)\n\u001b[1;32m-> 1184\u001b[0m   tmp_logs \u001b[38;5;241m=\u001b[39m \u001b[38;5;28;43mself\u001b[39;49m\u001b[38;5;241;43m.\u001b[39;49m\u001b[43mtrain_function\u001b[49m\u001b[43m(\u001b[49m\u001b[43miterator\u001b[49m\u001b[43m)\u001b[49m\n\u001b[0;32m   1185\u001b[0m   \u001b[38;5;28;01mif\u001b[39;00m data_handler\u001b[38;5;241m.\u001b[39mshould_sync:\n\u001b[0;32m   1186\u001b[0m     context\u001b[38;5;241m.\u001b[39masync_wait()\n",
      "File \u001b[1;32m~\\anaconda3\\envs\\tf-gpu\\lib\\site-packages\\tensorflow\\python\\eager\\def_function.py:885\u001b[0m, in \u001b[0;36mFunction.__call__\u001b[1;34m(self, *args, **kwds)\u001b[0m\n\u001b[0;32m    882\u001b[0m compiler \u001b[38;5;241m=\u001b[39m \u001b[38;5;124m\"\u001b[39m\u001b[38;5;124mxla\u001b[39m\u001b[38;5;124m\"\u001b[39m \u001b[38;5;28;01mif\u001b[39;00m \u001b[38;5;28mself\u001b[39m\u001b[38;5;241m.\u001b[39m_jit_compile \u001b[38;5;28;01melse\u001b[39;00m \u001b[38;5;124m\"\u001b[39m\u001b[38;5;124mnonXla\u001b[39m\u001b[38;5;124m\"\u001b[39m\n\u001b[0;32m    884\u001b[0m \u001b[38;5;28;01mwith\u001b[39;00m OptionalXlaContext(\u001b[38;5;28mself\u001b[39m\u001b[38;5;241m.\u001b[39m_jit_compile):\n\u001b[1;32m--> 885\u001b[0m   result \u001b[38;5;241m=\u001b[39m \u001b[38;5;28mself\u001b[39m\u001b[38;5;241m.\u001b[39m_call(\u001b[38;5;241m*\u001b[39margs, \u001b[38;5;241m*\u001b[39m\u001b[38;5;241m*\u001b[39mkwds)\n\u001b[0;32m    887\u001b[0m new_tracing_count \u001b[38;5;241m=\u001b[39m \u001b[38;5;28mself\u001b[39m\u001b[38;5;241m.\u001b[39mexperimental_get_tracing_count()\n\u001b[0;32m    888\u001b[0m without_tracing \u001b[38;5;241m=\u001b[39m (tracing_count \u001b[38;5;241m==\u001b[39m new_tracing_count)\n",
      "File \u001b[1;32m~\\anaconda3\\envs\\tf-gpu\\lib\\site-packages\\tensorflow\\python\\eager\\def_function.py:917\u001b[0m, in \u001b[0;36mFunction._call\u001b[1;34m(self, *args, **kwds)\u001b[0m\n\u001b[0;32m    914\u001b[0m   \u001b[38;5;28mself\u001b[39m\u001b[38;5;241m.\u001b[39m_lock\u001b[38;5;241m.\u001b[39mrelease()\n\u001b[0;32m    915\u001b[0m   \u001b[38;5;66;03m# In this case we have created variables on the first call, so we run the\u001b[39;00m\n\u001b[0;32m    916\u001b[0m   \u001b[38;5;66;03m# defunned version which is guaranteed to never create variables.\u001b[39;00m\n\u001b[1;32m--> 917\u001b[0m   \u001b[38;5;28;01mreturn\u001b[39;00m \u001b[38;5;28mself\u001b[39m\u001b[38;5;241m.\u001b[39m_stateless_fn(\u001b[38;5;241m*\u001b[39margs, \u001b[38;5;241m*\u001b[39m\u001b[38;5;241m*\u001b[39mkwds)  \u001b[38;5;66;03m# pylint: disable=not-callable\u001b[39;00m\n\u001b[0;32m    918\u001b[0m \u001b[38;5;28;01melif\u001b[39;00m \u001b[38;5;28mself\u001b[39m\u001b[38;5;241m.\u001b[39m_stateful_fn \u001b[38;5;129;01mis\u001b[39;00m \u001b[38;5;129;01mnot\u001b[39;00m \u001b[38;5;28;01mNone\u001b[39;00m:\n\u001b[0;32m    919\u001b[0m   \u001b[38;5;66;03m# Release the lock early so that multiple threads can perform the call\u001b[39;00m\n\u001b[0;32m    920\u001b[0m   \u001b[38;5;66;03m# in parallel.\u001b[39;00m\n\u001b[0;32m    921\u001b[0m   \u001b[38;5;28mself\u001b[39m\u001b[38;5;241m.\u001b[39m_lock\u001b[38;5;241m.\u001b[39mrelease()\n",
      "File \u001b[1;32m~\\anaconda3\\envs\\tf-gpu\\lib\\site-packages\\tensorflow\\python\\eager\\function.py:3038\u001b[0m, in \u001b[0;36mFunction.__call__\u001b[1;34m(self, *args, **kwargs)\u001b[0m\n\u001b[0;32m   3035\u001b[0m \u001b[38;5;124;03m\"\"\"Calls a graph function specialized to the inputs.\"\"\"\u001b[39;00m\n\u001b[0;32m   3036\u001b[0m \u001b[38;5;28;01mwith\u001b[39;00m \u001b[38;5;28mself\u001b[39m\u001b[38;5;241m.\u001b[39m_lock:\n\u001b[0;32m   3037\u001b[0m   (graph_function,\n\u001b[1;32m-> 3038\u001b[0m    filtered_flat_args) \u001b[38;5;241m=\u001b[39m \u001b[38;5;28;43mself\u001b[39;49m\u001b[38;5;241;43m.\u001b[39;49m\u001b[43m_maybe_define_function\u001b[49m\u001b[43m(\u001b[49m\u001b[43margs\u001b[49m\u001b[43m,\u001b[49m\u001b[43m \u001b[49m\u001b[43mkwargs\u001b[49m\u001b[43m)\u001b[49m\n\u001b[0;32m   3039\u001b[0m \u001b[38;5;28;01mreturn\u001b[39;00m graph_function\u001b[38;5;241m.\u001b[39m_call_flat(\n\u001b[0;32m   3040\u001b[0m     filtered_flat_args, captured_inputs\u001b[38;5;241m=\u001b[39mgraph_function\u001b[38;5;241m.\u001b[39mcaptured_inputs)\n",
      "File \u001b[1;32m~\\anaconda3\\envs\\tf-gpu\\lib\\site-packages\\tensorflow\\python\\eager\\function.py:3459\u001b[0m, in \u001b[0;36mFunction._maybe_define_function\u001b[1;34m(self, args, kwargs)\u001b[0m\n\u001b[0;32m   3449\u001b[0m \u001b[38;5;28;01mwith\u001b[39;00m ag_ctx\u001b[38;5;241m.\u001b[39mControlStatusCtx(\n\u001b[0;32m   3450\u001b[0m     status\u001b[38;5;241m=\u001b[39mag_status, options\u001b[38;5;241m=\u001b[39m\u001b[38;5;28mself\u001b[39m\u001b[38;5;241m.\u001b[39m_autograph_options):\n\u001b[0;32m   3451\u001b[0m \n\u001b[1;32m   (...)\u001b[0m\n\u001b[0;32m   3454\u001b[0m   \u001b[38;5;66;03m# and 2. there's no provided input signature\u001b[39;00m\n\u001b[0;32m   3455\u001b[0m   \u001b[38;5;66;03m# and 3. there's been a cache miss for this calling context\u001b[39;00m\n\u001b[0;32m   3456\u001b[0m   \u001b[38;5;28;01mif\u001b[39;00m (\u001b[38;5;28mself\u001b[39m\u001b[38;5;241m.\u001b[39m_experimental_relax_shapes \u001b[38;5;129;01mand\u001b[39;00m\n\u001b[0;32m   3457\u001b[0m       \u001b[38;5;28mself\u001b[39m\u001b[38;5;241m.\u001b[39minput_signature \u001b[38;5;129;01mis\u001b[39;00m \u001b[38;5;28;01mNone\u001b[39;00m \u001b[38;5;129;01mand\u001b[39;00m\n\u001b[0;32m   3458\u001b[0m       call_context_key \u001b[38;5;129;01min\u001b[39;00m \u001b[38;5;28mself\u001b[39m\u001b[38;5;241m.\u001b[39m_function_cache\u001b[38;5;241m.\u001b[39mmissed):\n\u001b[1;32m-> 3459\u001b[0m     \u001b[38;5;28;01mreturn\u001b[39;00m \u001b[38;5;28;43mself\u001b[39;49m\u001b[38;5;241;43m.\u001b[39;49m\u001b[43m_define_function_with_shape_relaxation\u001b[49m\u001b[43m(\u001b[49m\n\u001b[0;32m   3460\u001b[0m \u001b[43m        \u001b[49m\u001b[43margs\u001b[49m\u001b[43m,\u001b[49m\u001b[43m \u001b[49m\u001b[43mkwargs\u001b[49m\u001b[43m,\u001b[49m\u001b[43m \u001b[49m\u001b[43mflat_args\u001b[49m\u001b[43m,\u001b[49m\u001b[43m \u001b[49m\u001b[43mfiltered_flat_args\u001b[49m\u001b[43m,\u001b[49m\u001b[43m \u001b[49m\u001b[43mcache_key_context\u001b[49m\u001b[43m)\u001b[49m\n\u001b[0;32m   3462\u001b[0m   \u001b[38;5;28mself\u001b[39m\u001b[38;5;241m.\u001b[39m_function_cache\u001b[38;5;241m.\u001b[39mmissed\u001b[38;5;241m.\u001b[39madd(call_context_key)\n\u001b[0;32m   3463\u001b[0m   graph_function \u001b[38;5;241m=\u001b[39m \u001b[38;5;28mself\u001b[39m\u001b[38;5;241m.\u001b[39m_create_graph_function(args, kwargs)\n",
      "File \u001b[1;32m~\\anaconda3\\envs\\tf-gpu\\lib\\site-packages\\tensorflow\\python\\eager\\function.py:3381\u001b[0m, in \u001b[0;36mFunction._define_function_with_shape_relaxation\u001b[1;34m(self, args, kwargs, flat_args, filtered_flat_args, cache_key_context)\u001b[0m\n\u001b[0;32m   3374\u001b[0m   (relaxed_arg_specs, relaxed_kwarg_specs) \u001b[38;5;241m=\u001b[39m nest\u001b[38;5;241m.\u001b[39mpack_sequence_as(\n\u001b[0;32m   3375\u001b[0m       (args, kwargs), relaxed_arg_specs, expand_composites\u001b[38;5;241m=\u001b[39m\u001b[38;5;28;01mFalse\u001b[39;00m)\n\u001b[0;32m   3376\u001b[0m   (args, kwargs) \u001b[38;5;241m=\u001b[39m nest\u001b[38;5;241m.\u001b[39mpack_sequence_as(\n\u001b[0;32m   3377\u001b[0m       (relaxed_arg_specs, relaxed_kwarg_specs),\n\u001b[0;32m   3378\u001b[0m       flat_args,\n\u001b[0;32m   3379\u001b[0m       expand_composites\u001b[38;5;241m=\u001b[39m\u001b[38;5;28;01mTrue\u001b[39;00m)\n\u001b[1;32m-> 3381\u001b[0m graph_function \u001b[38;5;241m=\u001b[39m \u001b[38;5;28;43mself\u001b[39;49m\u001b[38;5;241;43m.\u001b[39;49m\u001b[43m_create_graph_function\u001b[49m\u001b[43m(\u001b[49m\n\u001b[0;32m   3382\u001b[0m \u001b[43m    \u001b[49m\u001b[43margs\u001b[49m\u001b[43m,\u001b[49m\u001b[43m \u001b[49m\u001b[43mkwargs\u001b[49m\u001b[43m,\u001b[49m\u001b[43m \u001b[49m\u001b[43moverride_flat_arg_shapes\u001b[49m\u001b[38;5;241;43m=\u001b[39;49m\u001b[43mrelaxed_arg_shapes\u001b[49m\u001b[43m)\u001b[49m\n\u001b[0;32m   3383\u001b[0m \u001b[38;5;28mself\u001b[39m\u001b[38;5;241m.\u001b[39m_function_cache\u001b[38;5;241m.\u001b[39marg_relaxed[rank_only_cache_key] \u001b[38;5;241m=\u001b[39m graph_function\n\u001b[0;32m   3385\u001b[0m \u001b[38;5;28;01mreturn\u001b[39;00m (graph_function, [\n\u001b[0;32m   3386\u001b[0m     t \u001b[38;5;28;01mfor\u001b[39;00m t \u001b[38;5;129;01min\u001b[39;00m nest\u001b[38;5;241m.\u001b[39mflatten((args, kwargs), expand_composites\u001b[38;5;241m=\u001b[39m\u001b[38;5;28;01mTrue\u001b[39;00m)\n\u001b[0;32m   3387\u001b[0m     \u001b[38;5;28;01mif\u001b[39;00m \u001b[38;5;28misinstance\u001b[39m(t, (ops\u001b[38;5;241m.\u001b[39mTensor,\n\u001b[0;32m   3388\u001b[0m                       resource_variable_ops\u001b[38;5;241m.\u001b[39mBaseResourceVariable))\n\u001b[0;32m   3389\u001b[0m ])\n",
      "File \u001b[1;32m~\\anaconda3\\envs\\tf-gpu\\lib\\site-packages\\tensorflow\\python\\eager\\function.py:3298\u001b[0m, in \u001b[0;36mFunction._create_graph_function\u001b[1;34m(self, args, kwargs, override_flat_arg_shapes)\u001b[0m\n\u001b[0;32m   3293\u001b[0m missing_arg_names \u001b[38;5;241m=\u001b[39m [\n\u001b[0;32m   3294\u001b[0m     \u001b[38;5;124m\"\u001b[39m\u001b[38;5;132;01m%s\u001b[39;00m\u001b[38;5;124m_\u001b[39m\u001b[38;5;132;01m%d\u001b[39;00m\u001b[38;5;124m\"\u001b[39m \u001b[38;5;241m%\u001b[39m (arg, i) \u001b[38;5;28;01mfor\u001b[39;00m i, arg \u001b[38;5;129;01min\u001b[39;00m \u001b[38;5;28menumerate\u001b[39m(missing_arg_names)\n\u001b[0;32m   3295\u001b[0m ]\n\u001b[0;32m   3296\u001b[0m arg_names \u001b[38;5;241m=\u001b[39m base_arg_names \u001b[38;5;241m+\u001b[39m missing_arg_names\n\u001b[0;32m   3297\u001b[0m graph_function \u001b[38;5;241m=\u001b[39m ConcreteFunction(\n\u001b[1;32m-> 3298\u001b[0m     \u001b[43mfunc_graph_module\u001b[49m\u001b[38;5;241;43m.\u001b[39;49m\u001b[43mfunc_graph_from_py_func\u001b[49m\u001b[43m(\u001b[49m\n\u001b[0;32m   3299\u001b[0m \u001b[43m        \u001b[49m\u001b[38;5;28;43mself\u001b[39;49m\u001b[38;5;241;43m.\u001b[39;49m\u001b[43m_name\u001b[49m\u001b[43m,\u001b[49m\n\u001b[0;32m   3300\u001b[0m \u001b[43m        \u001b[49m\u001b[38;5;28;43mself\u001b[39;49m\u001b[38;5;241;43m.\u001b[39;49m\u001b[43m_python_function\u001b[49m\u001b[43m,\u001b[49m\n\u001b[0;32m   3301\u001b[0m \u001b[43m        \u001b[49m\u001b[43margs\u001b[49m\u001b[43m,\u001b[49m\n\u001b[0;32m   3302\u001b[0m \u001b[43m        \u001b[49m\u001b[43mkwargs\u001b[49m\u001b[43m,\u001b[49m\n\u001b[0;32m   3303\u001b[0m \u001b[43m        \u001b[49m\u001b[38;5;28;43mself\u001b[39;49m\u001b[38;5;241;43m.\u001b[39;49m\u001b[43minput_signature\u001b[49m\u001b[43m,\u001b[49m\n\u001b[0;32m   3304\u001b[0m \u001b[43m        \u001b[49m\u001b[43mautograph\u001b[49m\u001b[38;5;241;43m=\u001b[39;49m\u001b[38;5;28;43mself\u001b[39;49m\u001b[38;5;241;43m.\u001b[39;49m\u001b[43m_autograph\u001b[49m\u001b[43m,\u001b[49m\n\u001b[0;32m   3305\u001b[0m \u001b[43m        \u001b[49m\u001b[43mautograph_options\u001b[49m\u001b[38;5;241;43m=\u001b[39;49m\u001b[38;5;28;43mself\u001b[39;49m\u001b[38;5;241;43m.\u001b[39;49m\u001b[43m_autograph_options\u001b[49m\u001b[43m,\u001b[49m\n\u001b[0;32m   3306\u001b[0m \u001b[43m        \u001b[49m\u001b[43marg_names\u001b[49m\u001b[38;5;241;43m=\u001b[39;49m\u001b[43marg_names\u001b[49m\u001b[43m,\u001b[49m\n\u001b[0;32m   3307\u001b[0m \u001b[43m        \u001b[49m\u001b[43moverride_flat_arg_shapes\u001b[49m\u001b[38;5;241;43m=\u001b[39;49m\u001b[43moverride_flat_arg_shapes\u001b[49m\u001b[43m,\u001b[49m\n\u001b[0;32m   3308\u001b[0m \u001b[43m        \u001b[49m\u001b[43mcapture_by_value\u001b[49m\u001b[38;5;241;43m=\u001b[39;49m\u001b[38;5;28;43mself\u001b[39;49m\u001b[38;5;241;43m.\u001b[39;49m\u001b[43m_capture_by_value\u001b[49m\u001b[43m)\u001b[49m,\n\u001b[0;32m   3309\u001b[0m     \u001b[38;5;28mself\u001b[39m\u001b[38;5;241m.\u001b[39m_function_attributes,\n\u001b[0;32m   3310\u001b[0m     function_spec\u001b[38;5;241m=\u001b[39m\u001b[38;5;28mself\u001b[39m\u001b[38;5;241m.\u001b[39mfunction_spec,\n\u001b[0;32m   3311\u001b[0m     \u001b[38;5;66;03m# Tell the ConcreteFunction to clean up its graph once it goes out of\u001b[39;00m\n\u001b[0;32m   3312\u001b[0m     \u001b[38;5;66;03m# scope. This is not the default behavior since it gets used in some\u001b[39;00m\n\u001b[0;32m   3313\u001b[0m     \u001b[38;5;66;03m# places (like Keras) where the FuncGraph lives longer than the\u001b[39;00m\n\u001b[0;32m   3314\u001b[0m     \u001b[38;5;66;03m# ConcreteFunction.\u001b[39;00m\n\u001b[0;32m   3315\u001b[0m     shared_func_graph\u001b[38;5;241m=\u001b[39m\u001b[38;5;28;01mFalse\u001b[39;00m)\n\u001b[0;32m   3316\u001b[0m \u001b[38;5;28;01mreturn\u001b[39;00m graph_function\n",
      "File \u001b[1;32m~\\anaconda3\\envs\\tf-gpu\\lib\\site-packages\\tensorflow\\python\\framework\\func_graph.py:1007\u001b[0m, in \u001b[0;36mfunc_graph_from_py_func\u001b[1;34m(name, python_func, args, kwargs, signature, func_graph, autograph, autograph_options, add_control_dependencies, arg_names, op_return_value, collections, capture_by_value, override_flat_arg_shapes, acd_record_initial_resource_uses)\u001b[0m\n\u001b[0;32m   1004\u001b[0m \u001b[38;5;28;01melse\u001b[39;00m:\n\u001b[0;32m   1005\u001b[0m   _, original_func \u001b[38;5;241m=\u001b[39m tf_decorator\u001b[38;5;241m.\u001b[39munwrap(python_func)\n\u001b[1;32m-> 1007\u001b[0m func_outputs \u001b[38;5;241m=\u001b[39m python_func(\u001b[38;5;241m*\u001b[39mfunc_args, \u001b[38;5;241m*\u001b[39m\u001b[38;5;241m*\u001b[39mfunc_kwargs)\n\u001b[0;32m   1009\u001b[0m \u001b[38;5;66;03m# invariant: `func_outputs` contains only Tensors, CompositeTensors,\u001b[39;00m\n\u001b[0;32m   1010\u001b[0m \u001b[38;5;66;03m# TensorArrays and `None`s.\u001b[39;00m\n\u001b[0;32m   1011\u001b[0m func_outputs \u001b[38;5;241m=\u001b[39m nest\u001b[38;5;241m.\u001b[39mmap_structure(convert, func_outputs,\n\u001b[0;32m   1012\u001b[0m                                   expand_composites\u001b[38;5;241m=\u001b[39m\u001b[38;5;28;01mTrue\u001b[39;00m)\n",
      "File \u001b[1;32m~\\anaconda3\\envs\\tf-gpu\\lib\\site-packages\\tensorflow\\python\\eager\\def_function.py:668\u001b[0m, in \u001b[0;36mFunction._defun_with_scope.<locals>.wrapped_fn\u001b[1;34m(*args, **kwds)\u001b[0m\n\u001b[0;32m    664\u001b[0m \u001b[38;5;28;01mwith\u001b[39;00m default_graph\u001b[38;5;241m.\u001b[39m_variable_creator_scope(scope, priority\u001b[38;5;241m=\u001b[39m\u001b[38;5;241m50\u001b[39m):  \u001b[38;5;66;03m# pylint: disable=protected-access\u001b[39;00m\n\u001b[0;32m    665\u001b[0m   \u001b[38;5;66;03m# __wrapped__ allows AutoGraph to swap in a converted function. We give\u001b[39;00m\n\u001b[0;32m    666\u001b[0m   \u001b[38;5;66;03m# the function a weak reference to itself to avoid a reference cycle.\u001b[39;00m\n\u001b[0;32m    667\u001b[0m   \u001b[38;5;28;01mwith\u001b[39;00m OptionalXlaContext(compile_with_xla):\n\u001b[1;32m--> 668\u001b[0m     out \u001b[38;5;241m=\u001b[39m weak_wrapped_fn()\u001b[38;5;241m.\u001b[39m__wrapped__(\u001b[38;5;241m*\u001b[39margs, \u001b[38;5;241m*\u001b[39m\u001b[38;5;241m*\u001b[39mkwds)\n\u001b[0;32m    669\u001b[0m   \u001b[38;5;28;01mreturn\u001b[39;00m out\n",
      "File \u001b[1;32m~\\anaconda3\\envs\\tf-gpu\\lib\\site-packages\\tensorflow\\python\\framework\\func_graph.py:994\u001b[0m, in \u001b[0;36mfunc_graph_from_py_func.<locals>.wrapper\u001b[1;34m(*args, **kwargs)\u001b[0m\n\u001b[0;32m    992\u001b[0m \u001b[38;5;28;01mexcept\u001b[39;00m \u001b[38;5;167;01mException\u001b[39;00m \u001b[38;5;28;01mas\u001b[39;00m e:  \u001b[38;5;66;03m# pylint:disable=broad-except\u001b[39;00m\n\u001b[0;32m    993\u001b[0m   \u001b[38;5;28;01mif\u001b[39;00m \u001b[38;5;28mhasattr\u001b[39m(e, \u001b[38;5;124m\"\u001b[39m\u001b[38;5;124mag_error_metadata\u001b[39m\u001b[38;5;124m\"\u001b[39m):\n\u001b[1;32m--> 994\u001b[0m     \u001b[38;5;28;01mraise\u001b[39;00m e\u001b[38;5;241m.\u001b[39mag_error_metadata\u001b[38;5;241m.\u001b[39mto_exception(e)\n\u001b[0;32m    995\u001b[0m   \u001b[38;5;28;01melse\u001b[39;00m:\n\u001b[0;32m    996\u001b[0m     \u001b[38;5;28;01mraise\u001b[39;00m\n",
      "\u001b[1;31mValueError\u001b[0m: in user code:\n\n    C:\\Users\\A\\anaconda3\\envs\\tf-gpu\\lib\\site-packages\\keras\\engine\\training.py:853 train_function  *\n        return step_function(self, iterator)\n    C:\\Users\\A\\anaconda3\\envs\\tf-gpu\\lib\\site-packages\\keras\\engine\\training.py:842 step_function  **\n        outputs = model.distribute_strategy.run(run_step, args=(data,))\n    C:\\Users\\A\\anaconda3\\envs\\tf-gpu\\lib\\site-packages\\tensorflow\\python\\distribute\\distribute_lib.py:1286 run\n        return self._extended.call_for_each_replica(fn, args=args, kwargs=kwargs)\n    C:\\Users\\A\\anaconda3\\envs\\tf-gpu\\lib\\site-packages\\tensorflow\\python\\distribute\\distribute_lib.py:2849 call_for_each_replica\n        return self._call_for_each_replica(fn, args, kwargs)\n    C:\\Users\\A\\anaconda3\\envs\\tf-gpu\\lib\\site-packages\\tensorflow\\python\\distribute\\distribute_lib.py:3632 _call_for_each_replica\n        return fn(*args, **kwargs)\n    C:\\Users\\A\\anaconda3\\envs\\tf-gpu\\lib\\site-packages\\keras\\engine\\training.py:835 run_step  **\n        outputs = model.train_step(data)\n    C:\\Users\\A\\anaconda3\\envs\\tf-gpu\\lib\\site-packages\\keras\\engine\\training.py:787 train_step\n        y_pred = self(x, training=True)\n    C:\\Users\\A\\anaconda3\\envs\\tf-gpu\\lib\\site-packages\\keras\\engine\\base_layer.py:1020 __call__\n        input_spec.assert_input_compatibility(self.input_spec, inputs, self.name)\n    C:\\Users\\A\\anaconda3\\envs\\tf-gpu\\lib\\site-packages\\keras\\engine\\input_spec.py:250 assert_input_compatibility\n        raise ValueError(\n\n    ValueError: Input 0 of layer sequential_2 is incompatible with the layer: expected axis -1 of input shape to have value 2 but received input with shape (None, 1)\n"
     ]
    }
   ],
   "source": [
    "# Let's see if our model can be used for a regression problem...\n",
    "\n",
    "tf.random.set_seed(42)\n",
    "\n",
    "# Create some regression data\n",
    "X_regression = tf.range(0, 1000, 5)\n",
    "y_regression = tf.range(100, 1100, 5) # y = X + 100\n",
    "\n",
    "# Split our regression data into training and test sets\n",
    "X_reg_train = X_regression[:150]\n",
    "X_reg_test = X_regression[150:]\n",
    "y_reg_train = y_regression[:150]\n",
    "y_reg_test = y_regression[150:]\n",
    "\n",
    "# Fit our model to the regression data\n",
    "model_3.fit(X_reg_train, y_reg_train, epochs=100)"
   ]
  },
  {
   "cell_type": "raw",
   "id": "4c82083d",
   "metadata": {},
   "source": [
    "# ValueError: Input 0 of layer sequential_2 is incompatible with the layer: expected axis -1 of input shape to have value 2 but received input with shape (None, 1)"
   ]
  },
  {
   "cell_type": "markdown",
   "id": "ef54a59e",
   "metadata": {},
   "source": [
    "This is because we compiled our model for a binary classification problem.\n",
    "\n",
    "But... we're now working on a regression problem, let's change the model to suit our data."
   ]
  },
  {
   "cell_type": "code",
   "execution_count": 42,
   "id": "90d56d98",
   "metadata": {},
   "outputs": [
    {
     "name": "stdout",
     "output_type": "stream",
     "text": [
      "Epoch 1/100\n",
      "5/5 [==============================] - 0s 3ms/step - loss: 248.2148 - mae: 248.2148\n",
      "Epoch 2/100\n",
      "5/5 [==============================] - 0s 3ms/step - loss: 138.8992 - mae: 138.8992\n",
      "Epoch 3/100\n",
      "5/5 [==============================] - 0s 3ms/step - loss: 53.1035 - mae: 53.1035\n",
      "Epoch 4/100\n",
      "5/5 [==============================] - 0s 2ms/step - loss: 73.5183 - mae: 73.5183\n",
      "Epoch 5/100\n",
      "5/5 [==============================] - 0s 3ms/step - loss: 71.2370 - mae: 71.2370\n",
      "Epoch 6/100\n",
      "5/5 [==============================] - 0s 2ms/step - loss: 47.0045 - mae: 47.0045\n",
      "Epoch 7/100\n",
      "5/5 [==============================] - 0s 2ms/step - loss: 45.9374 - mae: 45.9374\n",
      "Epoch 8/100\n",
      "5/5 [==============================] - 0s 3ms/step - loss: 42.3635 - mae: 42.3635\n",
      "Epoch 9/100\n",
      "5/5 [==============================] - 0s 3ms/step - loss: 43.6835 - mae: 43.6835\n",
      "Epoch 10/100\n",
      "5/5 [==============================] - 0s 3ms/step - loss: 42.6201 - mae: 42.6201\n",
      "Epoch 11/100\n",
      "5/5 [==============================] - 0s 4ms/step - loss: 42.4795 - mae: 42.4795\n",
      "Epoch 12/100\n",
      "5/5 [==============================] - 0s 3ms/step - loss: 41.5534 - mae: 41.5534\n",
      "Epoch 13/100\n",
      "5/5 [==============================] - 0s 3ms/step - loss: 42.0975 - mae: 42.0975\n",
      "Epoch 14/100\n",
      "5/5 [==============================] - 0s 3ms/step - loss: 41.8650 - mae: 41.8650\n",
      "Epoch 15/100\n",
      "5/5 [==============================] - 0s 3ms/step - loss: 41.5341 - mae: 41.5341\n",
      "Epoch 16/100\n",
      "5/5 [==============================] - 0s 3ms/step - loss: 41.4026 - mae: 41.4026\n",
      "Epoch 17/100\n",
      "5/5 [==============================] - 0s 3ms/step - loss: 41.6888 - mae: 41.6888\n",
      "Epoch 18/100\n",
      "5/5 [==============================] - 0s 3ms/step - loss: 41.6138 - mae: 41.6138\n",
      "Epoch 19/100\n",
      "5/5 [==============================] - 0s 3ms/step - loss: 41.2795 - mae: 41.2795\n",
      "Epoch 20/100\n",
      "5/5 [==============================] - 0s 3ms/step - loss: 41.1947 - mae: 41.1947\n",
      "Epoch 21/100\n",
      "5/5 [==============================] - 0s 3ms/step - loss: 41.2131 - mae: 41.2131\n",
      "Epoch 22/100\n",
      "5/5 [==============================] - 0s 3ms/step - loss: 41.0892 - mae: 41.0892\n",
      "Epoch 23/100\n",
      "5/5 [==============================] - 0s 3ms/step - loss: 41.2018 - mae: 41.2018\n",
      "Epoch 24/100\n",
      "5/5 [==============================] - 0s 3ms/step - loss: 40.9990 - mae: 40.9990\n",
      "Epoch 25/100\n",
      "5/5 [==============================] - 0s 3ms/step - loss: 41.0131 - mae: 41.0131\n",
      "Epoch 26/100\n",
      "5/5 [==============================] - 0s 3ms/step - loss: 41.0653 - mae: 41.0653\n",
      "Epoch 27/100\n",
      "5/5 [==============================] - 0s 3ms/step - loss: 40.8764 - mae: 40.8764\n",
      "Epoch 28/100\n",
      "5/5 [==============================] - 0s 3ms/step - loss: 41.0546 - mae: 41.0546\n",
      "Epoch 29/100\n",
      "5/5 [==============================] - 0s 3ms/step - loss: 41.0479 - mae: 41.0479\n",
      "Epoch 30/100\n",
      "5/5 [==============================] - 0s 3ms/step - loss: 40.8806 - mae: 40.8806\n",
      "Epoch 31/100\n",
      "5/5 [==============================] - 0s 3ms/step - loss: 41.2698 - mae: 41.2698\n",
      "Epoch 32/100\n",
      "5/5 [==============================] - 0s 4ms/step - loss: 40.9948 - mae: 40.9948\n",
      "Epoch 33/100\n",
      "5/5 [==============================] - 0s 3ms/step - loss: 41.0759 - mae: 41.0759\n",
      "Epoch 34/100\n",
      "5/5 [==============================] - 0s 3ms/step - loss: 41.2473 - mae: 41.2473\n",
      "Epoch 35/100\n",
      "5/5 [==============================] - 0s 3ms/step - loss: 40.6101 - mae: 40.6101\n",
      "Epoch 36/100\n",
      "5/5 [==============================] - 0s 3ms/step - loss: 41.1092 - mae: 41.1092\n",
      "Epoch 37/100\n",
      "5/5 [==============================] - 0s 3ms/step - loss: 40.8193 - mae: 40.8193\n",
      "Epoch 38/100\n",
      "5/5 [==============================] - 0s 4ms/step - loss: 40.2486 - mae: 40.2486\n",
      "Epoch 39/100\n",
      "5/5 [==============================] - 0s 5ms/step - loss: 41.0622 - mae: 41.0622\n",
      "Epoch 40/100\n",
      "5/5 [==============================] - 0s 6ms/step - loss: 40.5311 - mae: 40.5311\n",
      "Epoch 41/100\n",
      "5/5 [==============================] - 0s 4ms/step - loss: 40.5499 - mae: 40.5499\n",
      "Epoch 42/100\n",
      "5/5 [==============================] - 0s 4ms/step - loss: 40.4321 - mae: 40.4321\n",
      "Epoch 43/100\n",
      "5/5 [==============================] - 0s 4ms/step - loss: 40.5367 - mae: 40.5367\n",
      "Epoch 44/100\n",
      "5/5 [==============================] - 0s 7ms/step - loss: 40.2488 - mae: 40.2488\n",
      "Epoch 45/100\n",
      "5/5 [==============================] - 0s 3ms/step - loss: 40.5150 - mae: 40.5150\n",
      "Epoch 46/100\n",
      "5/5 [==============================] - 0s 3ms/step - loss: 40.3703 - mae: 40.3703\n",
      "Epoch 47/100\n",
      "5/5 [==============================] - 0s 3ms/step - loss: 40.4771 - mae: 40.4771\n",
      "Epoch 48/100\n",
      "5/5 [==============================] - 0s 3ms/step - loss: 40.1531 - mae: 40.1531\n",
      "Epoch 49/100\n",
      "5/5 [==============================] - 0s 4ms/step - loss: 40.7291 - mae: 40.7291\n",
      "Epoch 50/100\n",
      "5/5 [==============================] - 0s 4ms/step - loss: 40.1536 - mae: 40.1536\n",
      "Epoch 51/100\n",
      "5/5 [==============================] - 0s 3ms/step - loss: 40.2710 - mae: 40.2710\n",
      "Epoch 52/100\n",
      "5/5 [==============================] - 0s 4ms/step - loss: 40.6574 - mae: 40.6574\n",
      "Epoch 53/100\n",
      "5/5 [==============================] - 0s 4ms/step - loss: 40.6571 - mae: 40.6571\n",
      "Epoch 54/100\n",
      "5/5 [==============================] - 0s 3ms/step - loss: 40.6893 - mae: 40.6893\n",
      "Epoch 55/100\n",
      "5/5 [==============================] - 0s 3ms/step - loss: 41.2775 - mae: 41.2775\n",
      "Epoch 56/100\n",
      "5/5 [==============================] - 0s 3ms/step - loss: 41.8514 - mae: 41.8514\n",
      "Epoch 57/100\n",
      "5/5 [==============================] - 0s 3ms/step - loss: 40.7904 - mae: 40.7904\n",
      "Epoch 58/100\n",
      "5/5 [==============================] - 0s 3ms/step - loss: 40.3131 - mae: 40.3131\n",
      "Epoch 59/100\n",
      "5/5 [==============================] - 0s 3ms/step - loss: 40.7194 - mae: 40.7194\n",
      "Epoch 60/100\n",
      "5/5 [==============================] - 0s 3ms/step - loss: 40.1478 - mae: 40.1478\n",
      "Epoch 61/100\n",
      "5/5 [==============================] - 0s 3ms/step - loss: 40.1119 - mae: 40.1119\n",
      "Epoch 62/100\n",
      "5/5 [==============================] - 0s 3ms/step - loss: 40.7796 - mae: 40.7796\n",
      "Epoch 63/100\n",
      "5/5 [==============================] - 0s 3ms/step - loss: 39.7243 - mae: 39.7243\n",
      "Epoch 64/100\n",
      "5/5 [==============================] - 0s 3ms/step - loss: 40.1467 - mae: 40.1467\n",
      "Epoch 65/100\n",
      "5/5 [==============================] - 0s 3ms/step - loss: 39.6886 - mae: 39.6886\n",
      "Epoch 66/100\n",
      "5/5 [==============================] - 0s 3ms/step - loss: 40.2841 - mae: 40.2841\n",
      "Epoch 67/100\n",
      "5/5 [==============================] - 0s 3ms/step - loss: 39.5541 - mae: 39.5541\n",
      "Epoch 68/100\n",
      "5/5 [==============================] - 0s 3ms/step - loss: 39.7377 - mae: 39.7377\n",
      "Epoch 69/100\n",
      "5/5 [==============================] - 0s 3ms/step - loss: 39.9787 - mae: 39.9787\n",
      "Epoch 70/100\n",
      "5/5 [==============================] - 0s 3ms/step - loss: 40.0014 - mae: 40.0014\n",
      "Epoch 71/100\n",
      "5/5 [==============================] - 0s 3ms/step - loss: 40.0915 - mae: 40.0915\n",
      "Epoch 72/100\n",
      "5/5 [==============================] - 0s 3ms/step - loss: 39.2547 - mae: 39.2547\n",
      "Epoch 73/100\n",
      "5/5 [==============================] - 0s 3ms/step - loss: 39.6826 - mae: 39.6826\n",
      "Epoch 74/100\n",
      "5/5 [==============================] - 0s 3ms/step - loss: 39.5375 - mae: 39.5375\n",
      "Epoch 75/100\n",
      "5/5 [==============================] - 0s 3ms/step - loss: 39.6264 - mae: 39.6264\n",
      "Epoch 76/100\n",
      "5/5 [==============================] - 0s 3ms/step - loss: 39.3110 - mae: 39.3110\n",
      "Epoch 77/100\n",
      "5/5 [==============================] - 0s 3ms/step - loss: 39.1600 - mae: 39.1600\n",
      "Epoch 78/100\n",
      "5/5 [==============================] - 0s 3ms/step - loss: 39.7547 - mae: 39.7547\n",
      "Epoch 79/100\n",
      "5/5 [==============================] - 0s 3ms/step - loss: 39.2543 - mae: 39.2543\n",
      "Epoch 80/100\n",
      "5/5 [==============================] - 0s 3ms/step - loss: 38.6969 - mae: 38.6969\n",
      "Epoch 81/100\n",
      "5/5 [==============================] - 0s 3ms/step - loss: 39.5438 - mae: 39.5438\n",
      "Epoch 82/100\n",
      "5/5 [==============================] - 0s 3ms/step - loss: 39.8689 - mae: 39.8689\n",
      "Epoch 83/100\n",
      "5/5 [==============================] - 0s 3ms/step - loss: 39.1692 - mae: 39.1692\n",
      "Epoch 84/100\n",
      "5/5 [==============================] - 0s 3ms/step - loss: 38.8840 - mae: 38.8840\n",
      "Epoch 85/100\n",
      "5/5 [==============================] - 0s 3ms/step - loss: 38.8887 - mae: 38.8887\n",
      "Epoch 86/100\n",
      "5/5 [==============================] - 0s 3ms/step - loss: 38.6616 - mae: 38.6616\n",
      "Epoch 87/100\n"
     ]
    },
    {
     "name": "stdout",
     "output_type": "stream",
     "text": [
      "5/5 [==============================] - 0s 3ms/step - loss: 38.8397 - mae: 38.8397\n",
      "Epoch 88/100\n",
      "5/5 [==============================] - 0s 3ms/step - loss: 38.6604 - mae: 38.6604\n",
      "Epoch 89/100\n",
      "5/5 [==============================] - 0s 3ms/step - loss: 38.7558 - mae: 38.7558\n",
      "Epoch 90/100\n",
      "5/5 [==============================] - 0s 3ms/step - loss: 38.5443 - mae: 38.5443\n",
      "Epoch 91/100\n",
      "5/5 [==============================] - 0s 3ms/step - loss: 38.3247 - mae: 38.3247\n",
      "Epoch 92/100\n",
      "5/5 [==============================] - 0s 3ms/step - loss: 38.8431 - mae: 38.8431\n",
      "Epoch 93/100\n",
      "5/5 [==============================] - 0s 3ms/step - loss: 39.1135 - mae: 39.1135\n",
      "Epoch 94/100\n",
      "5/5 [==============================] - 0s 3ms/step - loss: 38.1464 - mae: 38.1464\n",
      "Epoch 95/100\n",
      "5/5 [==============================] - 0s 3ms/step - loss: 38.3999 - mae: 38.3999\n",
      "Epoch 96/100\n",
      "5/5 [==============================] - 0s 3ms/step - loss: 38.5598 - mae: 38.5598\n",
      "Epoch 97/100\n",
      "5/5 [==============================] - 0s 3ms/step - loss: 38.1038 - mae: 38.1038\n",
      "Epoch 98/100\n",
      "5/5 [==============================] - 0s 3ms/step - loss: 39.0081 - mae: 39.0081\n",
      "Epoch 99/100\n",
      "5/5 [==============================] - 0s 3ms/step - loss: 38.3056 - mae: 38.3056\n",
      "Epoch 100/100\n",
      "5/5 [==============================] - 0s 3ms/step - loss: 37.9977 - mae: 37.9977\n"
     ]
    },
    {
     "data": {
      "text/plain": [
       "<keras.callbacks.History at 0x222cad986d0>"
      ]
     },
     "execution_count": 42,
     "metadata": {},
     "output_type": "execute_result"
    }
   ],
   "source": [
    "# Setup random seed\n",
    "tf.random.set_seed(42)\n",
    "\n",
    "# 1. Create the model\n",
    "model_3 = tf.keras.Sequential([\n",
    "  tf.keras.layers.Dense(100),\n",
    "  tf.keras.layers.Dense(10),\n",
    "  tf.keras.layers.Dense(1)                               \n",
    "])\n",
    "\n",
    "# 2. Compile the model, this time with a regression-specific loss function\n",
    "model_3.compile(loss=tf.keras.losses.mae, #This is regression-specific loss function we first had BinaryCrossentropy\n",
    "                optimizer=tf.keras.optimizers.Adam(),\n",
    "                metrics=[\"mae\"])\n",
    "\n",
    "# 3. Fit the model\n",
    "model_3.fit(X_reg_train, y_reg_train, epochs=100)"
   ]
  },
  {
   "cell_type": "code",
   "execution_count": 43,
   "id": "86777273",
   "metadata": {},
   "outputs": [
    {
     "data": {
      "image/png": "[encoded data removed]",
      "text/plain": [
       "<Figure size 720x504 with 1 Axes>"
      ]
     },
     "metadata": {
      "needs_background": "light"
     },
     "output_type": "display_data"
    }
   ],
   "source": [
    "# Make predictions with our trained model\n",
    "y_reg_preds = model_3.predict(X_reg_test)\n",
    "\n",
    "# Plot the model's predictions against our regression data\n",
    "plt.figure(figsize=(10, 7))\n",
    "plt.scatter(X_reg_train, y_reg_train, c=\"b\", label=\"Training data\")\n",
    "plt.scatter(X_reg_test, y_reg_test, c=\"g\", label=\"Test data\")\n",
    "plt.scatter(X_reg_test, y_reg_preds, c=\"r\", label=\"Predictions\")\n",
    "plt.legend();"
   ]
  },
  {
   "cell_type": "markdown",
   "id": "e3750030",
   "metadata": {},
   "source": [
    "### The missing piece: Non-linearity"
   ]
  },
  {
   "cell_type": "code",
   "execution_count": 44,
   "id": "b5f23241",
   "metadata": {},
   "outputs": [
    {
     "name": "stderr",
     "output_type": "stream",
     "text": [
      "C:\\Users\\A\\anaconda3\\envs\\tf-gpu\\lib\\site-packages\\keras\\optimizer_v2\\optimizer_v2.py:355: UserWarning: The `lr` argument is deprecated, use `learning_rate` instead.\n",
      "  warnings.warn(\n"
     ]
    },
    {
     "name": "stdout",
     "output_type": "stream",
     "text": [
      "Epoch 1/100\n",
      "63/63 [==============================] - 0s 2ms/step - loss: 4.2165 - accuracy: 0.4570\n",
      "Epoch 2/100\n",
      "63/63 [==============================] - 0s 2ms/step - loss: 4.1098 - accuracy: 0.4330\n",
      "Epoch 3/100\n",
      "63/63 [==============================] - 0s 2ms/step - loss: 4.0515 - accuracy: 0.4260\n",
      "Epoch 4/100\n",
      "63/63 [==============================] - 0s 2ms/step - loss: 4.0036 - accuracy: 0.4225\n",
      "Epoch 5/100\n",
      "63/63 [==============================] - 0s 2ms/step - loss: 3.9462 - accuracy: 0.4150\n",
      "Epoch 6/100\n",
      "63/63 [==============================] - 0s 4ms/step - loss: 3.8742 - accuracy: 0.4130\n",
      "Epoch 7/100\n",
      "63/63 [==============================] - 0s 2ms/step - loss: 3.7890 - accuracy: 0.4205\n",
      "Epoch 8/100\n",
      "63/63 [==============================] - 0s 2ms/step - loss: 3.7004 - accuracy: 0.4235\n",
      "Epoch 9/100\n",
      "63/63 [==============================] - 0s 2ms/step - loss: 3.5886 - accuracy: 0.4305\n",
      "Epoch 10/100\n",
      "63/63 [==============================] - 0s 2ms/step - loss: 3.5178 - accuracy: 0.4190\n",
      "Epoch 11/100\n",
      "63/63 [==============================] - 0s 2ms/step - loss: 3.4070 - accuracy: 0.4160\n",
      "Epoch 12/100\n",
      "63/63 [==============================] - 0s 2ms/step - loss: 3.2403 - accuracy: 0.4105\n",
      "Epoch 13/100\n",
      "63/63 [==============================] - 0s 2ms/step - loss: 3.1834 - accuracy: 0.4145\n",
      "Epoch 14/100\n",
      "63/63 [==============================] - 0s 3ms/step - loss: 3.1214 - accuracy: 0.4165\n",
      "Epoch 15/100\n",
      "63/63 [==============================] - 0s 3ms/step - loss: 3.0877 - accuracy: 0.4160\n",
      "Epoch 16/100\n",
      "63/63 [==============================] - 0s 3ms/step - loss: 3.0452 - accuracy: 0.4180\n",
      "Epoch 17/100\n",
      "63/63 [==============================] - 0s 3ms/step - loss: 3.0044 - accuracy: 0.4215\n",
      "Epoch 18/100\n",
      "63/63 [==============================] - 0s 2ms/step - loss: 2.9337 - accuracy: 0.4255\n",
      "Epoch 19/100\n",
      "63/63 [==============================] - 0s 3ms/step - loss: 2.8107 - accuracy: 0.4360\n",
      "Epoch 20/100\n",
      "63/63 [==============================] - 0s 4ms/step - loss: 2.6278 - accuracy: 0.4450\n",
      "Epoch 21/100\n",
      "63/63 [==============================] - 0s 3ms/step - loss: 2.2937 - accuracy: 0.4860\n",
      "Epoch 22/100\n",
      "63/63 [==============================] - 0s 2ms/step - loss: 1.6307 - accuracy: 0.5000\n",
      "Epoch 23/100\n",
      "63/63 [==============================] - 0s 3ms/step - loss: 1.0169 - accuracy: 0.5000\n",
      "Epoch 24/100\n",
      "63/63 [==============================] - 0s 3ms/step - loss: 0.9946 - accuracy: 0.5000\n",
      "Epoch 25/100\n",
      "63/63 [==============================] - 0s 4ms/step - loss: 0.9780 - accuracy: 0.5000\n",
      "Epoch 26/100\n",
      "63/63 [==============================] - 0s 3ms/step - loss: 0.9640 - accuracy: 0.5000\n",
      "Epoch 27/100\n",
      "63/63 [==============================] - 0s 3ms/step - loss: 0.9517 - accuracy: 0.5000\n",
      "Epoch 28/100\n",
      "63/63 [==============================] - 0s 3ms/step - loss: 0.9407 - accuracy: 0.5000\n",
      "Epoch 29/100\n",
      "63/63 [==============================] - 0s 2ms/step - loss: 0.9306 - accuracy: 0.5000\n",
      "Epoch 30/100\n",
      "63/63 [==============================] - 0s 3ms/step - loss: 0.9214 - accuracy: 0.5000\n",
      "Epoch 31/100\n",
      "63/63 [==============================] - 0s 3ms/step - loss: 0.9128 - accuracy: 0.5000\n",
      "Epoch 32/100\n",
      "63/63 [==============================] - 0s 4ms/step - loss: 0.9048 - accuracy: 0.5000\n",
      "Epoch 33/100\n",
      "63/63 [==============================] - 0s 2ms/step - loss: 0.8971 - accuracy: 0.5000\n",
      "Epoch 34/100\n",
      "63/63 [==============================] - 0s 2ms/step - loss: 0.8900 - accuracy: 0.5000\n",
      "Epoch 35/100\n",
      "63/63 [==============================] - 0s 2ms/step - loss: 0.8831 - accuracy: 0.5000\n",
      "Epoch 36/100\n",
      "63/63 [==============================] - 0s 3ms/step - loss: 0.8766 - accuracy: 0.5000\n",
      "Epoch 37/100\n",
      "63/63 [==============================] - 0s 3ms/step - loss: 0.8703 - accuracy: 0.5000\n",
      "Epoch 38/100\n",
      "63/63 [==============================] - 0s 2ms/step - loss: 0.8644 - accuracy: 0.5000\n",
      "Epoch 39/100\n",
      "63/63 [==============================] - 0s 2ms/step - loss: 0.8586 - accuracy: 0.5000\n",
      "Epoch 40/100\n",
      "63/63 [==============================] - 0s 4ms/step - loss: 0.8530 - accuracy: 0.5000\n",
      "Epoch 41/100\n",
      "63/63 [==============================] - 0s 2ms/step - loss: 0.8476 - accuracy: 0.5000\n",
      "Epoch 42/100\n",
      "63/63 [==============================] - 0s 2ms/step - loss: 0.8425 - accuracy: 0.5000\n",
      "Epoch 43/100\n",
      "63/63 [==============================] - 0s 2ms/step - loss: 0.8374 - accuracy: 0.5000\n",
      "Epoch 44/100\n",
      "63/63 [==============================] - 0s 3ms/step - loss: 0.8325 - accuracy: 0.5000\n",
      "Epoch 45/100\n",
      "63/63 [==============================] - 0s 3ms/step - loss: 0.8279 - accuracy: 0.5000\n",
      "Epoch 46/100\n",
      "63/63 [==============================] - 0s 2ms/step - loss: 0.8233 - accuracy: 0.5000\n",
      "Epoch 47/100\n",
      "63/63 [==============================] - 0s 2ms/step - loss: 0.8188 - accuracy: 0.5000\n",
      "Epoch 48/100\n",
      "63/63 [==============================] - 0s 3ms/step - loss: 0.8145 - accuracy: 0.5000\n",
      "Epoch 49/100\n",
      "63/63 [==============================] - 0s 3ms/step - loss: 0.8103 - accuracy: 0.5000\n",
      "Epoch 50/100\n",
      "63/63 [==============================] - 0s 2ms/step - loss: 0.8061 - accuracy: 0.5000\n",
      "Epoch 51/100\n",
      "63/63 [==============================] - 0s 2ms/step - loss: 0.8022 - accuracy: 0.5000\n",
      "Epoch 52/100\n",
      "63/63 [==============================] - 0s 2ms/step - loss: 0.7983 - accuracy: 0.5000\n",
      "Epoch 53/100\n",
      "63/63 [==============================] - 0s 2ms/step - loss: 0.7945 - accuracy: 0.5000\n",
      "Epoch 54/100\n",
      "63/63 [==============================] - 0s 2ms/step - loss: 0.7908 - accuracy: 0.5000\n",
      "Epoch 55/100\n",
      "63/63 [==============================] - 0s 2ms/step - loss: 0.7871 - accuracy: 0.5000\n",
      "Epoch 56/100\n",
      "63/63 [==============================] - 0s 2ms/step - loss: 0.7836 - accuracy: 0.5000\n",
      "Epoch 57/100\n",
      "63/63 [==============================] - 0s 3ms/step - loss: 0.7802 - accuracy: 0.5000\n",
      "Epoch 58/100\n",
      "63/63 [==============================] - 0s 4ms/step - loss: 0.7768 - accuracy: 0.5000\n",
      "Epoch 59/100\n",
      "63/63 [==============================] - 0s 4ms/step - loss: 0.7735 - accuracy: 0.5000\n",
      "Epoch 60/100\n",
      "63/63 [==============================] - 0s 2ms/step - loss: 0.7703 - accuracy: 0.5000\n",
      "Epoch 61/100\n",
      "63/63 [==============================] - 0s 2ms/step - loss: 0.7672 - accuracy: 0.5000\n",
      "Epoch 62/100\n",
      "63/63 [==============================] - 0s 2ms/step - loss: 0.7641 - accuracy: 0.5000\n",
      "Epoch 63/100\n",
      "63/63 [==============================] - 0s 2ms/step - loss: 0.7612 - accuracy: 0.5000\n",
      "Epoch 64/100\n",
      "63/63 [==============================] - 0s 2ms/step - loss: 0.7583 - accuracy: 0.5000\n",
      "Epoch 65/100\n",
      "63/63 [==============================] - 0s 2ms/step - loss: 0.7554 - accuracy: 0.5000\n",
      "Epoch 66/100\n",
      "63/63 [==============================] - 0s 3ms/step - loss: 0.7527 - accuracy: 0.5000\n",
      "Epoch 67/100\n",
      "63/63 [==============================] - 0s 3ms/step - loss: 0.7500 - accuracy: 0.5000\n",
      "Epoch 68/100\n",
      "63/63 [==============================] - 0s 3ms/step - loss: 0.7474 - accuracy: 0.5000\n",
      "Epoch 69/100\n",
      "63/63 [==============================] - 0s 2ms/step - loss: 0.7449 - accuracy: 0.5000\n",
      "Epoch 70/100\n",
      "63/63 [==============================] - 0s 2ms/step - loss: 0.7425 - accuracy: 0.5000\n",
      "Epoch 71/100\n",
      "63/63 [==============================] - 0s 3ms/step - loss: 0.7401 - accuracy: 0.5000\n",
      "Epoch 72/100\n",
      "63/63 [==============================] - 0s 2ms/step - loss: 0.7378 - accuracy: 0.5000\n",
      "Epoch 73/100\n",
      "63/63 [==============================] - 0s 3ms/step - loss: 0.7356 - accuracy: 0.5000\n",
      "Epoch 74/100\n",
      "63/63 [==============================] - 0s 2ms/step - loss: 0.7334 - accuracy: 0.5000\n",
      "Epoch 75/100\n",
      "63/63 [==============================] - 0s 3ms/step - loss: 0.7313 - accuracy: 0.5000\n",
      "Epoch 76/100\n",
      "63/63 [==============================] - 0s 3ms/step - loss: 0.7292 - accuracy: 0.5000\n",
      "Epoch 77/100\n",
      "63/63 [==============================] - 0s 3ms/step - loss: 0.7273 - accuracy: 0.5000\n",
      "Epoch 78/100\n",
      "63/63 [==============================] - 0s 3ms/step - loss: 0.7254 - accuracy: 0.5000\n",
      "Epoch 79/100\n",
      "63/63 [==============================] - 0s 3ms/step - loss: 0.7235 - accuracy: 0.5000\n",
      "Epoch 80/100\n",
      "63/63 [==============================] - 0s 3ms/step - loss: 0.7218 - accuracy: 0.5000\n",
      "Epoch 81/100\n",
      "63/63 [==============================] - 0s 3ms/step - loss: 0.7200 - accuracy: 0.5000\n",
      "Epoch 82/100\n",
      "63/63 [==============================] - 0s 3ms/step - loss: 0.7184 - accuracy: 0.5000\n",
      "Epoch 83/100\n"
     ]
    },
    {
     "name": "stdout",
     "output_type": "stream",
     "text": [
      "63/63 [==============================] - 0s 2ms/step - loss: 0.7168 - accuracy: 0.5000\n",
      "Epoch 84/100\n",
      "63/63 [==============================] - 0s 2ms/step - loss: 0.7153 - accuracy: 0.5000\n",
      "Epoch 85/100\n",
      "63/63 [==============================] - 0s 2ms/step - loss: 0.7138 - accuracy: 0.5000\n",
      "Epoch 86/100\n",
      "63/63 [==============================] - 0s 2ms/step - loss: 0.7124 - accuracy: 0.5000\n",
      "Epoch 87/100\n",
      "63/63 [==============================] - 0s 3ms/step - loss: 0.7111 - accuracy: 0.5000\n",
      "Epoch 88/100\n",
      "63/63 [==============================] - 0s 3ms/step - loss: 0.7098 - accuracy: 0.5000\n",
      "Epoch 89/100\n",
      "63/63 [==============================] - 0s 2ms/step - loss: 0.7086 - accuracy: 0.5000\n",
      "Epoch 90/100\n",
      "63/63 [==============================] - 0s 2ms/step - loss: 0.7075 - accuracy: 0.5000\n",
      "Epoch 91/100\n",
      "63/63 [==============================] - 0s 2ms/step - loss: 0.7064 - accuracy: 0.5000\n",
      "Epoch 92/100\n",
      "63/63 [==============================] - 0s 2ms/step - loss: 0.7054 - accuracy: 0.5000\n",
      "Epoch 93/100\n",
      "63/63 [==============================] - 0s 2ms/step - loss: 0.7044 - accuracy: 0.5000\n",
      "Epoch 94/100\n",
      "63/63 [==============================] - 0s 3ms/step - loss: 0.7035 - accuracy: 0.5000\n",
      "Epoch 95/100\n",
      "63/63 [==============================] - 0s 2ms/step - loss: 0.7026 - accuracy: 0.5000\n",
      "Epoch 96/100\n",
      "63/63 [==============================] - 0s 2ms/step - loss: 0.7019 - accuracy: 0.5000\n",
      "Epoch 97/100\n",
      "63/63 [==============================] - 0s 2ms/step - loss: 0.7011 - accuracy: 0.5000\n",
      "Epoch 98/100\n",
      "63/63 [==============================] - 0s 2ms/step - loss: 0.7004 - accuracy: 0.5000\n",
      "Epoch 99/100\n",
      "63/63 [==============================] - 0s 4ms/step - loss: 0.6997 - accuracy: 0.5000\n",
      "Epoch 100/100\n",
      "63/63 [==============================] - 0s 2ms/step - loss: 0.6991 - accuracy: 0.5000\n"
     ]
    }
   ],
   "source": [
    "# Set the random seed\n",
    "tf.random.set_seed(42)\n",
    "\n",
    "# 1. Create the model\n",
    "model_4 = tf.keras.Sequential([\n",
    "  tf.keras.layers.Dense(1, activation=tf.keras.activations.linear)                               \n",
    "])\n",
    "\n",
    "# 2. Compile the model\n",
    "model_4.compile(loss=\"binary_crossentropy\",\n",
    "                optimizer=tf.keras.optimizers.Adam(lr=0.001),\n",
    "                metrics=[\"accuracy\"])\n",
    "\n",
    "# 3. Fit the model\n",
    "history = model_4.fit(X, y, epochs=100)"
   ]
  },
  {
   "cell_type": "code",
   "execution_count": 45,
   "id": "b286f69c",
   "metadata": {},
   "outputs": [
    {
     "data": {
      "image/png": "[encoded data removed]",
      "text/plain": [
       "<Figure size 432x288 with 1 Axes>"
      ]
     },
     "metadata": {
      "needs_background": "light"
     },
     "output_type": "display_data"
    }
   ],
   "source": [
    "# Check out our data\n",
    "plt.scatter(X[:, 0], X[:, 1], c=y, cmap=plt.cm.RdYlBu);"
   ]
  },
  {
   "cell_type": "code",
   "execution_count": 46,
   "id": "490bb4a0",
   "metadata": {},
   "outputs": [
    {
     "name": "stdout",
     "output_type": "stream",
     "text": [
      "WARNING:tensorflow:5 out of the last 320 calls to <function Model.make_predict_function.<locals>.predict_function at 0x00000222CC4878B0> triggered tf.function retracing. Tracing is expensive and the excessive number of tracings could be due to (1) creating @tf.function repeatedly in a loop, (2) passing tensors with different shapes, (3) passing Python objects instead of tensors. For (1), please define your @tf.function outside of the loop. For (2), @tf.function has experimental_relax_shapes=True option that relaxes argument shapes that can avoid unnecessary retracing. For (3), please refer to https://www.tensorflow.org/guide/function#controlling_retracing and https://www.tensorflow.org/api_docs/python/tf/function for  more details.\n",
      "doing binary classification\n"
     ]
    },
    {
     "data": {
      "image/png": "[encoded data removed]",
      "text/plain": [
       "<Figure size 432x288 with 1 Axes>"
      ]
     },
     "metadata": {
      "needs_background": "light"
     },
     "output_type": "display_data"
    }
   ],
   "source": [
    "# Check the decision boundary for our latest model\n",
    "plot_decision_boundary(model=model_4,\n",
    "                       X=X,\n",
    "                       y=y)"
   ]
  },
  {
   "cell_type": "code",
   "execution_count": 47,
   "id": "5c3a0b7c",
   "metadata": {},
   "outputs": [
    {
     "name": "stdout",
     "output_type": "stream",
     "text": [
      "Epoch 1/100\n",
      "63/63 [==============================] - 0s 3ms/step - loss: 4.2165 - accuracy: 0.4570\n",
      "Epoch 2/100\n",
      "63/63 [==============================] - 0s 2ms/step - loss: 4.1098 - accuracy: 0.4330\n",
      "Epoch 3/100\n",
      "63/63 [==============================] - 0s 2ms/step - loss: 4.0515 - accuracy: 0.4260\n",
      "Epoch 4/100\n",
      "63/63 [==============================] - 0s 2ms/step - loss: 4.0036 - accuracy: 0.4225\n",
      "Epoch 5/100\n",
      "63/63 [==============================] - 0s 2ms/step - loss: 3.9462 - accuracy: 0.4150\n",
      "Epoch 6/100\n",
      "63/63 [==============================] - 0s 3ms/step - loss: 3.8742 - accuracy: 0.4130\n",
      "Epoch 7/100\n",
      "63/63 [==============================] - 0s 2ms/step - loss: 3.7890 - accuracy: 0.4205\n",
      "Epoch 8/100\n",
      "63/63 [==============================] - 0s 2ms/step - loss: 3.7004 - accuracy: 0.4235\n",
      "Epoch 9/100\n",
      "63/63 [==============================] - 0s 2ms/step - loss: 3.5886 - accuracy: 0.4305\n",
      "Epoch 10/100\n",
      "63/63 [==============================] - 0s 2ms/step - loss: 3.5178 - accuracy: 0.4190\n",
      "Epoch 11/100\n",
      "63/63 [==============================] - 0s 2ms/step - loss: 3.4070 - accuracy: 0.4160\n",
      "Epoch 12/100\n",
      "63/63 [==============================] - 0s 2ms/step - loss: 3.2403 - accuracy: 0.4105\n",
      "Epoch 13/100\n",
      "63/63 [==============================] - 0s 2ms/step - loss: 3.1834 - accuracy: 0.4145\n",
      "Epoch 14/100\n",
      "63/63 [==============================] - 0s 2ms/step - loss: 3.1214 - accuracy: 0.4165\n",
      "Epoch 15/100\n",
      "63/63 [==============================] - 0s 2ms/step - loss: 3.0877 - accuracy: 0.4160\n",
      "Epoch 16/100\n",
      "63/63 [==============================] - 0s 2ms/step - loss: 3.0452 - accuracy: 0.4180\n",
      "Epoch 17/100\n",
      "63/63 [==============================] - 0s 2ms/step - loss: 3.0044 - accuracy: 0.4215\n",
      "Epoch 18/100\n",
      "63/63 [==============================] - 0s 3ms/step - loss: 2.9337 - accuracy: 0.4255\n",
      "Epoch 19/100\n",
      "63/63 [==============================] - 0s 3ms/step - loss: 2.8107 - accuracy: 0.4360\n",
      "Epoch 20/100\n",
      "63/63 [==============================] - 0s 2ms/step - loss: 2.6278 - accuracy: 0.4450\n",
      "Epoch 21/100\n",
      "63/63 [==============================] - 0s 2ms/step - loss: 2.2937 - accuracy: 0.4860\n",
      "Epoch 22/100\n",
      "63/63 [==============================] - 0s 2ms/step - loss: 1.6307 - accuracy: 0.5000\n",
      "Epoch 23/100\n",
      "63/63 [==============================] - 0s 2ms/step - loss: 1.0169 - accuracy: 0.5000\n",
      "Epoch 24/100\n",
      "63/63 [==============================] - 0s 2ms/step - loss: 0.9946 - accuracy: 0.5000\n",
      "Epoch 25/100\n",
      "63/63 [==============================] - 0s 2ms/step - loss: 0.9780 - accuracy: 0.5000\n",
      "Epoch 26/100\n",
      "63/63 [==============================] - 0s 2ms/step - loss: 0.9640 - accuracy: 0.5000\n",
      "Epoch 27/100\n",
      "63/63 [==============================] - 0s 2ms/step - loss: 0.9517 - accuracy: 0.5000\n",
      "Epoch 28/100\n",
      "63/63 [==============================] - 0s 2ms/step - loss: 0.9407 - accuracy: 0.5000\n",
      "Epoch 29/100\n",
      "63/63 [==============================] - 0s 2ms/step - loss: 0.9306 - accuracy: 0.5000\n",
      "Epoch 30/100\n",
      "63/63 [==============================] - 0s 2ms/step - loss: 0.9214 - accuracy: 0.5000\n",
      "Epoch 31/100\n",
      "63/63 [==============================] - 0s 2ms/step - loss: 0.9128 - accuracy: 0.5000\n",
      "Epoch 32/100\n",
      "63/63 [==============================] - 0s 2ms/step - loss: 0.9048 - accuracy: 0.5000\n",
      "Epoch 33/100\n",
      "63/63 [==============================] - 0s 2ms/step - loss: 0.8971 - accuracy: 0.5000\n",
      "Epoch 34/100\n",
      "63/63 [==============================] - 0s 2ms/step - loss: 0.8900 - accuracy: 0.5000\n",
      "Epoch 35/100\n",
      "63/63 [==============================] - 0s 2ms/step - loss: 0.8831 - accuracy: 0.5000\n",
      "Epoch 36/100\n",
      "63/63 [==============================] - 0s 2ms/step - loss: 0.8766 - accuracy: 0.5000\n",
      "Epoch 37/100\n",
      "63/63 [==============================] - 0s 2ms/step - loss: 0.8703 - accuracy: 0.5000\n",
      "Epoch 38/100\n",
      "63/63 [==============================] - 0s 2ms/step - loss: 0.8644 - accuracy: 0.5000\n",
      "Epoch 39/100\n",
      "63/63 [==============================] - 0s 2ms/step - loss: 0.8586 - accuracy: 0.5000\n",
      "Epoch 40/100\n",
      "63/63 [==============================] - 0s 2ms/step - loss: 0.8530 - accuracy: 0.5000\n",
      "Epoch 41/100\n",
      "63/63 [==============================] - 0s 2ms/step - loss: 0.8476 - accuracy: 0.5000\n",
      "Epoch 42/100\n",
      "63/63 [==============================] - 0s 2ms/step - loss: 0.8425 - accuracy: 0.5000\n",
      "Epoch 43/100\n",
      "63/63 [==============================] - 0s 3ms/step - loss: 0.8374 - accuracy: 0.5000\n",
      "Epoch 44/100\n",
      "63/63 [==============================] - 0s 3ms/step - loss: 0.8325 - accuracy: 0.5000\n",
      "Epoch 45/100\n",
      "63/63 [==============================] - 0s 2ms/step - loss: 0.8279 - accuracy: 0.5000\n",
      "Epoch 46/100\n",
      "63/63 [==============================] - 0s 3ms/step - loss: 0.8233 - accuracy: 0.5000\n",
      "Epoch 47/100\n",
      "63/63 [==============================] - 0s 3ms/step - loss: 0.8188 - accuracy: 0.5000\n",
      "Epoch 48/100\n",
      "63/63 [==============================] - 0s 2ms/step - loss: 0.8145 - accuracy: 0.5000\n",
      "Epoch 49/100\n",
      "63/63 [==============================] - 0s 2ms/step - loss: 0.8103 - accuracy: 0.5000\n",
      "Epoch 50/100\n",
      "63/63 [==============================] - 0s 2ms/step - loss: 0.8061 - accuracy: 0.5000\n",
      "Epoch 51/100\n",
      "63/63 [==============================] - 0s 2ms/step - loss: 0.8022 - accuracy: 0.5000\n",
      "Epoch 52/100\n",
      "63/63 [==============================] - 0s 2ms/step - loss: 0.7983 - accuracy: 0.5000\n",
      "Epoch 53/100\n",
      "63/63 [==============================] - 0s 3ms/step - loss: 0.7945 - accuracy: 0.5000\n",
      "Epoch 54/100\n",
      "63/63 [==============================] - 0s 2ms/step - loss: 0.7908 - accuracy: 0.5000\n",
      "Epoch 55/100\n",
      "63/63 [==============================] - 0s 2ms/step - loss: 0.7871 - accuracy: 0.5000\n",
      "Epoch 56/100\n",
      "63/63 [==============================] - 0s 2ms/step - loss: 0.7836 - accuracy: 0.5000\n",
      "Epoch 57/100\n",
      "63/63 [==============================] - 0s 2ms/step - loss: 0.7802 - accuracy: 0.5000\n",
      "Epoch 58/100\n",
      "63/63 [==============================] - 0s 2ms/step - loss: 0.7768 - accuracy: 0.5000\n",
      "Epoch 59/100\n",
      "63/63 [==============================] - 0s 2ms/step - loss: 0.7735 - accuracy: 0.5000\n",
      "Epoch 60/100\n",
      "63/63 [==============================] - 0s 2ms/step - loss: 0.7703 - accuracy: 0.5000\n",
      "Epoch 61/100\n",
      "63/63 [==============================] - 0s 2ms/step - loss: 0.7672 - accuracy: 0.5000\n",
      "Epoch 62/100\n",
      "63/63 [==============================] - 0s 2ms/step - loss: 0.7641 - accuracy: 0.5000\n",
      "Epoch 63/100\n",
      "63/63 [==============================] - 0s 2ms/step - loss: 0.7612 - accuracy: 0.5000\n",
      "Epoch 64/100\n",
      "63/63 [==============================] - 0s 2ms/step - loss: 0.7583 - accuracy: 0.5000\n",
      "Epoch 65/100\n",
      "63/63 [==============================] - 0s 2ms/step - loss: 0.7554 - accuracy: 0.5000\n",
      "Epoch 66/100\n",
      "63/63 [==============================] - 0s 3ms/step - loss: 0.7527 - accuracy: 0.5000\n",
      "Epoch 67/100\n",
      "63/63 [==============================] - 0s 2ms/step - loss: 0.7500 - accuracy: 0.5000\n",
      "Epoch 68/100\n",
      "63/63 [==============================] - 0s 2ms/step - loss: 0.7474 - accuracy: 0.5000\n",
      "Epoch 69/100\n",
      "63/63 [==============================] - 0s 3ms/step - loss: 0.7449 - accuracy: 0.5000\n",
      "Epoch 70/100\n",
      "63/63 [==============================] - 0s 2ms/step - loss: 0.7425 - accuracy: 0.5000\n",
      "Epoch 71/100\n",
      "63/63 [==============================] - 0s 2ms/step - loss: 0.7401 - accuracy: 0.5000\n",
      "Epoch 72/100\n",
      "63/63 [==============================] - 0s 2ms/step - loss: 0.7378 - accuracy: 0.5000\n",
      "Epoch 73/100\n",
      "63/63 [==============================] - 0s 2ms/step - loss: 0.7356 - accuracy: 0.5000\n",
      "Epoch 74/100\n",
      "63/63 [==============================] - 0s 2ms/step - loss: 0.7334 - accuracy: 0.5000\n",
      "Epoch 75/100\n",
      "63/63 [==============================] - 0s 3ms/step - loss: 0.7313 - accuracy: 0.5000\n",
      "Epoch 76/100\n",
      "63/63 [==============================] - 0s 3ms/step - loss: 0.7292 - accuracy: 0.5000\n",
      "Epoch 77/100\n",
      "63/63 [==============================] - 0s 3ms/step - loss: 0.7273 - accuracy: 0.5000\n",
      "Epoch 78/100\n",
      "63/63 [==============================] - 0s 3ms/step - loss: 0.7254 - accuracy: 0.5000\n",
      "Epoch 79/100\n",
      "63/63 [==============================] - 0s 3ms/step - loss: 0.7235 - accuracy: 0.5000\n",
      "Epoch 80/100\n",
      "63/63 [==============================] - 0s 3ms/step - loss: 0.7218 - accuracy: 0.5000\n",
      "Epoch 81/100\n",
      "63/63 [==============================] - 0s 3ms/step - loss: 0.7200 - accuracy: 0.5000\n",
      "Epoch 82/100\n",
      "63/63 [==============================] - 0s 3ms/step - loss: 0.7184 - accuracy: 0.5000\n",
      "Epoch 83/100\n"
     ]
    },
    {
     "name": "stdout",
     "output_type": "stream",
     "text": [
      "63/63 [==============================] - 0s 3ms/step - loss: 0.7168 - accuracy: 0.5000\n",
      "Epoch 84/100\n",
      "63/63 [==============================] - 0s 4ms/step - loss: 0.7153 - accuracy: 0.5000\n",
      "Epoch 85/100\n",
      "63/63 [==============================] - 0s 4ms/step - loss: 0.7138 - accuracy: 0.5000\n",
      "Epoch 86/100\n",
      "63/63 [==============================] - 0s 2ms/step - loss: 0.7124 - accuracy: 0.5000\n",
      "Epoch 87/100\n",
      "63/63 [==============================] - 0s 2ms/step - loss: 0.7111 - accuracy: 0.5000\n",
      "Epoch 88/100\n",
      "63/63 [==============================] - 0s 2ms/step - loss: 0.7098 - accuracy: 0.5000\n",
      "Epoch 89/100\n",
      "63/63 [==============================] - 0s 2ms/step - loss: 0.7086 - accuracy: 0.5000\n",
      "Epoch 90/100\n",
      "63/63 [==============================] - 0s 2ms/step - loss: 0.7075 - accuracy: 0.5000\n",
      "Epoch 91/100\n",
      "63/63 [==============================] - 0s 2ms/step - loss: 0.7064 - accuracy: 0.5000\n",
      "Epoch 92/100\n",
      "63/63 [==============================] - 0s 2ms/step - loss: 0.7054 - accuracy: 0.5000\n",
      "Epoch 93/100\n",
      "63/63 [==============================] - 0s 2ms/step - loss: 0.7044 - accuracy: 0.5000\n",
      "Epoch 94/100\n",
      "63/63 [==============================] - 0s 3ms/step - loss: 0.7035 - accuracy: 0.5000\n",
      "Epoch 95/100\n",
      "63/63 [==============================] - 0s 2ms/step - loss: 0.7026 - accuracy: 0.5000\n",
      "Epoch 96/100\n",
      "63/63 [==============================] - 0s 2ms/step - loss: 0.7019 - accuracy: 0.5000\n",
      "Epoch 97/100\n",
      "63/63 [==============================] - 0s 3ms/step - loss: 0.7011 - accuracy: 0.5000\n",
      "Epoch 98/100\n",
      "63/63 [==============================] - 0s 2ms/step - loss: 0.7004 - accuracy: 0.5000\n",
      "Epoch 99/100\n",
      "63/63 [==============================] - 0s 2ms/step - loss: 0.6997 - accuracy: 0.5000\n",
      "Epoch 100/100\n",
      "63/63 [==============================] - 0s 3ms/step - loss: 0.6991 - accuracy: 0.5000\n"
     ]
    }
   ],
   "source": [
    "# Set random seed\n",
    "tf.random.set_seed(42)\n",
    "\n",
    "# 1. Create a model with a non-linear activation\n",
    "model_5 = tf.keras.Sequential([\n",
    "  tf.keras.layers.Dense(1, activation=tf.keras.activations.relu)  #Now we have added a non-reality to our model                     \n",
    "])\n",
    "\n",
    "# 2. Compile the model\n",
    "model_5.compile(loss=tf.keras.losses.BinaryCrossentropy(),\n",
    "                optimizer=tf.keras.optimizers.Adam(lr=0.001),\n",
    "                metrics=[\"accuracy\"])\n",
    "\n",
    "# 3. Fit the model\n",
    "history = model_5.fit(X, y, epochs=100)"
   ]
  },
  {
   "cell_type": "code",
   "execution_count": 48,
   "id": "330b1a47",
   "metadata": {},
   "outputs": [
    {
     "name": "stdout",
     "output_type": "stream",
     "text": [
      "Epoch 1/250\n",
      "63/63 [==============================] - 0s 3ms/step - loss: 7.7125 - accuracy: 0.5000\n",
      "Epoch 2/250\n",
      "63/63 [==============================] - 0s 3ms/step - loss: 7.7125 - accuracy: 0.5000\n",
      "Epoch 3/250\n",
      "63/63 [==============================] - 0s 3ms/step - loss: 7.7125 - accuracy: 0.5000\n",
      "Epoch 4/250\n",
      "63/63 [==============================] - 0s 3ms/step - loss: 7.7125 - accuracy: 0.5000\n",
      "Epoch 5/250\n",
      "63/63 [==============================] - 0s 4ms/step - loss: 7.7125 - accuracy: 0.5000\n",
      "Epoch 6/250\n",
      "63/63 [==============================] - 0s 3ms/step - loss: 7.7125 - accuracy: 0.5000\n",
      "Epoch 7/250\n",
      "63/63 [==============================] - 0s 4ms/step - loss: 7.7125 - accuracy: 0.5000\n",
      "Epoch 8/250\n",
      "63/63 [==============================] - 0s 3ms/step - loss: 7.7125 - accuracy: 0.5000\n",
      "Epoch 9/250\n",
      "63/63 [==============================] - 0s 2ms/step - loss: 7.7125 - accuracy: 0.5000\n",
      "Epoch 10/250\n",
      "63/63 [==============================] - 0s 3ms/step - loss: 7.7125 - accuracy: 0.5000\n",
      "Epoch 11/250\n",
      "63/63 [==============================] - 0s 2ms/step - loss: 7.7125 - accuracy: 0.5000\n",
      "Epoch 12/250\n",
      "63/63 [==============================] - 0s 3ms/step - loss: 7.7125 - accuracy: 0.5000\n",
      "Epoch 13/250\n",
      "63/63 [==============================] - 0s 3ms/step - loss: 7.7125 - accuracy: 0.5000\n",
      "Epoch 14/250\n",
      "63/63 [==============================] - 0s 2ms/step - loss: 7.7125 - accuracy: 0.5000\n",
      "Epoch 15/250\n",
      "63/63 [==============================] - 0s 3ms/step - loss: 7.7125 - accuracy: 0.5000\n",
      "Epoch 16/250\n",
      "63/63 [==============================] - 0s 3ms/step - loss: 7.7125 - accuracy: 0.5000\n",
      "Epoch 17/250\n",
      "63/63 [==============================] - 0s 2ms/step - loss: 7.7125 - accuracy: 0.5000\n",
      "Epoch 18/250\n",
      "63/63 [==============================] - 0s 2ms/step - loss: 7.7125 - accuracy: 0.5000\n",
      "Epoch 19/250\n",
      "63/63 [==============================] - 0s 2ms/step - loss: 7.7125 - accuracy: 0.5000\n",
      "Epoch 20/250\n",
      "63/63 [==============================] - 0s 2ms/step - loss: 7.7125 - accuracy: 0.5000\n",
      "Epoch 21/250\n",
      "63/63 [==============================] - 0s 3ms/step - loss: 7.7125 - accuracy: 0.5000\n",
      "Epoch 22/250\n",
      "63/63 [==============================] - 0s 2ms/step - loss: 7.7125 - accuracy: 0.5000\n",
      "Epoch 23/250\n",
      "63/63 [==============================] - 0s 2ms/step - loss: 7.7125 - accuracy: 0.5000\n",
      "Epoch 24/250\n",
      "63/63 [==============================] - 0s 2ms/step - loss: 7.7125 - accuracy: 0.5000\n",
      "Epoch 25/250\n",
      "63/63 [==============================] - 0s 3ms/step - loss: 7.7125 - accuracy: 0.5000\n",
      "Epoch 26/250\n",
      "63/63 [==============================] - 0s 3ms/step - loss: 7.7125 - accuracy: 0.5000\n",
      "Epoch 27/250\n",
      "63/63 [==============================] - 0s 2ms/step - loss: 7.7125 - accuracy: 0.5000\n",
      "Epoch 28/250\n",
      "63/63 [==============================] - 0s 2ms/step - loss: 7.7125 - accuracy: 0.5000\n",
      "Epoch 29/250\n",
      "63/63 [==============================] - 0s 3ms/step - loss: 7.7125 - accuracy: 0.5000\n",
      "Epoch 30/250\n",
      "63/63 [==============================] - 0s 3ms/step - loss: 7.7125 - accuracy: 0.5000\n",
      "Epoch 31/250\n",
      "63/63 [==============================] - 0s 3ms/step - loss: 7.7125 - accuracy: 0.5000\n",
      "Epoch 32/250\n",
      "63/63 [==============================] - 0s 3ms/step - loss: 7.7125 - accuracy: 0.5000\n",
      "Epoch 33/250\n",
      "63/63 [==============================] - 0s 2ms/step - loss: 7.7125 - accuracy: 0.5000\n",
      "Epoch 34/250\n",
      "63/63 [==============================] - 0s 3ms/step - loss: 7.7125 - accuracy: 0.5000\n",
      "Epoch 35/250\n",
      "63/63 [==============================] - 0s 3ms/step - loss: 7.7125 - accuracy: 0.5000\n",
      "Epoch 36/250\n",
      "63/63 [==============================] - 0s 3ms/step - loss: 7.7125 - accuracy: 0.5000\n",
      "Epoch 37/250\n",
      "63/63 [==============================] - 0s 3ms/step - loss: 7.7125 - accuracy: 0.5000\n",
      "Epoch 38/250\n",
      "63/63 [==============================] - 0s 3ms/step - loss: 7.7125 - accuracy: 0.5000\n",
      "Epoch 39/250\n",
      "63/63 [==============================] - 0s 3ms/step - loss: 7.7125 - accuracy: 0.5000\n",
      "Epoch 40/250\n",
      "63/63 [==============================] - 0s 3ms/step - loss: 7.7125 - accuracy: 0.5000\n",
      "Epoch 41/250\n",
      "63/63 [==============================] - 0s 3ms/step - loss: 7.7125 - accuracy: 0.5000\n",
      "Epoch 42/250\n",
      "63/63 [==============================] - 0s 3ms/step - loss: 7.7125 - accuracy: 0.5000\n",
      "Epoch 43/250\n",
      "63/63 [==============================] - 0s 3ms/step - loss: 7.7125 - accuracy: 0.5000\n",
      "Epoch 44/250\n",
      "63/63 [==============================] - 0s 4ms/step - loss: 7.7125 - accuracy: 0.5000\n",
      "Epoch 45/250\n",
      "63/63 [==============================] - 0s 4ms/step - loss: 7.7125 - accuracy: 0.5000\n",
      "Epoch 46/250\n",
      "63/63 [==============================] - 0s 4ms/step - loss: 7.7125 - accuracy: 0.5000\n",
      "Epoch 47/250\n",
      "63/63 [==============================] - 0s 4ms/step - loss: 7.7125 - accuracy: 0.5000\n",
      "Epoch 48/250\n",
      "63/63 [==============================] - 0s 3ms/step - loss: 7.7125 - accuracy: 0.5000\n",
      "Epoch 49/250\n",
      "63/63 [==============================] - 0s 3ms/step - loss: 7.7125 - accuracy: 0.5000\n",
      "Epoch 50/250\n",
      "63/63 [==============================] - 0s 4ms/step - loss: 7.7125 - accuracy: 0.5000\n",
      "Epoch 51/250\n",
      "63/63 [==============================] - 0s 3ms/step - loss: 7.7125 - accuracy: 0.5000\n",
      "Epoch 52/250\n",
      "63/63 [==============================] - 0s 3ms/step - loss: 7.7125 - accuracy: 0.5000\n",
      "Epoch 53/250\n",
      "63/63 [==============================] - 0s 3ms/step - loss: 7.7125 - accuracy: 0.5000\n",
      "Epoch 54/250\n",
      "63/63 [==============================] - 0s 3ms/step - loss: 7.7125 - accuracy: 0.5000\n",
      "Epoch 55/250\n",
      "63/63 [==============================] - 0s 3ms/step - loss: 7.7125 - accuracy: 0.5000\n",
      "Epoch 56/250\n",
      "63/63 [==============================] - 0s 3ms/step - loss: 7.7125 - accuracy: 0.5000\n",
      "Epoch 57/250\n",
      "63/63 [==============================] - 0s 3ms/step - loss: 7.7125 - accuracy: 0.5000\n",
      "Epoch 58/250\n",
      "63/63 [==============================] - 0s 3ms/step - loss: 7.7125 - accuracy: 0.5000\n",
      "Epoch 59/250\n",
      "63/63 [==============================] - 0s 3ms/step - loss: 7.7125 - accuracy: 0.5000\n",
      "Epoch 60/250\n",
      "63/63 [==============================] - 0s 3ms/step - loss: 7.7125 - accuracy: 0.5000\n",
      "Epoch 61/250\n",
      "63/63 [==============================] - 0s 3ms/step - loss: 7.7125 - accuracy: 0.5000\n",
      "Epoch 62/250\n",
      "63/63 [==============================] - 0s 3ms/step - loss: 7.7125 - accuracy: 0.5000\n",
      "Epoch 63/250\n",
      "63/63 [==============================] - 0s 3ms/step - loss: 7.7125 - accuracy: 0.5000\n",
      "Epoch 64/250\n",
      "63/63 [==============================] - 0s 3ms/step - loss: 7.7125 - accuracy: 0.5000\n",
      "Epoch 65/250\n",
      "63/63 [==============================] - 0s 3ms/step - loss: 7.7125 - accuracy: 0.5000\n",
      "Epoch 66/250\n",
      "63/63 [==============================] - 0s 3ms/step - loss: 7.7125 - accuracy: 0.5000\n",
      "Epoch 67/250\n",
      "63/63 [==============================] - 0s 3ms/step - loss: 7.7125 - accuracy: 0.5000\n",
      "Epoch 68/250\n",
      "63/63 [==============================] - 0s 3ms/step - loss: 7.7125 - accuracy: 0.5000\n",
      "Epoch 69/250\n",
      "63/63 [==============================] - 0s 3ms/step - loss: 7.7125 - accuracy: 0.5000\n",
      "Epoch 70/250\n",
      "63/63 [==============================] - 0s 3ms/step - loss: 7.7125 - accuracy: 0.5000\n",
      "Epoch 71/250\n",
      "63/63 [==============================] - 0s 4ms/step - loss: 7.7125 - accuracy: 0.5000\n",
      "Epoch 72/250\n",
      "63/63 [==============================] - 0s 3ms/step - loss: 7.7125 - accuracy: 0.5000\n",
      "Epoch 73/250\n",
      "63/63 [==============================] - 0s 3ms/step - loss: 7.7125 - accuracy: 0.5000\n",
      "Epoch 74/250\n",
      "63/63 [==============================] - 0s 3ms/step - loss: 7.7125 - accuracy: 0.5000\n",
      "Epoch 75/250\n",
      "63/63 [==============================] - 0s 2ms/step - loss: 7.7125 - accuracy: 0.5000\n",
      "Epoch 76/250\n",
      "63/63 [==============================] - 0s 2ms/step - loss: 7.7125 - accuracy: 0.5000\n",
      "Epoch 77/250\n",
      "63/63 [==============================] - 0s 3ms/step - loss: 7.7125 - accuracy: 0.5000\n",
      "Epoch 78/250\n",
      "63/63 [==============================] - 0s 3ms/step - loss: 7.7125 - accuracy: 0.5000\n",
      "Epoch 79/250\n",
      "63/63 [==============================] - 0s 2ms/step - loss: 7.7125 - accuracy: 0.5000\n",
      "Epoch 80/250\n",
      "63/63 [==============================] - 0s 3ms/step - loss: 7.7125 - accuracy: 0.5000\n",
      "Epoch 81/250\n",
      "63/63 [==============================] - 0s 2ms/step - loss: 7.7125 - accuracy: 0.5000\n",
      "Epoch 82/250\n",
      "63/63 [==============================] - 0s 3ms/step - loss: 7.7125 - accuracy: 0.5000\n",
      "Epoch 83/250\n"
     ]
    },
    {
     "name": "stdout",
     "output_type": "stream",
     "text": [
      "63/63 [==============================] - 0s 2ms/step - loss: 7.7125 - accuracy: 0.5000\n",
      "Epoch 84/250\n",
      "63/63 [==============================] - 0s 3ms/step - loss: 7.7125 - accuracy: 0.5000\n",
      "Epoch 85/250\n",
      "63/63 [==============================] - 0s 2ms/step - loss: 7.7125 - accuracy: 0.5000\n",
      "Epoch 86/250\n",
      "63/63 [==============================] - 0s 3ms/step - loss: 7.7125 - accuracy: 0.5000\n",
      "Epoch 87/250\n",
      "63/63 [==============================] - 0s 3ms/step - loss: 7.7125 - accuracy: 0.5000\n",
      "Epoch 88/250\n",
      "63/63 [==============================] - 0s 2ms/step - loss: 7.7125 - accuracy: 0.5000\n",
      "Epoch 89/250\n",
      "63/63 [==============================] - 0s 3ms/step - loss: 7.7125 - accuracy: 0.5000\n",
      "Epoch 90/250\n",
      "63/63 [==============================] - 0s 3ms/step - loss: 7.7125 - accuracy: 0.5000\n",
      "Epoch 91/250\n",
      "63/63 [==============================] - 0s 3ms/step - loss: 7.7125 - accuracy: 0.5000\n",
      "Epoch 92/250\n",
      "63/63 [==============================] - 0s 3ms/step - loss: 7.7125 - accuracy: 0.5000\n",
      "Epoch 93/250\n",
      "63/63 [==============================] - 0s 3ms/step - loss: 7.7125 - accuracy: 0.5000\n",
      "Epoch 94/250\n",
      "63/63 [==============================] - 0s 3ms/step - loss: 7.7125 - accuracy: 0.5000\n",
      "Epoch 95/250\n",
      "63/63 [==============================] - 0s 2ms/step - loss: 7.7125 - accuracy: 0.5000\n",
      "Epoch 96/250\n",
      "63/63 [==============================] - 0s 2ms/step - loss: 7.7125 - accuracy: 0.5000\n",
      "Epoch 97/250\n",
      "63/63 [==============================] - 0s 2ms/step - loss: 7.7125 - accuracy: 0.5000\n",
      "Epoch 98/250\n",
      "63/63 [==============================] - 0s 3ms/step - loss: 7.7125 - accuracy: 0.5000\n",
      "Epoch 99/250\n",
      "63/63 [==============================] - 0s 2ms/step - loss: 7.7125 - accuracy: 0.5000\n",
      "Epoch 100/250\n",
      "63/63 [==============================] - 0s 3ms/step - loss: 7.7125 - accuracy: 0.5000\n",
      "Epoch 101/250\n",
      "63/63 [==============================] - 0s 3ms/step - loss: 7.7125 - accuracy: 0.5000\n",
      "Epoch 102/250\n",
      "63/63 [==============================] - 0s 2ms/step - loss: 7.7125 - accuracy: 0.5000\n",
      "Epoch 103/250\n",
      "63/63 [==============================] - 0s 2ms/step - loss: 7.7125 - accuracy: 0.5000\n",
      "Epoch 104/250\n",
      "63/63 [==============================] - 0s 3ms/step - loss: 7.7125 - accuracy: 0.5000\n",
      "Epoch 105/250\n",
      "63/63 [==============================] - 0s 3ms/step - loss: 7.7125 - accuracy: 0.5000\n",
      "Epoch 106/250\n",
      "63/63 [==============================] - 0s 2ms/step - loss: 7.7125 - accuracy: 0.5000\n",
      "Epoch 107/250\n",
      "63/63 [==============================] - 0s 3ms/step - loss: 7.7125 - accuracy: 0.5000\n",
      "Epoch 108/250\n",
      "63/63 [==============================] - 0s 3ms/step - loss: 7.7125 - accuracy: 0.5000\n",
      "Epoch 109/250\n",
      "63/63 [==============================] - 0s 3ms/step - loss: 7.7125 - accuracy: 0.5000\n",
      "Epoch 110/250\n",
      "63/63 [==============================] - 0s 3ms/step - loss: 7.7125 - accuracy: 0.5000\n",
      "Epoch 111/250\n",
      "63/63 [==============================] - 0s 3ms/step - loss: 7.7125 - accuracy: 0.5000\n",
      "Epoch 112/250\n",
      "63/63 [==============================] - 0s 2ms/step - loss: 7.7125 - accuracy: 0.5000\n",
      "Epoch 113/250\n",
      "63/63 [==============================] - 0s 3ms/step - loss: 7.7125 - accuracy: 0.5000\n",
      "Epoch 114/250\n",
      "63/63 [==============================] - 0s 2ms/step - loss: 7.7125 - accuracy: 0.5000\n",
      "Epoch 115/250\n",
      "63/63 [==============================] - 0s 2ms/step - loss: 7.7125 - accuracy: 0.5000\n",
      "Epoch 116/250\n",
      "63/63 [==============================] - 0s 2ms/step - loss: 7.7125 - accuracy: 0.5000\n",
      "Epoch 117/250\n",
      "63/63 [==============================] - 0s 2ms/step - loss: 7.7125 - accuracy: 0.5000\n",
      "Epoch 118/250\n",
      "63/63 [==============================] - 0s 3ms/step - loss: 7.7125 - accuracy: 0.5000\n",
      "Epoch 119/250\n",
      "63/63 [==============================] - 0s 3ms/step - loss: 7.7125 - accuracy: 0.5000\n",
      "Epoch 120/250\n",
      "63/63 [==============================] - 0s 2ms/step - loss: 7.7125 - accuracy: 0.5000\n",
      "Epoch 121/250\n",
      "63/63 [==============================] - 0s 3ms/step - loss: 7.7125 - accuracy: 0.5000\n",
      "Epoch 122/250\n",
      "63/63 [==============================] - 0s 3ms/step - loss: 7.7125 - accuracy: 0.5000\n",
      "Epoch 123/250\n",
      "63/63 [==============================] - 0s 3ms/step - loss: 7.7125 - accuracy: 0.5000\n",
      "Epoch 124/250\n",
      "63/63 [==============================] - 0s 2ms/step - loss: 7.7125 - accuracy: 0.5000\n",
      "Epoch 125/250\n",
      "63/63 [==============================] - 0s 2ms/step - loss: 7.7125 - accuracy: 0.5000\n",
      "Epoch 126/250\n",
      "63/63 [==============================] - 0s 3ms/step - loss: 7.7125 - accuracy: 0.5000\n",
      "Epoch 127/250\n",
      "63/63 [==============================] - 0s 2ms/step - loss: 7.7125 - accuracy: 0.5000\n",
      "Epoch 128/250\n",
      "63/63 [==============================] - 0s 3ms/step - loss: 7.7125 - accuracy: 0.5000\n",
      "Epoch 129/250\n",
      "63/63 [==============================] - 0s 3ms/step - loss: 7.7125 - accuracy: 0.5000\n",
      "Epoch 130/250\n",
      "63/63 [==============================] - 0s 3ms/step - loss: 7.7125 - accuracy: 0.5000\n",
      "Epoch 131/250\n",
      "63/63 [==============================] - 0s 3ms/step - loss: 7.7125 - accuracy: 0.5000\n",
      "Epoch 132/250\n",
      "63/63 [==============================] - 0s 3ms/step - loss: 7.7125 - accuracy: 0.5000\n",
      "Epoch 133/250\n",
      "63/63 [==============================] - 0s 3ms/step - loss: 7.7125 - accuracy: 0.5000\n",
      "Epoch 134/250\n",
      "63/63 [==============================] - 0s 3ms/step - loss: 7.7125 - accuracy: 0.5000\n",
      "Epoch 135/250\n",
      "63/63 [==============================] - 0s 3ms/step - loss: 7.7125 - accuracy: 0.5000\n",
      "Epoch 136/250\n",
      "63/63 [==============================] - 0s 3ms/step - loss: 7.7125 - accuracy: 0.5000\n",
      "Epoch 137/250\n",
      "63/63 [==============================] - 0s 3ms/step - loss: 7.7125 - accuracy: 0.5000\n",
      "Epoch 138/250\n",
      "63/63 [==============================] - 0s 3ms/step - loss: 7.7125 - accuracy: 0.5000\n",
      "Epoch 139/250\n",
      "63/63 [==============================] - 0s 2ms/step - loss: 7.7125 - accuracy: 0.5000\n",
      "Epoch 140/250\n",
      "63/63 [==============================] - 0s 3ms/step - loss: 7.7125 - accuracy: 0.5000\n",
      "Epoch 141/250\n",
      "63/63 [==============================] - 0s 3ms/step - loss: 7.7125 - accuracy: 0.5000\n",
      "Epoch 142/250\n",
      "63/63 [==============================] - 0s 3ms/step - loss: 7.7125 - accuracy: 0.5000\n",
      "Epoch 143/250\n",
      "63/63 [==============================] - 0s 3ms/step - loss: 7.7125 - accuracy: 0.5000\n",
      "Epoch 144/250\n",
      "63/63 [==============================] - 0s 3ms/step - loss: 7.7125 - accuracy: 0.5000\n",
      "Epoch 145/250\n",
      "63/63 [==============================] - 0s 2ms/step - loss: 7.7125 - accuracy: 0.5000\n",
      "Epoch 146/250\n",
      "63/63 [==============================] - 0s 2ms/step - loss: 7.7125 - accuracy: 0.5000\n",
      "Epoch 147/250\n",
      "63/63 [==============================] - 0s 3ms/step - loss: 7.7125 - accuracy: 0.5000\n",
      "Epoch 148/250\n",
      "63/63 [==============================] - 0s 3ms/step - loss: 7.7125 - accuracy: 0.5000\n",
      "Epoch 149/250\n",
      "63/63 [==============================] - 0s 2ms/step - loss: 7.7125 - accuracy: 0.5000\n",
      "Epoch 150/250\n",
      "63/63 [==============================] - 0s 2ms/step - loss: 7.7125 - accuracy: 0.5000\n",
      "Epoch 151/250\n",
      "63/63 [==============================] - 0s 2ms/step - loss: 7.7125 - accuracy: 0.5000\n",
      "Epoch 152/250\n",
      "63/63 [==============================] - 0s 3ms/step - loss: 7.7125 - accuracy: 0.5000\n",
      "Epoch 153/250\n",
      "63/63 [==============================] - 0s 3ms/step - loss: 7.7125 - accuracy: 0.5000\n",
      "Epoch 154/250\n",
      "63/63 [==============================] - 0s 2ms/step - loss: 7.7125 - accuracy: 0.5000\n",
      "Epoch 155/250\n",
      "63/63 [==============================] - 0s 2ms/step - loss: 7.7125 - accuracy: 0.5000\n",
      "Epoch 156/250\n",
      "63/63 [==============================] - 0s 2ms/step - loss: 7.7125 - accuracy: 0.5000\n",
      "Epoch 157/250\n",
      "63/63 [==============================] - 0s 3ms/step - loss: 7.7125 - accuracy: 0.5000\n",
      "Epoch 158/250\n",
      "63/63 [==============================] - 0s 3ms/step - loss: 7.7125 - accuracy: 0.5000\n",
      "Epoch 159/250\n",
      "63/63 [==============================] - 0s 3ms/step - loss: 7.7125 - accuracy: 0.5000\n",
      "Epoch 160/250\n",
      "63/63 [==============================] - 0s 3ms/step - loss: 7.7125 - accuracy: 0.5000\n",
      "Epoch 161/250\n",
      "63/63 [==============================] - 0s 2ms/step - loss: 7.7125 - accuracy: 0.5000\n",
      "Epoch 162/250\n",
      "63/63 [==============================] - 0s 2ms/step - loss: 7.7125 - accuracy: 0.5000\n",
      "Epoch 163/250\n",
      "63/63 [==============================] - 0s 2ms/step - loss: 7.7125 - accuracy: 0.5000\n",
      "Epoch 164/250\n"
     ]
    },
    {
     "name": "stdout",
     "output_type": "stream",
     "text": [
      "63/63 [==============================] - 0s 2ms/step - loss: 7.7125 - accuracy: 0.5000\n",
      "Epoch 165/250\n",
      "63/63 [==============================] - 0s 2ms/step - loss: 7.7125 - accuracy: 0.5000\n",
      "Epoch 166/250\n",
      "63/63 [==============================] - 0s 2ms/step - loss: 7.7125 - accuracy: 0.5000\n",
      "Epoch 167/250\n",
      "63/63 [==============================] - 0s 2ms/step - loss: 7.7125 - accuracy: 0.5000\n",
      "Epoch 168/250\n",
      "63/63 [==============================] - 0s 2ms/step - loss: 7.7125 - accuracy: 0.5000\n",
      "Epoch 169/250\n",
      "63/63 [==============================] - 0s 2ms/step - loss: 7.7125 - accuracy: 0.5000\n",
      "Epoch 170/250\n",
      "63/63 [==============================] - 0s 3ms/step - loss: 7.7125 - accuracy: 0.5000\n",
      "Epoch 171/250\n",
      "63/63 [==============================] - 0s 2ms/step - loss: 7.7125 - accuracy: 0.5000\n",
      "Epoch 172/250\n",
      "63/63 [==============================] - 0s 2ms/step - loss: 7.7125 - accuracy: 0.5000\n",
      "Epoch 173/250\n",
      "63/63 [==============================] - 0s 2ms/step - loss: 7.7125 - accuracy: 0.5000\n",
      "Epoch 174/250\n",
      "63/63 [==============================] - 0s 3ms/step - loss: 7.7125 - accuracy: 0.5000\n",
      "Epoch 175/250\n",
      "63/63 [==============================] - 0s 3ms/step - loss: 7.7125 - accuracy: 0.5000\n",
      "Epoch 176/250\n",
      "63/63 [==============================] - 0s 3ms/step - loss: 7.7125 - accuracy: 0.5000\n",
      "Epoch 177/250\n",
      "63/63 [==============================] - 0s 3ms/step - loss: 7.7125 - accuracy: 0.5000\n",
      "Epoch 178/250\n",
      "63/63 [==============================] - 0s 2ms/step - loss: 7.7125 - accuracy: 0.5000\n",
      "Epoch 179/250\n",
      "63/63 [==============================] - 0s 2ms/step - loss: 7.7125 - accuracy: 0.5000\n",
      "Epoch 180/250\n",
      "63/63 [==============================] - 0s 2ms/step - loss: 7.7125 - accuracy: 0.5000\n",
      "Epoch 181/250\n",
      "63/63 [==============================] - 0s 3ms/step - loss: 7.7125 - accuracy: 0.5000\n",
      "Epoch 182/250\n",
      "63/63 [==============================] - 0s 3ms/step - loss: 7.7125 - accuracy: 0.5000\n",
      "Epoch 183/250\n",
      "63/63 [==============================] - 0s 2ms/step - loss: 7.7125 - accuracy: 0.5000\n",
      "Epoch 184/250\n",
      "63/63 [==============================] - 0s 2ms/step - loss: 7.7125 - accuracy: 0.5000\n",
      "Epoch 185/250\n",
      "63/63 [==============================] - 0s 2ms/step - loss: 7.7125 - accuracy: 0.5000\n",
      "Epoch 186/250\n",
      "63/63 [==============================] - 0s 2ms/step - loss: 7.7125 - accuracy: 0.5000\n",
      "Epoch 187/250\n",
      "63/63 [==============================] - 0s 2ms/step - loss: 7.7125 - accuracy: 0.5000\n",
      "Epoch 188/250\n",
      "63/63 [==============================] - 0s 2ms/step - loss: 7.7125 - accuracy: 0.5000\n",
      "Epoch 189/250\n",
      "63/63 [==============================] - 0s 2ms/step - loss: 7.7125 - accuracy: 0.5000\n",
      "Epoch 190/250\n",
      "63/63 [==============================] - 0s 2ms/step - loss: 7.7125 - accuracy: 0.5000\n",
      "Epoch 191/250\n",
      "63/63 [==============================] - 0s 2ms/step - loss: 7.7125 - accuracy: 0.5000\n",
      "Epoch 192/250\n",
      "63/63 [==============================] - 0s 3ms/step - loss: 7.7125 - accuracy: 0.5000\n",
      "Epoch 193/250\n",
      "63/63 [==============================] - 0s 3ms/step - loss: 7.7125 - accuracy: 0.5000\n",
      "Epoch 194/250\n",
      "63/63 [==============================] - 0s 2ms/step - loss: 7.7125 - accuracy: 0.5000\n",
      "Epoch 195/250\n",
      "63/63 [==============================] - 0s 3ms/step - loss: 7.7125 - accuracy: 0.5000\n",
      "Epoch 196/250\n",
      "63/63 [==============================] - 0s 2ms/step - loss: 7.7125 - accuracy: 0.5000\n",
      "Epoch 197/250\n",
      "63/63 [==============================] - 0s 2ms/step - loss: 7.7125 - accuracy: 0.5000\n",
      "Epoch 198/250\n",
      "63/63 [==============================] - 0s 3ms/step - loss: 7.7125 - accuracy: 0.5000\n",
      "Epoch 199/250\n",
      "63/63 [==============================] - 0s 3ms/step - loss: 7.7125 - accuracy: 0.5000\n",
      "Epoch 200/250\n",
      "63/63 [==============================] - 0s 2ms/step - loss: 7.7125 - accuracy: 0.5000\n",
      "Epoch 201/250\n",
      "63/63 [==============================] - 0s 3ms/step - loss: 7.7125 - accuracy: 0.5000\n",
      "Epoch 202/250\n",
      "63/63 [==============================] - 0s 3ms/step - loss: 7.7125 - accuracy: 0.5000\n",
      "Epoch 203/250\n",
      "63/63 [==============================] - 0s 2ms/step - loss: 7.7125 - accuracy: 0.5000\n",
      "Epoch 204/250\n",
      "63/63 [==============================] - 0s 3ms/step - loss: 7.7125 - accuracy: 0.5000\n",
      "Epoch 205/250\n",
      "63/63 [==============================] - 0s 3ms/step - loss: 7.7125 - accuracy: 0.5000\n",
      "Epoch 206/250\n",
      "63/63 [==============================] - 0s 3ms/step - loss: 7.7125 - accuracy: 0.5000\n",
      "Epoch 207/250\n",
      "63/63 [==============================] - 0s 3ms/step - loss: 7.7125 - accuracy: 0.5000\n",
      "Epoch 208/250\n",
      "63/63 [==============================] - 0s 3ms/step - loss: 7.7125 - accuracy: 0.5000\n",
      "Epoch 209/250\n",
      "63/63 [==============================] - 0s 3ms/step - loss: 7.7125 - accuracy: 0.5000\n",
      "Epoch 210/250\n",
      "63/63 [==============================] - 0s 2ms/step - loss: 7.7125 - accuracy: 0.5000\n",
      "Epoch 211/250\n",
      "63/63 [==============================] - 0s 2ms/step - loss: 7.7125 - accuracy: 0.5000\n",
      "Epoch 212/250\n",
      "63/63 [==============================] - 0s 2ms/step - loss: 7.7125 - accuracy: 0.5000\n",
      "Epoch 213/250\n",
      "63/63 [==============================] - 0s 2ms/step - loss: 7.7125 - accuracy: 0.5000\n",
      "Epoch 214/250\n",
      "63/63 [==============================] - 0s 2ms/step - loss: 7.7125 - accuracy: 0.5000\n",
      "Epoch 215/250\n",
      "63/63 [==============================] - 0s 3ms/step - loss: 7.7125 - accuracy: 0.5000\n",
      "Epoch 216/250\n",
      "63/63 [==============================] - 0s 3ms/step - loss: 7.7125 - accuracy: 0.5000\n",
      "Epoch 217/250\n",
      "63/63 [==============================] - 0s 3ms/step - loss: 7.7125 - accuracy: 0.5000\n",
      "Epoch 218/250\n",
      "63/63 [==============================] - 0s 2ms/step - loss: 7.7125 - accuracy: 0.5000\n",
      "Epoch 219/250\n",
      "63/63 [==============================] - 0s 2ms/step - loss: 7.7125 - accuracy: 0.5000\n",
      "Epoch 220/250\n",
      "63/63 [==============================] - 0s 3ms/step - loss: 7.7125 - accuracy: 0.5000\n",
      "Epoch 221/250\n",
      "63/63 [==============================] - 0s 3ms/step - loss: 7.7125 - accuracy: 0.5000\n",
      "Epoch 222/250\n",
      "63/63 [==============================] - 0s 3ms/step - loss: 7.7125 - accuracy: 0.5000\n",
      "Epoch 223/250\n",
      "63/63 [==============================] - 0s 3ms/step - loss: 7.7125 - accuracy: 0.5000\n",
      "Epoch 224/250\n",
      "63/63 [==============================] - 0s 3ms/step - loss: 7.7125 - accuracy: 0.5000\n",
      "Epoch 225/250\n",
      "63/63 [==============================] - 0s 3ms/step - loss: 7.7125 - accuracy: 0.5000\n",
      "Epoch 226/250\n",
      "63/63 [==============================] - 0s 3ms/step - loss: 7.7125 - accuracy: 0.5000\n",
      "Epoch 227/250\n",
      "63/63 [==============================] - 0s 3ms/step - loss: 7.7125 - accuracy: 0.5000\n",
      "Epoch 228/250\n",
      "63/63 [==============================] - 0s 3ms/step - loss: 7.7125 - accuracy: 0.5000\n",
      "Epoch 229/250\n",
      "63/63 [==============================] - 0s 3ms/step - loss: 7.7125 - accuracy: 0.5000\n",
      "Epoch 230/250\n",
      "63/63 [==============================] - 0s 3ms/step - loss: 7.7125 - accuracy: 0.5000\n",
      "Epoch 231/250\n",
      "63/63 [==============================] - 0s 3ms/step - loss: 7.7125 - accuracy: 0.5000\n",
      "Epoch 232/250\n",
      "63/63 [==============================] - 0s 3ms/step - loss: 7.7125 - accuracy: 0.5000\n",
      "Epoch 233/250\n",
      "63/63 [==============================] - 0s 3ms/step - loss: 7.7125 - accuracy: 0.5000\n",
      "Epoch 234/250\n",
      "63/63 [==============================] - 0s 3ms/step - loss: 7.7125 - accuracy: 0.5000\n",
      "Epoch 235/250\n",
      "63/63 [==============================] - 0s 2ms/step - loss: 7.7125 - accuracy: 0.5000\n",
      "Epoch 236/250\n",
      "63/63 [==============================] - 0s 3ms/step - loss: 7.7125 - accuracy: 0.5000\n",
      "Epoch 237/250\n",
      "63/63 [==============================] - 0s 2ms/step - loss: 7.7125 - accuracy: 0.5000\n",
      "Epoch 238/250\n",
      "63/63 [==============================] - 0s 3ms/step - loss: 7.7125 - accuracy: 0.5000\n",
      "Epoch 239/250\n",
      "63/63 [==============================] - 0s 3ms/step - loss: 7.7125 - accuracy: 0.5000\n",
      "Epoch 240/250\n",
      "63/63 [==============================] - 0s 3ms/step - loss: 7.7125 - accuracy: 0.5000\n",
      "Epoch 241/250\n",
      "63/63 [==============================] - 0s 2ms/step - loss: 7.7125 - accuracy: 0.5000\n",
      "Epoch 242/250\n",
      "63/63 [==============================] - 0s 2ms/step - loss: 7.7125 - accuracy: 0.5000\n",
      "Epoch 243/250\n",
      "63/63 [==============================] - 0s 2ms/step - loss: 7.7125 - accuracy: 0.5000\n",
      "Epoch 244/250\n",
      "63/63 [==============================] - 0s 3ms/step - loss: 7.7125 - accuracy: 0.5000\n",
      "Epoch 245/250\n"
     ]
    },
    {
     "name": "stdout",
     "output_type": "stream",
     "text": [
      "63/63 [==============================] - 0s 3ms/step - loss: 7.7125 - accuracy: 0.5000\n",
      "Epoch 246/250\n",
      "63/63 [==============================] - 0s 2ms/step - loss: 7.7125 - accuracy: 0.5000\n",
      "Epoch 247/250\n",
      "63/63 [==============================] - 0s 3ms/step - loss: 7.7125 - accuracy: 0.5000\n",
      "Epoch 248/250\n",
      "63/63 [==============================] - 0s 2ms/step - loss: 7.7125 - accuracy: 0.5000\n",
      "Epoch 249/250\n",
      "63/63 [==============================] - 0s 3ms/step - loss: 7.7125 - accuracy: 0.5000\n",
      "Epoch 250/250\n",
      "63/63 [==============================] - 0s 2ms/step - loss: 7.7125 - accuracy: 0.5000\n"
     ]
    }
   ],
   "source": [
    "# Time to replicate the multi-layer neural network from TensorFlow playground in code...\n",
    "\n",
    "# Set the random seed\n",
    "tf.random.set_seed(42)\n",
    "\n",
    "# 1. Create the model\n",
    "model_6 = tf.keras.Sequential([\n",
    "  tf.keras.layers.Dense(4, activation=\"relu\"),\n",
    "  tf.keras.layers.Dense(4, activation=\"relu\"), \n",
    "  tf.keras.layers.Dense(1)                           \n",
    "])\n",
    "\n",
    "# 2. Compile the model\n",
    "model_6.compile(loss=\"binary_crossentropy\",\n",
    "                optimizer=tf.keras.optimizers.Adam(lr=0.001),\n",
    "                metrics=[\"accuracy\"])\n",
    "\n",
    "# 3. Fit the model\n",
    "history = model_6.fit(X, y, epochs=250)"
   ]
  },
  {
   "cell_type": "code",
   "execution_count": 49,
   "id": "d6dab532",
   "metadata": {},
   "outputs": [
    {
     "name": "stdout",
     "output_type": "stream",
     "text": [
      "63/63 [==============================] - 0s 1ms/step - loss: 7.7125 - accuracy: 0.5000\n"
     ]
    },
    {
     "data": {
      "text/plain": [
       "[7.712475299835205, 0.5]"
      ]
     },
     "execution_count": 49,
     "metadata": {},
     "output_type": "execute_result"
    }
   ],
   "source": [
    "# Evalaute the model\n",
    "model_6.evaluate(X, y)"
   ]
  },
  {
   "cell_type": "code",
   "execution_count": 50,
   "id": "87b5b0bd",
   "metadata": {},
   "outputs": [
    {
     "name": "stdout",
     "output_type": "stream",
     "text": [
      "doing binary classification\n"
     ]
    },
    {
     "data": {
      "image/png": "[encoded data removed]",
      "text/plain": [
       "<Figure size 432x288 with 1 Axes>"
      ]
     },
     "metadata": {
      "needs_background": "light"
     },
     "output_type": "display_data"
    }
   ],
   "source": [
    "# How do our model predictions look?\n",
    "plot_decision_boundary(model_6, X, y)"
   ]
  },
  {
   "cell_type": "code",
   "execution_count": 54,
   "id": "0c51da87",
   "metadata": {},
   "outputs": [
    {
     "name": "stdout",
     "output_type": "stream",
     "text": [
      "Epoch 1/50\n",
      "63/63 [==============================] - 1s 3ms/step - loss: 0.6868 - accuracy: 0.5130\n",
      "Epoch 2/50\n",
      "63/63 [==============================] - 0s 3ms/step - loss: 0.6815 - accuracy: 0.5270\n",
      "Epoch 3/50\n",
      "63/63 [==============================] - 0s 3ms/step - loss: 0.6795 - accuracy: 0.5385\n",
      "Epoch 4/50\n",
      "63/63 [==============================] - 0s 3ms/step - loss: 0.6781 - accuracy: 0.5430\n",
      "Epoch 5/50\n",
      "63/63 [==============================] - 0s 3ms/step - loss: 0.6768 - accuracy: 0.5420\n",
      "Epoch 6/50\n",
      "63/63 [==============================] - 0s 5ms/step - loss: 0.6754 - accuracy: 0.5395\n",
      "Epoch 7/50\n",
      "63/63 [==============================] - 0s 3ms/step - loss: 0.6741 - accuracy: 0.5490\n",
      "Epoch 8/50\n",
      "63/63 [==============================] - 0s 3ms/step - loss: 0.6728 - accuracy: 0.5480\n",
      "Epoch 9/50\n",
      "63/63 [==============================] - 0s 3ms/step - loss: 0.6717 - accuracy: 0.5510\n",
      "Epoch 10/50\n",
      "63/63 [==============================] - 0s 3ms/step - loss: 0.6700 - accuracy: 0.5530\n",
      "Epoch 11/50\n",
      "63/63 [==============================] - 0s 3ms/step - loss: 0.6690 - accuracy: 0.5575\n",
      "Epoch 12/50\n",
      "63/63 [==============================] - 0s 3ms/step - loss: 0.6672 - accuracy: 0.5605\n",
      "Epoch 13/50\n",
      "63/63 [==============================] - 0s 5ms/step - loss: 0.6658 - accuracy: 0.5630\n",
      "Epoch 14/50\n",
      "63/63 [==============================] - 0s 4ms/step - loss: 0.6641 - accuracy: 0.5710\n",
      "Epoch 15/50\n",
      "63/63 [==============================] - 0s 3ms/step - loss: 0.6623 - accuracy: 0.5730\n",
      "Epoch 16/50\n",
      "63/63 [==============================] - 0s 3ms/step - loss: 0.6608 - accuracy: 0.5730\n",
      "Epoch 17/50\n",
      "63/63 [==============================] - 0s 3ms/step - loss: 0.6590 - accuracy: 0.5855\n",
      "Epoch 18/50\n",
      "63/63 [==============================] - 0s 3ms/step - loss: 0.6574 - accuracy: 0.5840\n",
      "Epoch 19/50\n",
      "63/63 [==============================] - 0s 3ms/step - loss: 0.6551 - accuracy: 0.5910\n",
      "Epoch 20/50\n",
      "63/63 [==============================] - 0s 3ms/step - loss: 0.6525 - accuracy: 0.5760\n",
      "Epoch 21/50\n",
      "63/63 [==============================] - 0s 3ms/step - loss: 0.6478 - accuracy: 0.5830\n",
      "Epoch 22/50\n",
      "63/63 [==============================] - 0s 4ms/step - loss: 0.6434 - accuracy: 0.5875\n",
      "Epoch 23/50\n",
      "63/63 [==============================] - 0s 3ms/step - loss: 0.6389 - accuracy: 0.5920\n",
      "Epoch 24/50\n",
      "63/63 [==============================] - 0s 3ms/step - loss: 0.6339 - accuracy: 0.6050\n",
      "Epoch 25/50\n",
      "63/63 [==============================] - 0s 3ms/step - loss: 0.6276 - accuracy: 0.6380\n",
      "Epoch 26/50\n",
      "63/63 [==============================] - 0s 3ms/step - loss: 0.6177 - accuracy: 0.6780\n",
      "Epoch 27/50\n",
      "63/63 [==============================] - 0s 3ms/step - loss: 0.6072 - accuracy: 0.7285\n",
      "Epoch 28/50\n",
      "63/63 [==============================] - 0s 4ms/step - loss: 0.5954 - accuracy: 0.7715\n",
      "Epoch 29/50\n",
      "63/63 [==============================] - 0s 3ms/step - loss: 0.5807 - accuracy: 0.8240\n",
      "Epoch 30/50\n",
      "63/63 [==============================] - 0s 3ms/step - loss: 0.5636 - accuracy: 0.8580\n",
      "Epoch 31/50\n",
      "63/63 [==============================] - 0s 3ms/step - loss: 0.5464 - accuracy: 0.9015\n",
      "Epoch 32/50\n",
      "63/63 [==============================] - 0s 3ms/step - loss: 0.5301 - accuracy: 0.9125\n",
      "Epoch 33/50\n",
      "63/63 [==============================] - 0s 3ms/step - loss: 0.5133 - accuracy: 0.9190\n",
      "Epoch 34/50\n",
      "63/63 [==============================] - 0s 4ms/step - loss: 0.4966 - accuracy: 0.9360\n",
      "Epoch 35/50\n",
      "63/63 [==============================] - 0s 3ms/step - loss: 0.4797 - accuracy: 0.9430\n",
      "Epoch 36/50\n",
      "63/63 [==============================] - 0s 3ms/step - loss: 0.4633 - accuracy: 0.9400\n",
      "Epoch 37/50\n",
      "63/63 [==============================] - 0s 3ms/step - loss: 0.4464 - accuracy: 0.9485\n",
      "Epoch 38/50\n",
      "63/63 [==============================] - 0s 3ms/step - loss: 0.4283 - accuracy: 0.9555\n",
      "Epoch 39/50\n",
      "63/63 [==============================] - 0s 3ms/step - loss: 0.4117 - accuracy: 0.9655\n",
      "Epoch 40/50\n",
      "63/63 [==============================] - 0s 3ms/step - loss: 0.3956 - accuracy: 0.9725\n",
      "Epoch 41/50\n",
      "63/63 [==============================] - 0s 3ms/step - loss: 0.3792 - accuracy: 0.9730\n",
      "Epoch 42/50\n",
      "63/63 [==============================] - 0s 3ms/step - loss: 0.3637 - accuracy: 0.9690\n",
      "Epoch 43/50\n",
      "63/63 [==============================] - 0s 3ms/step - loss: 0.3481 - accuracy: 0.9795\n",
      "Epoch 44/50\n",
      "63/63 [==============================] - 0s 3ms/step - loss: 0.3323 - accuracy: 0.9815\n",
      "Epoch 45/50\n",
      "63/63 [==============================] - 0s 4ms/step - loss: 0.3184 - accuracy: 0.9820\n",
      "Epoch 46/50\n",
      "63/63 [==============================] - 0s 3ms/step - loss: 0.3046 - accuracy: 0.9840\n",
      "Epoch 47/50\n",
      "63/63 [==============================] - 0s 3ms/step - loss: 0.2897 - accuracy: 0.9835\n",
      "Epoch 48/50\n",
      "63/63 [==============================] - 0s 4ms/step - loss: 0.2763 - accuracy: 0.9880\n",
      "Epoch 49/50\n",
      "63/63 [==============================] - 0s 3ms/step - loss: 0.2633 - accuracy: 0.9890\n",
      "Epoch 50/50\n",
      "63/63 [==============================] - 0s 3ms/step - loss: 0.2503 - accuracy: 0.9900\n"
     ]
    }
   ],
   "source": [
    "# set random seed\n",
    "tf.random.set_seed(42)\n",
    "\n",
    "#1. Create model\n",
    "model_7 = tf.keras.Sequential([\n",
    "    tf.keras.layers.Dense(4, activation='relu'),\n",
    "    tf.keras.layers.Dense(4, activation='relu'),\n",
    "    tf.keras.layers.Dense(1, activation='sigmoid')\n",
    "])\n",
    "\n",
    "#2. Compile the model\n",
    "model_7.compile(loss=\"binary_crossentropy\",\n",
    "               optimizer=tf.keras.optimizers.Adam(lr=0.001),\n",
    "               metrics=[\"accuracy\"])\n",
    "\n",
    "#3. Fit the model\n",
    "history = model_7.fit(X,y, epochs = 50)"
   ]
  },
  {
   "cell_type": "code",
   "execution_count": 56,
   "id": "4a88c03d",
   "metadata": {},
   "outputs": [
    {
     "name": "stdout",
     "output_type": "stream",
     "text": [
      "63/63 [==============================] - 0s 2ms/step - loss: 0.2426 - accuracy: 0.9910\n"
     ]
    },
    {
     "data": {
      "text/plain": [
       "[0.2426425665616989, 0.9909999966621399]"
      ]
     },
     "execution_count": 56,
     "metadata": {},
     "output_type": "execute_result"
    }
   ],
   "source": [
    "#4 . Evaluate our model\n",
    "model_7.evaluate(X,y)"
   ]
  },
  {
   "cell_type": "code",
   "execution_count": 57,
   "id": "5af917c8",
   "metadata": {},
   "outputs": [
    {
     "name": "stdout",
     "output_type": "stream",
     "text": [
      "doing binary classification\n"
     ]
    },
    {
     "data": {
      "image/png": "[encoded data removed]",
      "text/plain": [
       "<Figure size 432x288 with 1 Axes>"
      ]
     },
     "metadata": {
      "needs_background": "light"
     },
     "output_type": "display_data"
    }
   ],
   "source": [
    "# Let's visualize our incredible metrics\n",
    "plot_decision_boundary(model_7,X,y)"
   ]
  },
  {
   "cell_type": "markdown",
   "id": "ee094145",
   "metadata": {},
   "source": [
    "Now we've discussed the concept of linear and non-linear functions (or lines), let's see them in action.\n",
    "\n"
   ]
  },
  {
   "cell_type": "code",
   "execution_count": 58,
   "id": "9fb3e60f",
   "metadata": {},
   "outputs": [],
   "source": [
    "# Create a toy tensor\n",
    "A = tf.cast(tf.range(-10,10),dtype=tf.float32)"
   ]
  },
  {
   "cell_type": "code",
   "execution_count": 59,
   "id": "1fd4b4d3",
   "metadata": {},
   "outputs": [
    {
     "data": {
      "text/plain": [
       "<tf.Tensor: shape=(20,), dtype=float32, numpy=\n",
       "array([-10.,  -9.,  -8.,  -7.,  -6.,  -5.,  -4.,  -3.,  -2.,  -1.,   0.,\n",
       "         1.,   2.,   3.,   4.,   5.,   6.,   7.,   8.,   9.],\n",
       "      dtype=float32)>"
      ]
     },
     "execution_count": 59,
     "metadata": {},
     "output_type": "execute_result"
    }
   ],
   "source": [
    "A"
   ]
  },
  {
   "cell_type": "code",
   "execution_count": 61,
   "id": "25ec5c86",
   "metadata": {},
   "outputs": [
    {
     "data": {
      "text/plain": [
       "[<matplotlib.lines.Line2D at 0x222ceb2f070>]"
      ]
     },
     "execution_count": 61,
     "metadata": {},
     "output_type": "execute_result"
    },
    {
     "data": {
      "image/png": "[encoded data removed]",
      "text/plain": [
       "<Figure size 432x288 with 1 Axes>"
      ]
     },
     "metadata": {
      "needs_background": "light"
     },
     "output_type": "display_data"
    }
   ],
   "source": [
    "# Visualize our toy tensor\n",
    "plt.plot(A)"
   ]
  },
  {
   "cell_type": "code",
   "execution_count": 64,
   "id": "0fb7f848",
   "metadata": {},
   "outputs": [],
   "source": [
    "# Let's start by replicating sigmoid - sigmoid(x) = 1 / (1 + exp(-x))\n",
    "\n",
    "def sigmoid(x):\n",
    "    x = 1 / (1 + tf.exp(-x))\n",
    "    return x"
   ]
  },
  {
   "cell_type": "code",
   "execution_count": 65,
   "id": "017da923",
   "metadata": {},
   "outputs": [
    {
     "data": {
      "text/plain": [
       "<tf.Tensor: shape=(20,), dtype=float32, numpy=\n",
       "array([4.5397868e-05, 1.2339458e-04, 3.3535014e-04, 9.1105117e-04,\n",
       "       2.4726230e-03, 6.6928510e-03, 1.7986210e-02, 4.7425874e-02,\n",
       "       1.1920292e-01, 2.6894143e-01, 5.0000000e-01, 7.3105854e-01,\n",
       "       8.8079703e-01, 9.5257413e-01, 9.8201376e-01, 9.9330717e-01,\n",
       "       9.9752742e-01, 9.9908900e-01, 9.9966466e-01, 9.9987662e-01],\n",
       "      dtype=float32)>"
      ]
     },
     "execution_count": 65,
     "metadata": {},
     "output_type": "execute_result"
    }
   ],
   "source": [
    "# Use the sigmoid function on our toy tensor\n",
    "sigmoid(A)"
   ]
  },
  {
   "cell_type": "code",
   "execution_count": 69,
   "id": "78466892",
   "metadata": {},
   "outputs": [
    {
     "data": {
      "text/plain": [
       "[<matplotlib.lines.Line2D at 0x222cf5e5ca0>]"
      ]
     },
     "execution_count": 69,
     "metadata": {},
     "output_type": "execute_result"
    },
    {
     "data": {
      "image/png": "[encoded data removed]",
      "text/plain": [
       "<Figure size 432x288 with 1 Axes>"
      ]
     },
     "metadata": {
      "needs_background": "light"
     },
     "output_type": "display_data"
    }
   ],
   "source": [
    "# Plot our toy tensor transformed by sigmoid\n",
    "plt.plot(sigmoid(A))"
   ]
  },
  {
   "cell_type": "code",
   "execution_count": 70,
   "id": "043dcddb",
   "metadata": {},
   "outputs": [],
   "source": [
    "# Let's recreate the relu function\n",
    "def relu(x):\n",
    "    return tf.maximum(0,x)\n"
   ]
  },
  {
   "cell_type": "code",
   "execution_count": 71,
   "id": "9bb8af41",
   "metadata": {},
   "outputs": [
    {
     "data": {
      "text/plain": [
       "<tf.Tensor: shape=(20,), dtype=float32, numpy=\n",
       "array([0., 0., 0., 0., 0., 0., 0., 0., 0., 0., 0., 1., 2., 3., 4., 5., 6.,\n",
       "       7., 8., 9.], dtype=float32)>"
      ]
     },
     "execution_count": 71,
     "metadata": {},
     "output_type": "execute_result"
    }
   ],
   "source": [
    "# Pass our toy tensor to our custom relu function\n",
    "relu(A)"
   ]
  },
  {
   "cell_type": "code",
   "execution_count": 72,
   "id": "accfe28c",
   "metadata": {},
   "outputs": [
    {
     "data": {
      "image/png": "[encoded data removed]",
      "text/plain": [
       "<Figure size 432x288 with 1 Axes>"
      ]
     },
     "metadata": {
      "needs_background": "light"
     },
     "output_type": "display_data"
    }
   ],
   "source": [
    "# Plot ReLU-modified tensor\n",
    "plt.plot(relu(A));"
   ]
  },
  {
   "cell_type": "code",
   "execution_count": 73,
   "id": "41b17e55",
   "metadata": {},
   "outputs": [
    {
     "data": {
      "text/plain": [
       "<tf.Tensor: shape=(20,), dtype=float32, numpy=\n",
       "array([-10.,  -9.,  -8.,  -7.,  -6.,  -5.,  -4.,  -3.,  -2.,  -1.,   0.,\n",
       "         1.,   2.,   3.,   4.,   5.,   6.,   7.,   8.,   9.],\n",
       "      dtype=float32)>"
      ]
     },
     "execution_count": 73,
     "metadata": {},
     "output_type": "execute_result"
    }
   ],
   "source": [
    "# Let's try the linear activation function\n",
    "tf.keras.activations.linear(A)"
   ]
  },
  {
   "cell_type": "code",
   "execution_count": 74,
   "id": "ed6138ed",
   "metadata": {},
   "outputs": [
    {
     "data": {
      "image/png": "[encoded data removed]",
      "text/plain": [
       "<Figure size 432x288 with 1 Axes>"
      ]
     },
     "metadata": {
      "needs_background": "light"
     },
     "output_type": "display_data"
    }
   ],
   "source": [
    "# Does the linear activation function change anything?\n",
    "plt.plot(tf.keras.activations.linear(A));"
   ]
  },
  {
   "cell_type": "code",
   "execution_count": 75,
   "id": "9dfe70e5",
   "metadata": {},
   "outputs": [
    {
     "data": {
      "text/plain": [
       "<tf.Tensor: shape=(20,), dtype=bool, numpy=\n",
       "array([ True,  True,  True,  True,  True,  True,  True,  True,  True,\n",
       "        True,  True,  True,  True,  True,  True,  True,  True,  True,\n",
       "        True,  True])>"
      ]
     },
     "execution_count": 75,
     "metadata": {},
     "output_type": "execute_result"
    }
   ],
   "source": [
    "# Does A even change?\n",
    "A == tf.keras.activations.linear(A)\n",
    "     "
   ]
  },
  {
   "cell_type": "markdown",
   "id": "c0998774",
   "metadata": {},
   "source": [
    "### Evaluating and improving our classificiation model"
   ]
  },
  {
   "cell_type": "markdown",
   "id": "5c0e0ed9",
   "metadata": {},
   "source": [
    "So far we've been training and testing on the same dataset...\n",
    "\n",
    "However, in machine learning this is basically a sin.\n",
    "\n",
    "So let's create a training and test set."
   ]
  },
  {
   "cell_type": "code",
   "execution_count": 76,
   "id": "f2a88da5",
   "metadata": {},
   "outputs": [
    {
     "data": {
      "text/plain": [
       "2000"
      ]
     },
     "execution_count": 76,
     "metadata": {},
     "output_type": "execute_result"
    }
   ],
   "source": [
    "# Check how many examples we have\n",
    "len(X)"
   ]
  },
  {
   "cell_type": "code",
   "execution_count": 77,
   "id": "5a8522a5",
   "metadata": {},
   "outputs": [
    {
     "data": {
      "text/plain": [
       "((1600, 2), (400, 2), (1600,), (400,))"
      ]
     },
     "execution_count": 77,
     "metadata": {},
     "output_type": "execute_result"
    }
   ],
   "source": [
    "# Split into train and test sets\n",
    "X_train, y_train = X[:1600], y[:1600]\n",
    "X_test, y_test = X[1600:], y[1600:]\n",
    "\n",
    "X_train.shape, X_test.shape, y_train.shape, y_test.shape"
   ]
  },
  {
   "cell_type": "code",
   "execution_count": 79,
   "id": "87149146",
   "metadata": {},
   "outputs": [
    {
     "name": "stdout",
     "output_type": "stream",
     "text": [
      "Epoch 1/25\n",
      "50/50 [==============================] - 0s 3ms/step - loss: 0.6762 - accuracy: 0.5456\n",
      "Epoch 2/25\n",
      "50/50 [==============================] - 0s 3ms/step - loss: 0.6650 - accuracy: 0.5700\n",
      "Epoch 3/25\n",
      "50/50 [==============================] - 0s 3ms/step - loss: 0.6478 - accuracy: 0.6256\n",
      "Epoch 4/25\n",
      "50/50 [==============================] - 0s 3ms/step - loss: 0.6093 - accuracy: 0.7387\n",
      "Epoch 5/25\n",
      "50/50 [==============================] - 0s 3ms/step - loss: 0.5352 - accuracy: 0.8094\n",
      "Epoch 6/25\n",
      "50/50 [==============================] - 0s 3ms/step - loss: 0.4410 - accuracy: 0.8681\n",
      "Epoch 7/25\n",
      "50/50 [==============================] - 0s 3ms/step - loss: 0.3241 - accuracy: 0.9463\n",
      "Epoch 8/25\n",
      "50/50 [==============================] - 0s 3ms/step - loss: 0.2348 - accuracy: 0.9700\n",
      "Epoch 9/25\n",
      "50/50 [==============================] - 0s 3ms/step - loss: 0.1763 - accuracy: 0.9819\n",
      "Epoch 10/25\n",
      "50/50 [==============================] - 0s 3ms/step - loss: 0.1433 - accuracy: 0.9781\n",
      "Epoch 11/25\n",
      "50/50 [==============================] - 0s 3ms/step - loss: 0.1137 - accuracy: 0.9869\n",
      "Epoch 12/25\n",
      "50/50 [==============================] - 0s 3ms/step - loss: 0.0998 - accuracy: 0.9869\n",
      "Epoch 13/25\n",
      "50/50 [==============================] - 0s 3ms/step - loss: 0.0878 - accuracy: 0.9862\n",
      "Epoch 14/25\n",
      "50/50 [==============================] - 0s 5ms/step - loss: 0.0770 - accuracy: 0.9919\n",
      "Epoch 15/25\n",
      "50/50 [==============================] - 0s 3ms/step - loss: 0.0725 - accuracy: 0.9900\n",
      "Epoch 16/25\n",
      "50/50 [==============================] - 0s 2ms/step - loss: 0.0654 - accuracy: 0.9881\n",
      "Epoch 17/25\n",
      "50/50 [==============================] - 0s 2ms/step - loss: 0.0574 - accuracy: 0.9900\n",
      "Epoch 18/25\n",
      "50/50 [==============================] - 0s 2ms/step - loss: 0.0499 - accuracy: 0.9919\n",
      "Epoch 19/25\n",
      "50/50 [==============================] - 0s 2ms/step - loss: 0.0534 - accuracy: 0.9887\n",
      "Epoch 20/25\n",
      "50/50 [==============================] - 0s 2ms/step - loss: 0.0454 - accuracy: 0.9900\n",
      "Epoch 21/25\n",
      "50/50 [==============================] - 0s 2ms/step - loss: 0.0431 - accuracy: 0.9906\n",
      "Epoch 22/25\n",
      "50/50 [==============================] - 0s 2ms/step - loss: 0.0437 - accuracy: 0.9887\n",
      "Epoch 23/25\n",
      "50/50 [==============================] - 0s 2ms/step - loss: 0.0434 - accuracy: 0.9887\n",
      "Epoch 24/25\n",
      "50/50 [==============================] - 0s 2ms/step - loss: 0.0393 - accuracy: 0.9887\n",
      "Epoch 25/25\n",
      "50/50 [==============================] - 0s 2ms/step - loss: 0.0373 - accuracy: 0.9906\n"
     ]
    }
   ],
   "source": [
    "# Let's recreate a model to fit on the training data and evaluate on the testing data\n",
    "\n",
    "# Set random seed\n",
    "tf.random.set_seed(42)\n",
    "\n",
    "# 1. Create the model (same as model_7)\n",
    "model_8 = tf.keras.Sequential([\n",
    "  tf.keras.layers.Dense(4, activation=\"relu\"),\n",
    "  tf.keras.layers.Dense(4, activation=\"relu\"),\n",
    "  tf.keras.layers.Dense(1, activation=\"sigmoid\")                            \n",
    "])\n",
    "\n",
    "# 2. Compile the model\n",
    "model_8.compile(loss=\"binary_crossentropy\",\n",
    "                optimizer=tf.keras.optimizers.Adam(learning_rate=0.01),\n",
    "                metrics=[\"accuracy\"])\n",
    "\n",
    "# 3. Fit the model\n",
    "history = model_8.fit(X_train, y_train, epochs=25)"
   ]
  },
  {
   "cell_type": "code",
   "execution_count": 80,
   "id": "83bdccb5",
   "metadata": {},
   "outputs": [
    {
     "name": "stdout",
     "output_type": "stream",
     "text": [
      "13/13 [==============================] - 0s 2ms/step - loss: 0.0455 - accuracy: 0.9850\n"
     ]
    },
    {
     "data": {
      "text/plain": [
       "[0.04545345902442932, 0.9850000143051147]"
      ]
     },
     "execution_count": 80,
     "metadata": {},
     "output_type": "execute_result"
    }
   ],
   "source": [
    "# 4. Evaluate the model on the test dataset\n",
    "model_8.evaluate(X_test, y_test)"
   ]
  },
  {
   "cell_type": "code",
   "execution_count": 89,
   "id": "5fff6bb4",
   "metadata": {},
   "outputs": [
    {
     "name": "stdout",
     "output_type": "stream",
     "text": [
      "doing binary classification\n",
      "doing binary classification\n"
     ]
    },
    {
     "data": {
      "image/png": "[encoded data removed]",
      "text/plain": [
       "<Figure size 864x432 with 2 Axes>"
      ]
     },
     "metadata": {
      "needs_background": "light"
     },
     "output_type": "display_data"
    }
   ],
   "source": [
    "# Plot the decision boundaries for the training and test sets\n",
    "plt.figure(figsize=(12, 6))\n",
    "plt.subplot(1, 2, 1)\n",
    "plt.title(\"Train\")\n",
    "plot_decision_boundary(model_8, X=X_train, y=y_train)\n",
    "plt.subplot(1, 2, 2)\n",
    "plt.title(\"Test\")\n",
    "plot_decision_boundary(model_8, X=X_test, y=y_test)\n",
    "\n",
    "     "
   ]
  },
  {
   "cell_type": "code",
   "execution_count": 91,
   "id": "f8ec1094",
   "metadata": {},
   "outputs": [
    {
     "name": "stdout",
     "output_type": "stream",
     "text": [
      "Model: \"sequential_11\"\n",
      "_________________________________________________________________\n",
      "Layer (type)                 Output Shape              Param #   \n",
      "=================================================================\n",
      "dense_26 (Dense)             (None, 4)                 12        \n",
      "_________________________________________________________________\n",
      "dense_27 (Dense)             (None, 4)                 20        \n",
      "_________________________________________________________________\n",
      "dense_28 (Dense)             (None, 1)                 5         \n",
      "=================================================================\n",
      "Total params: 37\n",
      "Trainable params: 37\n",
      "Non-trainable params: 0\n",
      "_________________________________________________________________\n"
     ]
    }
   ],
   "source": [
    "model_7.summary()"
   ]
  },
  {
   "cell_type": "code",
   "execution_count": 92,
   "id": "741dcab5",
   "metadata": {},
   "outputs": [
    {
     "data": {
      "text/html": [
       "<div>\n",
       "<style scoped>\n",
       "    .dataframe tbody tr th:only-of-type {\n",
       "        vertical-align: middle;\n",
       "    }\n",
       "\n",
       "    .dataframe tbody tr th {\n",
       "        vertical-align: top;\n",
       "    }\n",
       "\n",
       "    .dataframe thead th {\n",
       "        text-align: right;\n",
       "    }\n",
       "</style>\n",
       "<table border=\"1\" class=\"dataframe\">\n",
       "  <thead>\n",
       "    <tr style=\"text-align: right;\">\n",
       "      <th></th>\n",
       "      <th>loss</th>\n",
       "      <th>accuracy</th>\n",
       "    </tr>\n",
       "  </thead>\n",
       "  <tbody>\n",
       "    <tr>\n",
       "      <th>0</th>\n",
       "      <td>0.676168</td>\n",
       "      <td>0.545625</td>\n",
       "    </tr>\n",
       "    <tr>\n",
       "      <th>1</th>\n",
       "      <td>0.664961</td>\n",
       "      <td>0.570000</td>\n",
       "    </tr>\n",
       "    <tr>\n",
       "      <th>2</th>\n",
       "      <td>0.647800</td>\n",
       "      <td>0.625625</td>\n",
       "    </tr>\n",
       "    <tr>\n",
       "      <th>3</th>\n",
       "      <td>0.609337</td>\n",
       "      <td>0.738750</td>\n",
       "    </tr>\n",
       "    <tr>\n",
       "      <th>4</th>\n",
       "      <td>0.535206</td>\n",
       "      <td>0.809375</td>\n",
       "    </tr>\n",
       "    <tr>\n",
       "      <th>5</th>\n",
       "      <td>0.441010</td>\n",
       "      <td>0.868125</td>\n",
       "    </tr>\n",
       "    <tr>\n",
       "      <th>6</th>\n",
       "      <td>0.324062</td>\n",
       "      <td>0.946250</td>\n",
       "    </tr>\n",
       "    <tr>\n",
       "      <th>7</th>\n",
       "      <td>0.234844</td>\n",
       "      <td>0.970000</td>\n",
       "    </tr>\n",
       "    <tr>\n",
       "      <th>8</th>\n",
       "      <td>0.176276</td>\n",
       "      <td>0.981875</td>\n",
       "    </tr>\n",
       "    <tr>\n",
       "      <th>9</th>\n",
       "      <td>0.143323</td>\n",
       "      <td>0.978125</td>\n",
       "    </tr>\n",
       "    <tr>\n",
       "      <th>10</th>\n",
       "      <td>0.113704</td>\n",
       "      <td>0.986875</td>\n",
       "    </tr>\n",
       "    <tr>\n",
       "      <th>11</th>\n",
       "      <td>0.099755</td>\n",
       "      <td>0.986875</td>\n",
       "    </tr>\n",
       "    <tr>\n",
       "      <th>12</th>\n",
       "      <td>0.087848</td>\n",
       "      <td>0.986250</td>\n",
       "    </tr>\n",
       "    <tr>\n",
       "      <th>13</th>\n",
       "      <td>0.077008</td>\n",
       "      <td>0.991875</td>\n",
       "    </tr>\n",
       "    <tr>\n",
       "      <th>14</th>\n",
       "      <td>0.072467</td>\n",
       "      <td>0.990000</td>\n",
       "    </tr>\n",
       "    <tr>\n",
       "      <th>15</th>\n",
       "      <td>0.065375</td>\n",
       "      <td>0.988125</td>\n",
       "    </tr>\n",
       "    <tr>\n",
       "      <th>16</th>\n",
       "      <td>0.057352</td>\n",
       "      <td>0.990000</td>\n",
       "    </tr>\n",
       "    <tr>\n",
       "      <th>17</th>\n",
       "      <td>0.049942</td>\n",
       "      <td>0.991875</td>\n",
       "    </tr>\n",
       "    <tr>\n",
       "      <th>18</th>\n",
       "      <td>0.053430</td>\n",
       "      <td>0.988750</td>\n",
       "    </tr>\n",
       "    <tr>\n",
       "      <th>19</th>\n",
       "      <td>0.045379</td>\n",
       "      <td>0.990000</td>\n",
       "    </tr>\n",
       "    <tr>\n",
       "      <th>20</th>\n",
       "      <td>0.043144</td>\n",
       "      <td>0.990625</td>\n",
       "    </tr>\n",
       "    <tr>\n",
       "      <th>21</th>\n",
       "      <td>0.043723</td>\n",
       "      <td>0.988750</td>\n",
       "    </tr>\n",
       "    <tr>\n",
       "      <th>22</th>\n",
       "      <td>0.043398</td>\n",
       "      <td>0.988750</td>\n",
       "    </tr>\n",
       "    <tr>\n",
       "      <th>23</th>\n",
       "      <td>0.039324</td>\n",
       "      <td>0.988750</td>\n",
       "    </tr>\n",
       "    <tr>\n",
       "      <th>24</th>\n",
       "      <td>0.037250</td>\n",
       "      <td>0.990625</td>\n",
       "    </tr>\n",
       "  </tbody>\n",
       "</table>\n",
       "</div>"
      ],
      "text/plain": [
       "        loss  accuracy\n",
       "0   0.676168  0.545625\n",
       "1   0.664961  0.570000\n",
       "2   0.647800  0.625625\n",
       "3   0.609337  0.738750\n",
       "4   0.535206  0.809375\n",
       "5   0.441010  0.868125\n",
       "6   0.324062  0.946250\n",
       "7   0.234844  0.970000\n",
       "8   0.176276  0.981875\n",
       "9   0.143323  0.978125\n",
       "10  0.113704  0.986875\n",
       "11  0.099755  0.986875\n",
       "12  0.087848  0.986250\n",
       "13  0.077008  0.991875\n",
       "14  0.072467  0.990000\n",
       "15  0.065375  0.988125\n",
       "16  0.057352  0.990000\n",
       "17  0.049942  0.991875\n",
       "18  0.053430  0.988750\n",
       "19  0.045379  0.990000\n",
       "20  0.043144  0.990625\n",
       "21  0.043723  0.988750\n",
       "22  0.043398  0.988750\n",
       "23  0.039324  0.988750\n",
       "24  0.037250  0.990625"
      ]
     },
     "execution_count": 92,
     "metadata": {},
     "output_type": "execute_result"
    }
   ],
   "source": [
    "# Convert the history object into a DataFrame\n",
    "pd.DataFrame(history.history)"
   ]
  },
  {
   "cell_type": "code",
   "execution_count": 93,
   "id": "dc15e92c",
   "metadata": {},
   "outputs": [
    {
     "data": {
      "image/png": "[encoded data removed]",
      "text/plain": [
       "<Figure size 432x288 with 1 Axes>"
      ]
     },
     "metadata": {
      "needs_background": "light"
     },
     "output_type": "display_data"
    }
   ],
   "source": [
    "# Plot the loss curves\n",
    "pd.DataFrame(history.history).plot()\n",
    "plt.title(\"Model_8 loss curves\");"
   ]
  },
  {
   "cell_type": "markdown",
   "id": "b3162bc6",
   "metadata": {},
   "source": [
    "### Finding the best learning rate"
   ]
  },
  {
   "cell_type": "markdown",
   "id": "ae1ec9b5",
   "metadata": {},
   "source": [
    "To find the ideal learning rate (the learning rate where the loss decreases the most during training) we're going to use the following steps:\n",
    "\n",
    "- A learning rate callback - you can think of a callback as an extra piece of funtionality, you can add to your while its training.\n",
    "- Another model (we could use the same one as above, but we're practicing building models here)\n",
    "- A modified loss curves plot."
   ]
  },
  {
   "cell_type": "code",
   "execution_count": 95,
   "id": "8acadd16",
   "metadata": {},
   "outputs": [
    {
     "name": "stdout",
     "output_type": "stream",
     "text": [
      "Epoch 1/100\n",
      "50/50 [==============================] - 1s 3ms/step - loss: 0.6879 - accuracy: 0.5119\n",
      "Epoch 2/100\n",
      "50/50 [==============================] - 0s 3ms/step - loss: 0.6869 - accuracy: 0.5113\n",
      "Epoch 3/100\n",
      "50/50 [==============================] - 0s 3ms/step - loss: 0.6861 - accuracy: 0.5194\n",
      "Epoch 4/100\n",
      "50/50 [==============================] - 0s 3ms/step - loss: 0.6852 - accuracy: 0.5213\n",
      "Epoch 5/100\n",
      "50/50 [==============================] - 0s 3ms/step - loss: 0.6843 - accuracy: 0.5138\n",
      "Epoch 6/100\n",
      "50/50 [==============================] - 0s 3ms/step - loss: 0.6834 - accuracy: 0.5156\n",
      "Epoch 7/100\n",
      "50/50 [==============================] - 0s 3ms/step - loss: 0.6826 - accuracy: 0.5200\n",
      "Epoch 8/100\n",
      "50/50 [==============================] - 0s 3ms/step - loss: 0.6819 - accuracy: 0.5294\n",
      "Epoch 9/100\n",
      "50/50 [==============================] - 0s 3ms/step - loss: 0.6813 - accuracy: 0.5337\n",
      "Epoch 10/100\n",
      "50/50 [==============================] - 0s 3ms/step - loss: 0.6806 - accuracy: 0.5275\n",
      "Epoch 11/100\n",
      "50/50 [==============================] - 0s 3ms/step - loss: 0.6801 - accuracy: 0.5300\n",
      "Epoch 12/100\n",
      "50/50 [==============================] - 0s 3ms/step - loss: 0.6795 - accuracy: 0.5319\n",
      "Epoch 13/100\n",
      "50/50 [==============================] - 0s 4ms/step - loss: 0.6791 - accuracy: 0.5406\n",
      "Epoch 14/100\n",
      "50/50 [==============================] - 0s 3ms/step - loss: 0.6786 - accuracy: 0.5362\n",
      "Epoch 15/100\n",
      "50/50 [==============================] - 0s 2ms/step - loss: 0.6781 - accuracy: 0.5419\n",
      "Epoch 16/100\n",
      "50/50 [==============================] - 0s 2ms/step - loss: 0.6775 - accuracy: 0.5456\n",
      "Epoch 17/100\n",
      "50/50 [==============================] - 0s 2ms/step - loss: 0.6770 - accuracy: 0.5437\n",
      "Epoch 18/100\n",
      "50/50 [==============================] - 0s 2ms/step - loss: 0.6764 - accuracy: 0.5419\n",
      "Epoch 19/100\n",
      "50/50 [==============================] - 0s 2ms/step - loss: 0.6756 - accuracy: 0.5444\n",
      "Epoch 20/100\n",
      "50/50 [==============================] - 0s 2ms/step - loss: 0.6748 - accuracy: 0.5406\n",
      "Epoch 21/100\n",
      "50/50 [==============================] - 0s 2ms/step - loss: 0.6739 - accuracy: 0.5462\n",
      "Epoch 22/100\n",
      "50/50 [==============================] - 0s 3ms/step - loss: 0.6729 - accuracy: 0.5456\n",
      "Epoch 23/100\n",
      "50/50 [==============================] - 0s 3ms/step - loss: 0.6717 - accuracy: 0.5487\n",
      "Epoch 24/100\n",
      "50/50 [==============================] - 0s 2ms/step - loss: 0.6701 - accuracy: 0.5550\n",
      "Epoch 25/100\n",
      "50/50 [==============================] - 0s 2ms/step - loss: 0.6687 - accuracy: 0.5644\n",
      "Epoch 26/100\n",
      "50/50 [==============================] - 0s 2ms/step - loss: 0.6665 - accuracy: 0.5612\n",
      "Epoch 27/100\n",
      "50/50 [==============================] - 0s 2ms/step - loss: 0.6639 - accuracy: 0.5594\n",
      "Epoch 28/100\n",
      "50/50 [==============================] - 0s 2ms/step - loss: 0.6596 - accuracy: 0.5638\n",
      "Epoch 29/100\n",
      "50/50 [==============================] - 0s 3ms/step - loss: 0.6550 - accuracy: 0.5831\n",
      "Epoch 30/100\n",
      "50/50 [==============================] - 0s 3ms/step - loss: 0.6484 - accuracy: 0.5838\n",
      "Epoch 31/100\n",
      "50/50 [==============================] - 0s 2ms/step - loss: 0.6410 - accuracy: 0.6044\n",
      "Epoch 32/100\n",
      "50/50 [==============================] - 0s 2ms/step - loss: 0.6259 - accuracy: 0.6625\n",
      "Epoch 33/100\n",
      "50/50 [==============================] - 0s 2ms/step - loss: 0.5995 - accuracy: 0.7344\n",
      "Epoch 34/100\n",
      "50/50 [==============================] - 0s 2ms/step - loss: 0.5451 - accuracy: 0.8300\n",
      "Epoch 35/100\n",
      "50/50 [==============================] - 0s 2ms/step - loss: 0.4779 - accuracy: 0.8763\n",
      "Epoch 36/100\n",
      "50/50 [==============================] - 0s 4ms/step - loss: 0.3914 - accuracy: 0.9419\n",
      "Epoch 37/100\n",
      "50/50 [==============================] - 0s 2ms/step - loss: 0.2836 - accuracy: 0.9850\n",
      "Epoch 38/100\n",
      "50/50 [==============================] - 0s 2ms/step - loss: 0.1882 - accuracy: 0.9950\n",
      "Epoch 39/100\n",
      "50/50 [==============================] - 0s 2ms/step - loss: 0.1326 - accuracy: 0.9919\n",
      "Epoch 40/100\n",
      "50/50 [==============================] - 0s 2ms/step - loss: 0.0936 - accuracy: 0.9956\n",
      "Epoch 41/100\n",
      "50/50 [==============================] - 0s 2ms/step - loss: 0.0678 - accuracy: 0.9981\n",
      "Epoch 42/100\n",
      "50/50 [==============================] - 0s 2ms/step - loss: 0.0538 - accuracy: 0.9969\n",
      "Epoch 43/100\n",
      "50/50 [==============================] - 0s 2ms/step - loss: 0.0496 - accuracy: 0.9956\n",
      "Epoch 44/100\n",
      "50/50 [==============================] - 0s 4ms/step - loss: 0.0398 - accuracy: 0.9969\n",
      "Epoch 45/100\n",
      "50/50 [==============================] - 0s 2ms/step - loss: 0.0337 - accuracy: 0.9962\n",
      "Epoch 46/100\n",
      "50/50 [==============================] - 0s 2ms/step - loss: 0.0290 - accuracy: 0.9975\n",
      "Epoch 47/100\n",
      "50/50 [==============================] - 0s 2ms/step - loss: 0.0435 - accuracy: 0.9912\n",
      "Epoch 48/100\n",
      "50/50 [==============================] - 0s 2ms/step - loss: 0.0207 - accuracy: 0.9975\n",
      "Epoch 49/100\n",
      "50/50 [==============================] - 0s 2ms/step - loss: 0.0342 - accuracy: 0.9919\n",
      "Epoch 50/100\n",
      "50/50 [==============================] - 0s 3ms/step - loss: 0.0231 - accuracy: 0.9944\n",
      "Epoch 51/100\n",
      "50/50 [==============================] - 0s 3ms/step - loss: 0.0583 - accuracy: 0.9781\n",
      "Epoch 52/100\n",
      "50/50 [==============================] - 0s 2ms/step - loss: 0.0806 - accuracy: 0.9700\n",
      "Epoch 53/100\n",
      "50/50 [==============================] - 0s 2ms/step - loss: 0.1320 - accuracy: 0.9456\n",
      "Epoch 54/100\n",
      "50/50 [==============================] - 0s 2ms/step - loss: 0.0277 - accuracy: 0.9900\n",
      "Epoch 55/100\n",
      "50/50 [==============================] - 0s 2ms/step - loss: 0.0213 - accuracy: 0.9925\n",
      "Epoch 56/100\n",
      "50/50 [==============================] - 0s 2ms/step - loss: 0.0581 - accuracy: 0.9762\n",
      "Epoch 57/100\n",
      "50/50 [==============================] - 0s 2ms/step - loss: 0.1033 - accuracy: 0.9619\n",
      "Epoch 58/100\n",
      "50/50 [==============================] - 0s 2ms/step - loss: 0.0799 - accuracy: 0.9719\n",
      "Epoch 59/100\n",
      "50/50 [==============================] - 0s 2ms/step - loss: 0.0880 - accuracy: 0.9694\n",
      "Epoch 60/100\n",
      "50/50 [==============================] - 0s 2ms/step - loss: 0.2408 - accuracy: 0.9169\n",
      "Epoch 61/100\n",
      "50/50 [==============================] - 0s 2ms/step - loss: 0.0547 - accuracy: 0.9819\n",
      "Epoch 62/100\n",
      "50/50 [==============================] - 0s 2ms/step - loss: 0.0333 - accuracy: 0.9900\n",
      "Epoch 63/100\n",
      "50/50 [==============================] - 0s 3ms/step - loss: 0.0527 - accuracy: 0.9794\n",
      "Epoch 64/100\n",
      "50/50 [==============================] - 0s 3ms/step - loss: 0.2686 - accuracy: 0.9250\n",
      "Epoch 65/100\n",
      "50/50 [==============================] - 0s 2ms/step - loss: 0.1335 - accuracy: 0.9606\n",
      "Epoch 66/100\n",
      "50/50 [==============================] - 0s 2ms/step - loss: 0.0507 - accuracy: 0.9837\n",
      "Epoch 67/100\n",
      "50/50 [==============================] - 0s 3ms/step - loss: 0.0639 - accuracy: 0.9756\n",
      "Epoch 68/100\n",
      "50/50 [==============================] - 0s 2ms/step - loss: 0.1739 - accuracy: 0.9331\n",
      "Epoch 69/100\n",
      "50/50 [==============================] - 0s 2ms/step - loss: 0.0981 - accuracy: 0.9600\n",
      "Epoch 70/100\n",
      "50/50 [==============================] - 0s 2ms/step - loss: 0.0852 - accuracy: 0.9712\n",
      "Epoch 71/100\n",
      "50/50 [==============================] - 0s 2ms/step - loss: 0.1423 - accuracy: 0.9444\n",
      "Epoch 72/100\n",
      "50/50 [==============================] - 0s 2ms/step - loss: 0.1298 - accuracy: 0.9494\n",
      "Epoch 73/100\n",
      "50/50 [==============================] - 0s 2ms/step - loss: 0.0868 - accuracy: 0.9694\n",
      "Epoch 74/100\n",
      "50/50 [==============================] - 0s 2ms/step - loss: 0.2736 - accuracy: 0.9194\n",
      "Epoch 75/100\n",
      "50/50 [==============================] - 0s 2ms/step - loss: 0.4706 - accuracy: 0.7844\n",
      "Epoch 76/100\n",
      "50/50 [==============================] - 0s 2ms/step - loss: 0.3770 - accuracy: 0.8294\n",
      "Epoch 77/100\n",
      "50/50 [==============================] - 0s 2ms/step - loss: 0.6892 - accuracy: 0.6694\n",
      "Epoch 78/100\n",
      "50/50 [==============================] - 0s 3ms/step - loss: 0.5021 - accuracy: 0.7581\n",
      "Epoch 79/100\n",
      "50/50 [==============================] - 0s 2ms/step - loss: 0.6290 - accuracy: 0.6206\n",
      "Epoch 80/100\n",
      "50/50 [==============================] - 0s 2ms/step - loss: 0.6624 - accuracy: 0.5406\n",
      "Epoch 81/100\n",
      "50/50 [==============================] - 0s 2ms/step - loss: 0.6993 - accuracy: 0.5138\n",
      "Epoch 82/100\n",
      "50/50 [==============================] - 0s 2ms/step - loss: 0.7175 - accuracy: 0.4925\n",
      "Epoch 83/100\n"
     ]
    },
    {
     "name": "stdout",
     "output_type": "stream",
     "text": [
      "50/50 [==============================] - 0s 3ms/step - loss: 0.7134 - accuracy: 0.5000\n",
      "Epoch 84/100\n",
      "50/50 [==============================] - 0s 2ms/step - loss: 0.7176 - accuracy: 0.5100\n",
      "Epoch 85/100\n",
      "50/50 [==============================] - 0s 2ms/step - loss: 0.7198 - accuracy: 0.5025\n",
      "Epoch 86/100\n",
      "50/50 [==============================] - 0s 2ms/step - loss: 0.7263 - accuracy: 0.4925\n",
      "Epoch 87/100\n",
      "50/50 [==============================] - 0s 2ms/step - loss: 0.7228 - accuracy: 0.4963\n",
      "Epoch 88/100\n",
      "50/50 [==============================] - 0s 2ms/step - loss: 0.7428 - accuracy: 0.4975\n",
      "Epoch 89/100\n",
      "50/50 [==============================] - 0s 2ms/step - loss: 0.7614 - accuracy: 0.5025\n",
      "Epoch 90/100\n",
      "50/50 [==============================] - 0s 3ms/step - loss: 0.7332 - accuracy: 0.5050\n",
      "Epoch 91/100\n",
      "50/50 [==============================] - 0s 3ms/step - loss: 0.7430 - accuracy: 0.5125\n",
      "Epoch 92/100\n",
      "50/50 [==============================] - 0s 2ms/step - loss: 0.7594 - accuracy: 0.5100\n",
      "Epoch 93/100\n",
      "50/50 [==============================] - 0s 2ms/step - loss: 0.9463 - accuracy: 0.5013\n",
      "Epoch 94/100\n",
      "50/50 [==============================] - 0s 2ms/step - loss: 0.7673 - accuracy: 0.4900\n",
      "Epoch 95/100\n",
      "50/50 [==============================] - 0s 2ms/step - loss: 0.7393 - accuracy: 0.4950\n",
      "Epoch 96/100\n",
      "50/50 [==============================] - 0s 2ms/step - loss: 0.8556 - accuracy: 0.4762\n",
      "Epoch 97/100\n",
      "50/50 [==============================] - 0s 2ms/step - loss: 0.8820 - accuracy: 0.4787\n",
      "Epoch 98/100\n",
      "50/50 [==============================] - 0s 2ms/step - loss: 0.7821 - accuracy: 0.5050\n",
      "Epoch 99/100\n",
      "50/50 [==============================] - 0s 2ms/step - loss: 0.8919 - accuracy: 0.5150\n",
      "Epoch 100/100\n",
      "50/50 [==============================] - 0s 2ms/step - loss: 0.8956 - accuracy: 0.4750\n"
     ]
    }
   ],
   "source": [
    "tf.random.set_seed(42)\n",
    "\n",
    "#1. Create a model\n",
    "model_9 = tf.keras.Sequential([\n",
    "    tf.keras.layers.Dense(4, activation = 'relu'),\n",
    "    tf.keras.layers.Dense(4, activation = 'relu'),\n",
    "    tf.keras.layers.Dense(1, activation = 'sigmoid')\n",
    "])\n",
    "\n",
    "#2a. Compile the model\n",
    "model_9.compile(loss='binary_crossentropy',\n",
    "               optimizer='Adam',\n",
    "               metrics='accuracy')\n",
    "\n",
    "#2b. Create a learning rate callback\n",
    "lr_scheduler = tf.keras.callbacks.LearningRateScheduler(lambda epoch: 1e-4 * 10**(epoch/20))\n",
    "\n",
    "#3. Fit the model with 2b\n",
    "history_9 = model_9.fit(X_train,\n",
    "                       y_train,\n",
    "                       epochs=100,\n",
    "                       callbacks=[lr_scheduler])\n"
   ]
  },
  {
   "cell_type": "code",
   "execution_count": 96,
   "id": "d839ea62",
   "metadata": {},
   "outputs": [
    {
     "data": {
      "image/png": "[encoded data removed]",
      "text/plain": [
       "<Figure size 720x504 with 1 Axes>"
      ]
     },
     "metadata": {
      "needs_background": "light"
     },
     "output_type": "display_data"
    }
   ],
   "source": [
    "# Plot the learning rate versus the loss\n",
    "lrs = 1e-4 * (10 ** (tf.range(100)/20)) #tf.range = epochs = 100\n",
    "plt.figure(figsize=(10, 7))\n",
    "plt.semilogx(lrs, history_9.history[\"loss\"])\n",
    "plt.xlabel(\"Learning Rate\")\n",
    "plt.ylabel(\"Loss\")\n",
    "plt.title(\"Learning rate vs. Loss\");"
   ]
  },
  {
   "cell_type": "code",
   "execution_count": 97,
   "id": "c5c426ad",
   "metadata": {},
   "outputs": [
    {
     "data": {
      "text/plain": [
       "(1, 0.1, 0.01, 0.001, 0.0001)"
      ]
     },
     "execution_count": 97,
     "metadata": {},
     "output_type": "execute_result"
    }
   ],
   "source": [
    "# Example of other typical learning rates values:\n",
    "10**0, 10**-1, 10**-2, 10**-3, 1e-4"
   ]
  },
  {
   "cell_type": "code",
   "execution_count": 98,
   "id": "073f7226",
   "metadata": {},
   "outputs": [
    {
     "data": {
      "text/plain": [
       "0.01"
      ]
     },
     "execution_count": 98,
     "metadata": {},
     "output_type": "execute_result"
    }
   ],
   "source": [
    "# Learning rate we used before (model_8)\n",
    "10**-2"
   ]
  },
  {
   "cell_type": "code",
   "execution_count": 99,
   "id": "32877dac",
   "metadata": {},
   "outputs": [
    {
     "name": "stdout",
     "output_type": "stream",
     "text": [
      "Epoch 1/20\n",
      "50/50 [==============================] - 0s 3ms/step - loss: 0.6860 - accuracy: 0.4994\n",
      "Epoch 2/20\n",
      "50/50 [==============================] - 0s 3ms/step - loss: 0.6691 - accuracy: 0.5713\n",
      "Epoch 3/20\n",
      "50/50 [==============================] - 0s 3ms/step - loss: 0.6272 - accuracy: 0.6644\n",
      "Epoch 4/20\n",
      "50/50 [==============================] - 0s 3ms/step - loss: 0.5608 - accuracy: 0.7569\n",
      "Epoch 5/20\n",
      "50/50 [==============================] - 0s 3ms/step - loss: 0.4474 - accuracy: 0.8737\n",
      "Epoch 6/20\n",
      "50/50 [==============================] - 0s 3ms/step - loss: 0.3383 - accuracy: 0.9456\n",
      "Epoch 7/20\n",
      "50/50 [==============================] - 0s 3ms/step - loss: 0.2390 - accuracy: 0.9831\n",
      "Epoch 8/20\n",
      "50/50 [==============================] - 0s 3ms/step - loss: 0.1744 - accuracy: 0.9875\n",
      "Epoch 9/20\n",
      "50/50 [==============================] - 0s 4ms/step - loss: 0.1345 - accuracy: 0.9869\n",
      "Epoch 10/20\n",
      "50/50 [==============================] - 0s 2ms/step - loss: 0.1096 - accuracy: 0.9925\n",
      "Epoch 11/20\n",
      "50/50 [==============================] - 0s 2ms/step - loss: 0.0903 - accuracy: 0.9900\n",
      "Epoch 12/20\n",
      "50/50 [==============================] - 0s 2ms/step - loss: 0.0778 - accuracy: 0.9925\n",
      "Epoch 13/20\n",
      "50/50 [==============================] - 0s 2ms/step - loss: 0.0744 - accuracy: 0.9900\n",
      "Epoch 14/20\n",
      "50/50 [==============================] - 0s 2ms/step - loss: 0.0637 - accuracy: 0.9912\n",
      "Epoch 15/20\n",
      "50/50 [==============================] - 0s 2ms/step - loss: 0.0636 - accuracy: 0.9887\n",
      "Epoch 16/20\n",
      "50/50 [==============================] - 0s 2ms/step - loss: 0.0512 - accuracy: 0.9937\n",
      "Epoch 17/20\n",
      "50/50 [==============================] - 0s 4ms/step - loss: 0.0448 - accuracy: 0.9931\n",
      "Epoch 18/20\n",
      "50/50 [==============================] - 0s 2ms/step - loss: 0.0462 - accuracy: 0.9912\n",
      "Epoch 19/20\n",
      "50/50 [==============================] - 0s 2ms/step - loss: 0.0433 - accuracy: 0.9912\n",
      "Epoch 20/20\n",
      "50/50 [==============================] - 0s 2ms/step - loss: 0.0407 - accuracy: 0.9894\n"
     ]
    }
   ],
   "source": [
    "# Let's try using a higher *ideal* learning rate with the same model as before\n",
    "\n",
    "#1. Create the model\n",
    "model_10 = tf.keras.Sequential([\n",
    "    tf.keras.layers.Dense(4, activation='relu'),\n",
    "    tf.keras.layers.Dense(4, activation='relu'),\n",
    "    tf.keras.layers.Dense(1, activation='sigmoid')\n",
    "])\n",
    "\n",
    "#2. Compile the model\n",
    "model_10.compile(loss='binary_crossentropy',\n",
    "                optimizer=tf.keras.optimizers.Adam(learning_rate=0.01),\n",
    "                metrics='accuracy')\n",
    "\n",
    "#3. Fit the model\n",
    "history_10 = model_10.fit(X_train,y_train,epochs=20)"
   ]
  },
  {
   "cell_type": "code",
   "execution_count": 101,
   "id": "8f6204f4",
   "metadata": {},
   "outputs": [
    {
     "name": "stdout",
     "output_type": "stream",
     "text": [
      "13/13 [==============================] - 0s 2ms/step - loss: 0.0336 - accuracy: 0.9950\n"
     ]
    },
    {
     "data": {
      "text/plain": [
       "[0.03363041579723358, 0.9950000047683716]"
      ]
     },
     "execution_count": 101,
     "metadata": {},
     "output_type": "execute_result"
    }
   ],
   "source": [
    "# Evaluate model 10 on the test dataset\n",
    "model_10.evaluate(X_test,y_test)"
   ]
  },
  {
   "cell_type": "code",
   "execution_count": 102,
   "id": "59c34830",
   "metadata": {},
   "outputs": [
    {
     "name": "stdout",
     "output_type": "stream",
     "text": [
      "13/13 [==============================] - 0s 2ms/step - loss: 0.0455 - accuracy: 0.9850\n"
     ]
    },
    {
     "data": {
      "text/plain": [
       "[0.04545345902442932, 0.9850000143051147]"
      ]
     },
     "execution_count": 102,
     "metadata": {},
     "output_type": "execute_result"
    }
   ],
   "source": [
    "# Evaluate model 8 on the test dataset\n",
    "model_8.evaluate(X_test, y_test)"
   ]
  },
  {
   "cell_type": "code",
   "execution_count": 103,
   "id": "b7897fd2",
   "metadata": {},
   "outputs": [
    {
     "name": "stdout",
     "output_type": "stream",
     "text": [
      "doing binary classification\n",
      "doing binary classification\n"
     ]
    },
    {
     "data": {
      "image/png": "[encoded data removed]",
      "text/plain": [
       "<Figure size 864x432 with 2 Axes>"
      ]
     },
     "metadata": {
      "needs_background": "light"
     },
     "output_type": "display_data"
    }
   ],
   "source": [
    "# Plot the decision boundaries for the training and test sets\n",
    "plt.figure(figsize=(12, 6))\n",
    "plt.subplot(1, 2, 1)\n",
    "plt.title(\"Train\")\n",
    "plot_decision_boundary(model_10, X=X_train, y=y_train)\n",
    "plt.subplot(1, 2, 2)\n",
    "plt.title(\"Test\")\n",
    "plot_decision_boundary(model_10, X=X_test, y=y_test)\n",
    "plt.show()"
   ]
  },
  {
   "cell_type": "markdown",
   "id": "f8c62731",
   "metadata": {},
   "source": [
    "### More classification evaluation methods\n",
    "Alongside visualizing our models results as much as possible, there are a handful of other classification evaluation methods & metrics you should be familiar with:\n",
    "\n",
    "- Accuracy\n",
    "- Precision\n",
    "- Recall\n",
    "- F1-score\n",
    "- Confusion matrix\n",
    "- Classification report (from scikit-learn) - https://scikit-learn.org/stable/modules/generated/sklearn.metrics.classification_report.html"
   ]
  },
  {
   "cell_type": "code",
   "execution_count": 105,
   "id": "6e3df1bc",
   "metadata": {},
   "outputs": [
    {
     "name": "stdout",
     "output_type": "stream",
     "text": [
      "13/13 [==============================] - 0s 2ms/step - loss: 0.0336 - accuracy: 0.9950\n",
      "Model loss on the test set: 0.03363041579723358\n",
      "Model accuracy on the test set: 99.50%\n"
     ]
    }
   ],
   "source": [
    "# Check the accuracy of our model\n",
    "loss, accuracy = model_10.evaluate(X_test, y_test)\n",
    "print(f\"Model loss on the test set: {loss}\")\n",
    "print(f\"Model accuracy on the test set: {(accuracy*100):.2f}%\")"
   ]
  },
  {
   "cell_type": "code",
   "execution_count": 106,
   "id": "b372b3f5",
   "metadata": {},
   "outputs": [
    {
     "ename": "ValueError",
     "evalue": "Classification metrics can't handle a mix of binary and continuous targets",
     "output_type": "error",
     "traceback": [
      "\u001b[1;31m---------------------------------------------------------------------------\u001b[0m",
      "\u001b[1;31mValueError\u001b[0m                                Traceback (most recent call last)",
      "Input \u001b[1;32mIn [106]\u001b[0m, in \u001b[0;36m<cell line: 8>\u001b[1;34m()\u001b[0m\n\u001b[0;32m      5\u001b[0m y_preds \u001b[38;5;241m=\u001b[39m model_10\u001b[38;5;241m.\u001b[39mpredict(X_test)\n\u001b[0;32m      7\u001b[0m \u001b[38;5;66;03m# Create confusion matrix\u001b[39;00m\n\u001b[1;32m----> 8\u001b[0m \u001b[43mconfusion_matrix\u001b[49m\u001b[43m(\u001b[49m\u001b[43my_test\u001b[49m\u001b[43m,\u001b[49m\u001b[43m \u001b[49m\u001b[43my_preds\u001b[49m\u001b[43m)\u001b[49m\n",
      "File \u001b[1;32m~\\anaconda3\\envs\\tf-gpu\\lib\\site-packages\\sklearn\\metrics\\_classification.py:307\u001b[0m, in \u001b[0;36mconfusion_matrix\u001b[1;34m(y_true, y_pred, labels, sample_weight, normalize)\u001b[0m\n\u001b[0;32m    222\u001b[0m \u001b[38;5;28;01mdef\u001b[39;00m \u001b[38;5;21mconfusion_matrix\u001b[39m(\n\u001b[0;32m    223\u001b[0m     y_true, y_pred, \u001b[38;5;241m*\u001b[39m, labels\u001b[38;5;241m=\u001b[39m\u001b[38;5;28;01mNone\u001b[39;00m, sample_weight\u001b[38;5;241m=\u001b[39m\u001b[38;5;28;01mNone\u001b[39;00m, normalize\u001b[38;5;241m=\u001b[39m\u001b[38;5;28;01mNone\u001b[39;00m\n\u001b[0;32m    224\u001b[0m ):\n\u001b[0;32m    225\u001b[0m     \u001b[38;5;124;03m\"\"\"Compute confusion matrix to evaluate the accuracy of a classification.\u001b[39;00m\n\u001b[0;32m    226\u001b[0m \n\u001b[0;32m    227\u001b[0m \u001b[38;5;124;03m    By definition a confusion matrix :math:`C` is such that :math:`C_{i, j}`\u001b[39;00m\n\u001b[1;32m   (...)\u001b[0m\n\u001b[0;32m    305\u001b[0m \u001b[38;5;124;03m    (0, 2, 1, 1)\u001b[39;00m\n\u001b[0;32m    306\u001b[0m \u001b[38;5;124;03m    \"\"\"\u001b[39;00m\n\u001b[1;32m--> 307\u001b[0m     y_type, y_true, y_pred \u001b[38;5;241m=\u001b[39m \u001b[43m_check_targets\u001b[49m\u001b[43m(\u001b[49m\u001b[43my_true\u001b[49m\u001b[43m,\u001b[49m\u001b[43m \u001b[49m\u001b[43my_pred\u001b[49m\u001b[43m)\u001b[49m\n\u001b[0;32m    308\u001b[0m     \u001b[38;5;28;01mif\u001b[39;00m y_type \u001b[38;5;129;01mnot\u001b[39;00m \u001b[38;5;129;01min\u001b[39;00m (\u001b[38;5;124m\"\u001b[39m\u001b[38;5;124mbinary\u001b[39m\u001b[38;5;124m\"\u001b[39m, \u001b[38;5;124m\"\u001b[39m\u001b[38;5;124mmulticlass\u001b[39m\u001b[38;5;124m\"\u001b[39m):\n\u001b[0;32m    309\u001b[0m         \u001b[38;5;28;01mraise\u001b[39;00m \u001b[38;5;167;01mValueError\u001b[39;00m(\u001b[38;5;124m\"\u001b[39m\u001b[38;5;132;01m%s\u001b[39;00m\u001b[38;5;124m is not supported\u001b[39m\u001b[38;5;124m\"\u001b[39m \u001b[38;5;241m%\u001b[39m y_type)\n",
      "File \u001b[1;32m~\\anaconda3\\envs\\tf-gpu\\lib\\site-packages\\sklearn\\metrics\\_classification.py:93\u001b[0m, in \u001b[0;36m_check_targets\u001b[1;34m(y_true, y_pred)\u001b[0m\n\u001b[0;32m     90\u001b[0m     y_type \u001b[38;5;241m=\u001b[39m {\u001b[38;5;124m\"\u001b[39m\u001b[38;5;124mmulticlass\u001b[39m\u001b[38;5;124m\"\u001b[39m}\n\u001b[0;32m     92\u001b[0m \u001b[38;5;28;01mif\u001b[39;00m \u001b[38;5;28mlen\u001b[39m(y_type) \u001b[38;5;241m>\u001b[39m \u001b[38;5;241m1\u001b[39m:\n\u001b[1;32m---> 93\u001b[0m     \u001b[38;5;28;01mraise\u001b[39;00m \u001b[38;5;167;01mValueError\u001b[39;00m(\n\u001b[0;32m     94\u001b[0m         \u001b[38;5;124m\"\u001b[39m\u001b[38;5;124mClassification metrics can\u001b[39m\u001b[38;5;124m'\u001b[39m\u001b[38;5;124mt handle a mix of \u001b[39m\u001b[38;5;132;01m{0}\u001b[39;00m\u001b[38;5;124m and \u001b[39m\u001b[38;5;132;01m{1}\u001b[39;00m\u001b[38;5;124m targets\u001b[39m\u001b[38;5;124m\"\u001b[39m\u001b[38;5;241m.\u001b[39mformat(\n\u001b[0;32m     95\u001b[0m             type_true, type_pred\n\u001b[0;32m     96\u001b[0m         )\n\u001b[0;32m     97\u001b[0m     )\n\u001b[0;32m     99\u001b[0m \u001b[38;5;66;03m# We can't have more than one value on y_type => The set is no more needed\u001b[39;00m\n\u001b[0;32m    100\u001b[0m y_type \u001b[38;5;241m=\u001b[39m y_type\u001b[38;5;241m.\u001b[39mpop()\n",
      "\u001b[1;31mValueError\u001b[0m: Classification metrics can't handle a mix of binary and continuous targets"
     ]
    }
   ],
   "source": [
    "# Create a confusion matrix\n",
    "from sklearn.metrics import confusion_matrix\n",
    "\n",
    "# Make predictions\n",
    "y_preds = model_10.predict(X_test)\n",
    "\n",
    "# Create confusion matrix\n",
    "confusion_matrix(y_test, y_preds)"
   ]
  },
  {
   "cell_type": "code",
   "execution_count": 108,
   "id": "fc676916",
   "metadata": {},
   "outputs": [
    {
     "data": {
      "text/plain": [
       "(array([0, 0, 1, 0, 0, 1, 0, 1, 1, 0, 0, 0, 1, 1, 0, 1, 1, 0, 1, 0, 1, 1,\n",
       "        1, 1, 1, 1, 1, 1, 0, 1, 0, 0, 1, 0, 1, 0, 0, 0, 1, 1, 0, 1, 1, 1,\n",
       "        0, 1, 1, 0, 1, 1, 0, 0, 0, 1, 0, 1, 1, 1, 0, 1, 1, 1, 0, 0, 1, 0,\n",
       "        1, 0, 1, 1, 0, 0, 1, 0, 1, 1, 1, 0, 0, 0, 1, 1, 0, 1, 0, 0, 1, 1,\n",
       "        0, 1, 1, 0, 0, 1, 0, 1, 0, 1, 0, 1, 1, 0, 0, 0, 1, 0, 0, 1, 0, 0,\n",
       "        0, 1, 0, 0, 1, 0, 1, 0, 0, 1, 1, 1, 1, 1, 1, 1, 1, 0, 1, 0, 1, 0,\n",
       "        0, 0, 0, 0, 1, 0, 1, 1, 1, 1, 1, 1, 1, 1, 0, 1, 1, 1, 1, 1, 1, 1,\n",
       "        1, 0, 1, 1, 1, 1, 0, 0, 1, 1, 0, 1, 1, 0, 0, 0, 1, 1, 1, 1, 1, 1,\n",
       "        1, 1, 1, 1, 1, 1, 1, 1, 1, 0, 0, 1, 1, 0, 0, 0, 1, 1, 1, 1, 0, 1,\n",
       "        0, 1, 1, 0, 1, 1, 0, 1, 0, 1, 0, 1, 0, 0, 1, 1, 1, 0, 1, 1, 0, 0,\n",
       "        0, 0, 0, 0, 1, 1, 1, 1, 0, 1, 0, 1, 0, 1, 0, 0, 0, 0, 1, 1, 0, 0,\n",
       "        1, 1, 0, 0, 0, 0, 1, 0, 1, 0, 1, 1, 0, 0, 0, 1, 0, 0, 1, 1, 1, 1,\n",
       "        0, 1, 1, 0, 1, 0, 1, 0, 1, 1, 0, 0, 0, 0, 0, 0, 1, 0, 0, 1, 0, 1,\n",
       "        0, 1, 1, 1, 1, 1, 0, 1, 0, 1, 0, 0, 0, 0, 1, 0, 0, 0, 1, 1, 1, 1,\n",
       "        0, 1, 1, 1, 1, 1, 1, 1, 0, 0, 0, 0, 1, 1, 1, 1, 0, 1, 0, 0, 1, 0,\n",
       "        0, 0, 0, 0, 0, 1, 0, 0, 0, 0, 1, 1, 1, 1, 0, 1, 1, 1, 0, 1, 0, 0,\n",
       "        0, 1, 0, 0, 1, 1, 0, 1, 0, 1, 0, 0, 0, 0, 1, 0, 1, 0, 0, 1, 0, 0,\n",
       "        1, 1, 0, 0, 1, 1, 0, 1, 0, 1, 1, 0, 1, 0, 1, 0, 0, 1, 1, 1, 1, 1,\n",
       "        1, 0, 1, 1], dtype=int64),\n",
       " array([[2.33795401e-02],\n",
       "        [5.07674873e-01],\n",
       "        [9.92858171e-01],\n",
       "        [4.59352508e-02],\n",
       "        [1.99990254e-02],\n",
       "        [9.92667973e-01],\n",
       "        [3.37106059e-04],\n",
       "        [9.49679792e-01],\n",
       "        [9.93288577e-01],\n",
       "        [7.06755230e-03],\n",
       "        [1.54374482e-03],\n",
       "        [1.80208925e-02],\n",
       "        [9.94614899e-01],\n",
       "        [8.28876138e-01],\n",
       "        [6.65104836e-02],\n",
       "        [9.83430624e-01],\n",
       "        [9.99035239e-01],\n",
       "        [2.03861156e-04],\n",
       "        [9.94768143e-01],\n",
       "        [1.49807390e-02],\n",
       "        [9.92042840e-01],\n",
       "        [9.95591164e-01],\n",
       "        [9.98782098e-01],\n",
       "        [9.71019804e-01],\n",
       "        [9.87119913e-01],\n",
       "        [9.97222900e-01],\n",
       "        [9.65667307e-01],\n",
       "        [9.88222539e-01],\n",
       "        [1.32616395e-02],\n",
       "        [9.72376645e-01],\n",
       "        [4.31285252e-06],\n",
       "        [4.81564769e-07],\n",
       "        [9.99286354e-01],\n",
       "        [1.19454656e-02],\n",
       "        [9.80765402e-01],\n",
       "        [4.00679484e-02],\n",
       "        [1.78149551e-01],\n",
       "        [1.11336851e-06],\n",
       "        [9.50192809e-01],\n",
       "        [9.98272419e-01],\n",
       "        [2.30485592e-02],\n",
       "        [9.98143196e-01],\n",
       "        [9.20103133e-01],\n",
       "        [8.73932242e-01],\n",
       "        [1.90607752e-05],\n",
       "        [9.82782841e-01],\n",
       "        [9.76597488e-01],\n",
       "        [3.33142444e-03],\n",
       "        [9.98925030e-01],\n",
       "        [9.46060002e-01],\n",
       "        [4.05164100e-02],\n",
       "        [1.50924316e-05],\n",
       "        [7.29788007e-05],\n",
       "        [9.99130309e-01],\n",
       "        [3.15172685e-04],\n",
       "        [9.98888671e-01],\n",
       "        [9.96797264e-01],\n",
       "        [9.84383702e-01],\n",
       "        [8.81790547e-05],\n",
       "        [9.97012496e-01],\n",
       "        [9.82864618e-01],\n",
       "        [9.94496167e-01],\n",
       "        [1.11375423e-03],\n",
       "        [5.41045470e-03],\n",
       "        [9.97803628e-01],\n",
       "        [1.14591075e-02],\n",
       "        [9.97642338e-01],\n",
       "        [1.30748264e-02],\n",
       "        [9.36402261e-01],\n",
       "        [9.93214488e-01],\n",
       "        [2.56861318e-02],\n",
       "        [3.14294845e-02],\n",
       "        [9.74951088e-01],\n",
       "        [3.83759625e-02],\n",
       "        [9.97057796e-01],\n",
       "        [9.98009026e-01],\n",
       "        [9.88210440e-01],\n",
       "        [8.20716377e-06],\n",
       "        [1.54702719e-02],\n",
       "        [3.07319984e-02],\n",
       "        [9.95726466e-01],\n",
       "        [9.62191403e-01],\n",
       "        [1.21833371e-04],\n",
       "        [9.98103142e-01],\n",
       "        [3.07032056e-02],\n",
       "        [1.95619985e-01],\n",
       "        [9.97415900e-01],\n",
       "        [9.99179304e-01],\n",
       "        [6.83929841e-07],\n",
       "        [8.85797977e-01],\n",
       "        [9.98496771e-01],\n",
       "        [3.96619638e-04],\n",
       "        [2.47650692e-04],\n",
       "        [9.53045547e-01],\n",
       "        [5.21930270e-02],\n",
       "        [9.89753842e-01],\n",
       "        [1.44342281e-04],\n",
       "        [9.80865717e-01],\n",
       "        [2.95261952e-06],\n",
       "        [9.98539925e-01],\n",
       "        [9.82448936e-01],\n",
       "        [1.53443478e-02],\n",
       "        [2.74328244e-07],\n",
       "        [1.76669247e-02],\n",
       "        [9.94619846e-01],\n",
       "        [3.38152386e-05],\n",
       "        [9.58488497e-04],\n",
       "        [9.90809798e-01],\n",
       "        [2.62546428e-02],\n",
       "        [1.25360163e-02],\n",
       "        [4.61248728e-03],\n",
       "        [9.76442099e-01],\n",
       "        [2.49486417e-03],\n",
       "        [1.39286334e-04],\n",
       "        [9.77829456e-01],\n",
       "        [8.88154376e-04],\n",
       "        [8.95228326e-01],\n",
       "        [4.82164742e-03],\n",
       "        [1.41863816e-03],\n",
       "        [9.35368896e-01],\n",
       "        [9.97393370e-01],\n",
       "        [9.82041597e-01],\n",
       "        [9.94293213e-01],\n",
       "        [9.64599967e-01],\n",
       "        [9.98538852e-01],\n",
       "        [9.97343481e-01],\n",
       "        [9.85761523e-01],\n",
       "        [4.22277924e-04],\n",
       "        [9.99039471e-01],\n",
       "        [5.87839819e-03],\n",
       "        [8.91039729e-01],\n",
       "        [5.32369353e-02],\n",
       "        [3.59890163e-01],\n",
       "        [2.01629996e-06],\n",
       "        [6.02680593e-05],\n",
       "        [8.57557810e-04],\n",
       "        [9.97921407e-01],\n",
       "        [2.55786767e-03],\n",
       "        [9.92590666e-01],\n",
       "        [9.97132778e-01],\n",
       "        [9.80869770e-01],\n",
       "        [9.81031716e-01],\n",
       "        [9.89748657e-01],\n",
       "        [9.88770843e-01],\n",
       "        [9.52369213e-01],\n",
       "        [9.97996509e-01],\n",
       "        [1.57784016e-04],\n",
       "        [9.87507284e-01],\n",
       "        [9.97947395e-01],\n",
       "        [9.64644790e-01],\n",
       "        [9.89796937e-01],\n",
       "        [9.07379687e-01],\n",
       "        [9.92668390e-01],\n",
       "        [9.72373188e-01],\n",
       "        [9.36483681e-01],\n",
       "        [1.37847200e-01],\n",
       "        [9.94892120e-01],\n",
       "        [9.83384371e-01],\n",
       "        [9.98820722e-01],\n",
       "        [9.97156858e-01],\n",
       "        [2.42751092e-03],\n",
       "        [1.28391692e-02],\n",
       "        [8.92482698e-01],\n",
       "        [9.97322142e-01],\n",
       "        [1.30821567e-03],\n",
       "        [9.55438852e-01],\n",
       "        [7.00267494e-01],\n",
       "        [2.71431800e-05],\n",
       "        [4.61024791e-01],\n",
       "        [2.11073123e-02],\n",
       "        [9.13551688e-01],\n",
       "        [9.93997335e-01],\n",
       "        [9.92326260e-01],\n",
       "        [9.82575178e-01],\n",
       "        [9.98859406e-01],\n",
       "        [9.98219073e-01],\n",
       "        [9.97053862e-01],\n",
       "        [9.65742230e-01],\n",
       "        [9.71000791e-01],\n",
       "        [9.97631669e-01],\n",
       "        [9.98087168e-01],\n",
       "        [9.97145355e-01],\n",
       "        [9.95200634e-01],\n",
       "        [9.97293651e-01],\n",
       "        [7.70879209e-01],\n",
       "        [3.45377848e-02],\n",
       "        [6.91099733e-04],\n",
       "        [9.91654158e-01],\n",
       "        [9.95590806e-01],\n",
       "        [1.68205462e-02],\n",
       "        [1.67029630e-03],\n",
       "        [3.61199345e-04],\n",
       "        [9.96009827e-01],\n",
       "        [8.49201620e-01],\n",
       "        [9.98578310e-01],\n",
       "        [9.99285281e-01],\n",
       "        [1.33367376e-02],\n",
       "        [9.92603362e-01],\n",
       "        [2.17055576e-03],\n",
       "        [9.98591006e-01],\n",
       "        [9.97724473e-01],\n",
       "        [2.84994626e-03],\n",
       "        [7.93213367e-01],\n",
       "        [9.89896297e-01],\n",
       "        [1.27435803e-01],\n",
       "        [9.98541117e-01],\n",
       "        [8.91427917e-05],\n",
       "        [9.96466517e-01],\n",
       "        [1.14651257e-02],\n",
       "        [8.12313795e-01],\n",
       "        [4.10599896e-04],\n",
       "        [1.00025069e-02],\n",
       "        [9.76381958e-01],\n",
       "        [9.93906081e-01],\n",
       "        [9.97102439e-01],\n",
       "        [2.50281170e-02],\n",
       "        [9.53167319e-01],\n",
       "        [9.96993899e-01],\n",
       "        [5.09335659e-04],\n",
       "        [2.71757785e-03],\n",
       "        [3.84753458e-02],\n",
       "        [2.23304029e-03],\n",
       "        [2.10302547e-04],\n",
       "        [3.89082208e-02],\n",
       "        [9.74693298e-01],\n",
       "        [9.09834802e-01],\n",
       "        [9.94530737e-01],\n",
       "        [9.97836173e-01],\n",
       "        [1.09777518e-01],\n",
       "        [7.27595627e-01],\n",
       "        [1.42701240e-02],\n",
       "        [9.97965455e-01],\n",
       "        [8.95470614e-04],\n",
       "        [8.86821330e-01],\n",
       "        [5.90925384e-03],\n",
       "        [2.04402022e-03],\n",
       "        [8.33212049e-04],\n",
       "        [7.48615339e-02],\n",
       "        [9.96958852e-01],\n",
       "        [9.95417118e-01],\n",
       "        [1.47772685e-03],\n",
       "        [4.52072322e-02],\n",
       "        [9.93496537e-01],\n",
       "        [9.95587230e-01],\n",
       "        [2.20853221e-02],\n",
       "        [2.99478412e-01],\n",
       "        [1.01994828e-03],\n",
       "        [1.83309658e-05],\n",
       "        [9.93746638e-01],\n",
       "        [1.13708666e-02],\n",
       "        [9.97335851e-01],\n",
       "        [4.44837939e-03],\n",
       "        [9.90916789e-01],\n",
       "        [9.97061551e-01],\n",
       "        [6.37039921e-05],\n",
       "        [3.51981435e-04],\n",
       "        [9.33471660e-04],\n",
       "        [9.90626216e-01],\n",
       "        [2.10958053e-04],\n",
       "        [9.94830281e-02],\n",
       "        [9.94005144e-01],\n",
       "        [9.99251068e-01],\n",
       "        [9.95866895e-01],\n",
       "        [9.97091413e-01],\n",
       "        [1.23545723e-02],\n",
       "        [9.98437822e-01],\n",
       "        [8.95593882e-01],\n",
       "        [3.75289768e-02],\n",
       "        [9.81237352e-01],\n",
       "        [9.46982205e-02],\n",
       "        [9.94519174e-01],\n",
       "        [4.04351169e-07],\n",
       "        [9.99241948e-01],\n",
       "        [9.94561255e-01],\n",
       "        [1.07079193e-01],\n",
       "        [3.77828516e-02],\n",
       "        [1.10073925e-04],\n",
       "        [9.98383015e-03],\n",
       "        [3.04974001e-02],\n",
       "        [2.90906280e-01],\n",
       "        [9.94488299e-01],\n",
       "        [9.89911612e-04],\n",
       "        [1.80302203e-01],\n",
       "        [9.98765349e-01],\n",
       "        [5.92994445e-04],\n",
       "        [9.72879887e-01],\n",
       "        [6.65243436e-03],\n",
       "        [9.79129732e-01],\n",
       "        [9.94390547e-01],\n",
       "        [8.83265853e-01],\n",
       "        [9.68441904e-01],\n",
       "        [9.94313836e-01],\n",
       "        [3.91570620e-06],\n",
       "        [9.94067073e-01],\n",
       "        [1.03715293e-01],\n",
       "        [9.84823346e-01],\n",
       "        [2.00697454e-03],\n",
       "        [2.45539668e-05],\n",
       "        [1.01065531e-01],\n",
       "        [5.04762051e-04],\n",
       "        [9.66481268e-01],\n",
       "        [6.14874996e-04],\n",
       "        [1.91439223e-02],\n",
       "        [1.03551394e-03],\n",
       "        [9.93429363e-01],\n",
       "        [9.94706094e-01],\n",
       "        [9.98747110e-01],\n",
       "        [8.93960238e-01],\n",
       "        [1.28924241e-03],\n",
       "        [9.87801254e-01],\n",
       "        [9.96150136e-01],\n",
       "        [9.95140791e-01],\n",
       "        [9.47842062e-01],\n",
       "        [9.90762293e-01],\n",
       "        [8.76376450e-01],\n",
       "        [9.97784555e-01],\n",
       "        [3.86814034e-04],\n",
       "        [6.32587122e-04],\n",
       "        [2.15605628e-02],\n",
       "        [1.98986858e-01],\n",
       "        [9.80030000e-01],\n",
       "        [9.97365296e-01],\n",
       "        [9.98491526e-01],\n",
       "        [9.93469119e-01],\n",
       "        [7.11740460e-03],\n",
       "        [9.98748302e-01],\n",
       "        [1.78655554e-02],\n",
       "        [2.49004420e-02],\n",
       "        [9.94814813e-01],\n",
       "        [3.43933515e-02],\n",
       "        [3.06132040e-03],\n",
       "        [6.69066329e-04],\n",
       "        [1.16426297e-01],\n",
       "        [7.54274502e-02],\n",
       "        [5.19952213e-04],\n",
       "        [7.57346511e-01],\n",
       "        [6.47975176e-05],\n",
       "        [3.42738489e-03],\n",
       "        [2.76079209e-05],\n",
       "        [5.25170207e-01],\n",
       "        [9.52619791e-01],\n",
       "        [9.95236099e-01],\n",
       "        [9.67586160e-01],\n",
       "        [9.96262252e-01],\n",
       "        [1.89707184e-03],\n",
       "        [7.47123837e-01],\n",
       "        [9.73846912e-01],\n",
       "        [9.76864517e-01],\n",
       "        [2.93226843e-03],\n",
       "        [9.99189317e-01],\n",
       "        [8.87458771e-03],\n",
       "        [1.41784694e-04],\n",
       "        [2.15707023e-05],\n",
       "        [9.86297369e-01],\n",
       "        [4.67954320e-04],\n",
       "        [2.48411926e-03],\n",
       "        [9.96067226e-01],\n",
       "        [9.92685795e-01],\n",
       "        [6.67934194e-02],\n",
       "        [9.93010819e-01],\n",
       "        [4.48466605e-03],\n",
       "        [9.91964579e-01],\n",
       "        [5.51623479e-02],\n",
       "        [8.03803001e-03],\n",
       "        [2.40130699e-03],\n",
       "        [1.11259360e-05],\n",
       "        [9.97891724e-01],\n",
       "        [1.23971258e-03],\n",
       "        [9.98939097e-01],\n",
       "        [9.69759002e-03],\n",
       "        [3.80921142e-06],\n",
       "        [9.94066715e-01],\n",
       "        [1.01464521e-02],\n",
       "        [5.09826578e-02],\n",
       "        [9.76306021e-01],\n",
       "        [9.74453449e-01],\n",
       "        [4.25855890e-02],\n",
       "        [8.47737584e-03],\n",
       "        [9.98139858e-01],\n",
       "        [9.69964147e-01],\n",
       "        [1.62453463e-04],\n",
       "        [9.93194938e-01],\n",
       "        [5.15152104e-02],\n",
       "        [9.90384340e-01],\n",
       "        [9.45567548e-01],\n",
       "        [1.50448424e-04],\n",
       "        [9.97669399e-01],\n",
       "        [1.65615201e-01],\n",
       "        [9.89445984e-01],\n",
       "        [4.25846130e-03],\n",
       "        [7.07165047e-04],\n",
       "        [9.97262359e-01],\n",
       "        [9.93776798e-01],\n",
       "        [9.76129293e-01],\n",
       "        [9.97271240e-01],\n",
       "        [9.95236099e-01],\n",
       "        [9.61340725e-01],\n",
       "        [1.78431552e-02],\n",
       "        [9.91084874e-01],\n",
       "        [9.96321559e-01]], dtype=float32))"
      ]
     },
     "execution_count": 108,
     "metadata": {},
     "output_type": "execute_result"
    }
   ],
   "source": [
    "y_test, y_preds"
   ]
  },
  {
   "cell_type": "code",
   "execution_count": 110,
   "id": "747b6ea5",
   "metadata": {},
   "outputs": [
    {
     "data": {
      "text/plain": [
       "array([2.33795401e-02, 5.07674873e-01, 9.92858171e-01, 4.59352508e-02,\n",
       "       1.99990254e-02, 9.92667973e-01, 3.37106059e-04, 9.49679792e-01,\n",
       "       9.93288577e-01, 7.06755230e-03, 1.54374482e-03, 1.80208925e-02,\n",
       "       9.94614899e-01, 8.28876138e-01, 6.65104836e-02, 9.83430624e-01,\n",
       "       9.99035239e-01, 2.03861156e-04, 9.94768143e-01, 1.49807390e-02,\n",
       "       9.92042840e-01, 9.95591164e-01, 9.98782098e-01, 9.71019804e-01,\n",
       "       9.87119913e-01, 9.97222900e-01, 9.65667307e-01, 9.88222539e-01,\n",
       "       1.32616395e-02, 9.72376645e-01, 4.31285252e-06, 4.81564769e-07,\n",
       "       9.99286354e-01, 1.19454656e-02, 9.80765402e-01, 4.00679484e-02,\n",
       "       1.78149551e-01, 1.11336851e-06, 9.50192809e-01, 9.98272419e-01,\n",
       "       2.30485592e-02, 9.98143196e-01, 9.20103133e-01, 8.73932242e-01,\n",
       "       1.90607752e-05, 9.82782841e-01, 9.76597488e-01, 3.33142444e-03,\n",
       "       9.98925030e-01, 9.46060002e-01, 4.05164100e-02, 1.50924316e-05,\n",
       "       7.29788007e-05, 9.99130309e-01, 3.15172685e-04, 9.98888671e-01,\n",
       "       9.96797264e-01, 9.84383702e-01, 8.81790547e-05, 9.97012496e-01,\n",
       "       9.82864618e-01, 9.94496167e-01, 1.11375423e-03, 5.41045470e-03,\n",
       "       9.97803628e-01, 1.14591075e-02, 9.97642338e-01, 1.30748264e-02,\n",
       "       9.36402261e-01, 9.93214488e-01, 2.56861318e-02, 3.14294845e-02,\n",
       "       9.74951088e-01, 3.83759625e-02, 9.97057796e-01, 9.98009026e-01,\n",
       "       9.88210440e-01, 8.20716377e-06, 1.54702719e-02, 3.07319984e-02,\n",
       "       9.95726466e-01, 9.62191403e-01, 1.21833371e-04, 9.98103142e-01,\n",
       "       3.07032056e-02, 1.95619985e-01, 9.97415900e-01, 9.99179304e-01,\n",
       "       6.83929841e-07, 8.85797977e-01, 9.98496771e-01, 3.96619638e-04,\n",
       "       2.47650692e-04, 9.53045547e-01, 5.21930270e-02, 9.89753842e-01,\n",
       "       1.44342281e-04, 9.80865717e-01, 2.95261952e-06, 9.98539925e-01,\n",
       "       9.82448936e-01, 1.53443478e-02, 2.74328244e-07, 1.76669247e-02,\n",
       "       9.94619846e-01, 3.38152386e-05, 9.58488497e-04, 9.90809798e-01,\n",
       "       2.62546428e-02, 1.25360163e-02, 4.61248728e-03, 9.76442099e-01,\n",
       "       2.49486417e-03, 1.39286334e-04, 9.77829456e-01, 8.88154376e-04,\n",
       "       8.95228326e-01, 4.82164742e-03, 1.41863816e-03, 9.35368896e-01,\n",
       "       9.97393370e-01, 9.82041597e-01, 9.94293213e-01, 9.64599967e-01,\n",
       "       9.98538852e-01, 9.97343481e-01, 9.85761523e-01, 4.22277924e-04,\n",
       "       9.99039471e-01, 5.87839819e-03, 8.91039729e-01, 5.32369353e-02,\n",
       "       3.59890163e-01, 2.01629996e-06, 6.02680593e-05, 8.57557810e-04,\n",
       "       9.97921407e-01, 2.55786767e-03, 9.92590666e-01, 9.97132778e-01,\n",
       "       9.80869770e-01, 9.81031716e-01, 9.89748657e-01, 9.88770843e-01,\n",
       "       9.52369213e-01, 9.97996509e-01, 1.57784016e-04, 9.87507284e-01,\n",
       "       9.97947395e-01, 9.64644790e-01, 9.89796937e-01, 9.07379687e-01,\n",
       "       9.92668390e-01, 9.72373188e-01, 9.36483681e-01, 1.37847200e-01,\n",
       "       9.94892120e-01, 9.83384371e-01, 9.98820722e-01, 9.97156858e-01,\n",
       "       2.42751092e-03, 1.28391692e-02, 8.92482698e-01, 9.97322142e-01,\n",
       "       1.30821567e-03, 9.55438852e-01, 7.00267494e-01, 2.71431800e-05,\n",
       "       4.61024791e-01, 2.11073123e-02, 9.13551688e-01, 9.93997335e-01,\n",
       "       9.92326260e-01, 9.82575178e-01, 9.98859406e-01, 9.98219073e-01,\n",
       "       9.97053862e-01, 9.65742230e-01, 9.71000791e-01, 9.97631669e-01,\n",
       "       9.98087168e-01, 9.97145355e-01, 9.95200634e-01, 9.97293651e-01,\n",
       "       7.70879209e-01, 3.45377848e-02, 6.91099733e-04, 9.91654158e-01,\n",
       "       9.95590806e-01, 1.68205462e-02, 1.67029630e-03, 3.61199345e-04,\n",
       "       9.96009827e-01, 8.49201620e-01, 9.98578310e-01, 9.99285281e-01,\n",
       "       1.33367376e-02, 9.92603362e-01, 2.17055576e-03, 9.98591006e-01,\n",
       "       9.97724473e-01, 2.84994626e-03, 7.93213367e-01, 9.89896297e-01,\n",
       "       1.27435803e-01, 9.98541117e-01, 8.91427917e-05, 9.96466517e-01,\n",
       "       1.14651257e-02, 8.12313795e-01, 4.10599896e-04, 1.00025069e-02,\n",
       "       9.76381958e-01, 9.93906081e-01, 9.97102439e-01, 2.50281170e-02,\n",
       "       9.53167319e-01, 9.96993899e-01, 5.09335659e-04, 2.71757785e-03,\n",
       "       3.84753458e-02, 2.23304029e-03, 2.10302547e-04, 3.89082208e-02,\n",
       "       9.74693298e-01, 9.09834802e-01, 9.94530737e-01, 9.97836173e-01,\n",
       "       1.09777518e-01, 7.27595627e-01, 1.42701240e-02, 9.97965455e-01,\n",
       "       8.95470614e-04, 8.86821330e-01, 5.90925384e-03, 2.04402022e-03,\n",
       "       8.33212049e-04, 7.48615339e-02, 9.96958852e-01, 9.95417118e-01,\n",
       "       1.47772685e-03, 4.52072322e-02, 9.93496537e-01, 9.95587230e-01,\n",
       "       2.20853221e-02, 2.99478412e-01, 1.01994828e-03, 1.83309658e-05,\n",
       "       9.93746638e-01, 1.13708666e-02, 9.97335851e-01, 4.44837939e-03,\n",
       "       9.90916789e-01, 9.97061551e-01, 6.37039921e-05, 3.51981435e-04,\n",
       "       9.33471660e-04, 9.90626216e-01, 2.10958053e-04, 9.94830281e-02,\n",
       "       9.94005144e-01, 9.99251068e-01, 9.95866895e-01, 9.97091413e-01,\n",
       "       1.23545723e-02, 9.98437822e-01, 8.95593882e-01, 3.75289768e-02,\n",
       "       9.81237352e-01, 9.46982205e-02, 9.94519174e-01, 4.04351169e-07,\n",
       "       9.99241948e-01, 9.94561255e-01, 1.07079193e-01, 3.77828516e-02,\n",
       "       1.10073925e-04, 9.98383015e-03, 3.04974001e-02, 2.90906280e-01,\n",
       "       9.94488299e-01, 9.89911612e-04, 1.80302203e-01, 9.98765349e-01,\n",
       "       5.92994445e-04, 9.72879887e-01, 6.65243436e-03, 9.79129732e-01,\n",
       "       9.94390547e-01, 8.83265853e-01, 9.68441904e-01, 9.94313836e-01,\n",
       "       3.91570620e-06, 9.94067073e-01, 1.03715293e-01, 9.84823346e-01,\n",
       "       2.00697454e-03, 2.45539668e-05, 1.01065531e-01, 5.04762051e-04,\n",
       "       9.66481268e-01, 6.14874996e-04, 1.91439223e-02, 1.03551394e-03,\n",
       "       9.93429363e-01, 9.94706094e-01, 9.98747110e-01, 8.93960238e-01,\n",
       "       1.28924241e-03, 9.87801254e-01, 9.96150136e-01, 9.95140791e-01,\n",
       "       9.47842062e-01, 9.90762293e-01, 8.76376450e-01, 9.97784555e-01,\n",
       "       3.86814034e-04, 6.32587122e-04, 2.15605628e-02, 1.98986858e-01,\n",
       "       9.80030000e-01, 9.97365296e-01, 9.98491526e-01, 9.93469119e-01,\n",
       "       7.11740460e-03, 9.98748302e-01, 1.78655554e-02, 2.49004420e-02,\n",
       "       9.94814813e-01, 3.43933515e-02, 3.06132040e-03, 6.69066329e-04,\n",
       "       1.16426297e-01, 7.54274502e-02, 5.19952213e-04, 7.57346511e-01,\n",
       "       6.47975176e-05, 3.42738489e-03, 2.76079209e-05, 5.25170207e-01,\n",
       "       9.52619791e-01, 9.95236099e-01, 9.67586160e-01, 9.96262252e-01,\n",
       "       1.89707184e-03, 7.47123837e-01, 9.73846912e-01, 9.76864517e-01,\n",
       "       2.93226843e-03, 9.99189317e-01, 8.87458771e-03, 1.41784694e-04,\n",
       "       2.15707023e-05, 9.86297369e-01, 4.67954320e-04, 2.48411926e-03,\n",
       "       9.96067226e-01, 9.92685795e-01, 6.67934194e-02, 9.93010819e-01,\n",
       "       4.48466605e-03, 9.91964579e-01, 5.51623479e-02, 8.03803001e-03,\n",
       "       2.40130699e-03, 1.11259360e-05, 9.97891724e-01, 1.23971258e-03,\n",
       "       9.98939097e-01, 9.69759002e-03, 3.80921142e-06, 9.94066715e-01,\n",
       "       1.01464521e-02, 5.09826578e-02, 9.76306021e-01, 9.74453449e-01,\n",
       "       4.25855890e-02, 8.47737584e-03, 9.98139858e-01, 9.69964147e-01,\n",
       "       1.62453463e-04, 9.93194938e-01, 5.15152104e-02, 9.90384340e-01,\n",
       "       9.45567548e-01, 1.50448424e-04, 9.97669399e-01, 1.65615201e-01,\n",
       "       9.89445984e-01, 4.25846130e-03, 7.07165047e-04, 9.97262359e-01,\n",
       "       9.93776798e-01, 9.76129293e-01, 9.97271240e-01, 9.95236099e-01,\n",
       "       9.61340725e-01, 1.78431552e-02, 9.91084874e-01, 9.96321559e-01],\n",
       "      dtype=float32)"
      ]
     },
     "execution_count": 110,
     "metadata": {},
     "output_type": "execute_result"
    }
   ],
   "source": [
    "y_preds.flatten()"
   ]
  },
  {
   "cell_type": "code",
   "execution_count": 123,
   "id": "df8306f2",
   "metadata": {},
   "outputs": [],
   "source": [
    "# Create confusion matrix\n",
    "cm = confusion_matrix(y_test, tf.round(y_preds))"
   ]
  },
  {
   "cell_type": "code",
   "execution_count": 125,
   "id": "af09761e",
   "metadata": {},
   "outputs": [
    {
     "data": {
      "image/png": "[encoded data removed]",
      "text/plain": [
       "<Figure size 432x288 with 2 Axes>"
      ]
     },
     "metadata": {
      "needs_background": "light"
     },
     "output_type": "display_data"
    }
   ],
   "source": [
    "import seaborn as sns\n",
    "import matplotlib.pyplot as plt     \n",
    "\n",
    "ax= plt.subplot()\n",
    "sns.heatmap(cm, annot=True, fmt='g', ax=ax);  #annot=True to annotate cells, ftm='g' to disable scientific notation\n",
    "\n",
    "# labels, title and ticks\n",
    "ax.set_xlabel('Predicted labels');ax.set_ylabel('True labels'); \n",
    "ax.set_title('Confusion Matrix'); \n",
    "ax.xaxis.set_ticklabels(['red', 'blue']); ax.yaxis.set_ticklabels(['red', 'blue']);"
   ]
  },
  {
   "cell_type": "code",
   "execution_count": null,
   "id": "a69b9f13",
   "metadata": {},
   "outputs": [],
   "source": []
  }
 ],
 "metadata": {
  "kernelspec": {
   "display_name": "Python 3 (ipykernel)",
   "language": "python",
   "name": "python3"
  },
  "language_info": {
   "codemirror_mode": {
    "name": "ipython",
    "version": 3
   },
   "file_extension": ".py",
   "mimetype": "text/x-python",
   "name": "python",
   "nbconvert_exporter": "python",
   "pygments_lexer": "ipython3",
   "version": "3.9.12"
  }
 },
 "nbformat": 4,
 "nbformat_minor": 5
}
